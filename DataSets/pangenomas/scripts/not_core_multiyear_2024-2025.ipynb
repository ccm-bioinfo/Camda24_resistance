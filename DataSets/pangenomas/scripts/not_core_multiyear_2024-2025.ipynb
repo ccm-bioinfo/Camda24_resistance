{
 "cells": [
  {
   "cell_type": "code",
   "execution_count": null,
   "id": "4644af94-0907-4eb7-825a-c4445aab4ca2",
   "metadata": {},
   "outputs": [],
   "source": [
    "##############################################################\n",
    "# Script     : not_core.ipynb\n",
    "# Author     : Luis Raúl Figueroa Martínez\n",
    "# Date       : 11/06/2025\n",
    "# Description:\n",
    "#     Este script analiza pangenomas de las bacterias de CAMDA 2024 \n",
    "#     y CAMDA20 25 juntas para identificar\n",
    "#     familias de genes que no están presentes en todos los genomas,\n",
    "#     basándose en un umbral definido.\n",
    "#\n",
    "#     Para cada bacteria:\n",
    "#         - Calcula la frecuencia de presencia por familia.\n",
    "#         - Separa familias core y no core.\n",
    "#         - Guarda listas de familias no core.\n",
    "#         - Filtra la matriz de pangenoma para conservar solo\n",
    "#           las familias no core junto con las columnas base.\n",
    "#\n",
    "#\n",
    "# Requiere:\n",
    "#     - pandas\n",
    "#     - os\n",
    "##############################################################"
   ]
  },
  {
   "cell_type": "markdown",
   "id": "d54e4b41-95df-4e4a-89e5-99a23b06a0c3",
   "metadata": {},
   "source": [
    "## Familias  que no estan en el core 90%"
   ]
  },
  {
   "cell_type": "code",
   "execution_count": 1,
   "id": "fb59fddb-6865-4f84-bc2b-82812d29a477",
   "metadata": {},
   "outputs": [],
   "source": [
    "import pandas as pd\n",
    "import os"
   ]
  },
  {
   "cell_type": "code",
   "execution_count": 49,
   "id": "6928639b-c66f-4e79-95f2-4103ff2bb2c7",
   "metadata": {},
   "outputs": [],
   "source": [
    "def analizar_core_familias(nombre_bacteria: str, porcentaje_umbral: float):\n",
    "    \"\"\"\n",
    "    Analiza las familias de genes en un pangenoma y determina cuáles son core (comunes)\n",
    "    y cuáles no, basándose en un umbral porcentual de presencia en genomas.\n",
    "\n",
    "    Parámetros\n",
    "    ----------\n",
    "    nombre_bacteria : str\n",
    "        Nombre de la bacteria (sin el sufijo \"_merged\").\n",
    "    porcentaje_umbral : float\n",
    "        Umbral mínimo de presencia (entre 0 y 1) requerido para considerar una familia como core.\n",
    "        Por ejemplo, 0.95 significa \"presente en al menos el 95% de los genomas\".\n",
    "\n",
    "    Estructura esperada\n",
    "    -------------------\n",
    "    - Entrada: 'merged/{nombre_bacteria}_merged.tsv'\n",
    "    - Salidas:\n",
    "        - 'frecuencias/frecuencia_familia_vs_genomas_{nombre_bacteria}.csv'\n",
    "        - 'not_core/not_core_familias_{nombre_bacteria}.csv'\n",
    "    \"\"\"\n",
    "\n",
    "    archivo = f\"/files/atenea/CAMDA/2025/merged/{nombre_bacteria}_merged.tsv\"\n",
    "    if not os.path.exists(archivo):\n",
    "        print(f\" No se encontró el archivo: {archivo}\")\n",
    "        return\n",
    "\n",
    "    matriz = pd.read_csv(archivo, sep=\"\\t\")\n",
    "\n",
    "    # Seleccionar solo columnas de familias (desde la columna 8 en adelante)\n",
    "    familias_df = matriz.iloc[:, 7:]\n",
    "\n",
    "    # Número de genomas (columna 3, índice 2)\n",
    "    total_genomas = matriz.iloc[:, 2].nunique()\n",
    "\n",
    "    # Calcular frecuencia de cada familia (conteo de presencia > 0)\n",
    "    frecuencia_por_familia = (familias_df > 0).sum(axis=0)\n",
    "\n",
    "    frecuencia_df = pd.DataFrame({\n",
    "        \"familia\": familias_df.columns,\n",
    "        \"frecuencia_genomas\": frecuencia_por_familia.values\n",
    "    })\n",
    "\n",
    "    os.makedirs(\"frecuencias\", exist_ok=True)\n",
    "    os.makedirs(\"not_core\", exist_ok=True)\n",
    "\n",
    "    frecuencia_df.to_csv(f\"frecuencias/frecuencia_familia_vs_genomas_{nombre_bacteria}.csv\", index=False)\n",
    "\n",
    "    umbral = int(porcentaje_umbral * total_genomas)\n",
    "\n",
    "    # Clasificar familias\n",
    "    not_core_familias = frecuencia_df[\n",
    "        (frecuencia_df[\"frecuencia_genomas\"] < umbral) & (frecuencia_df[\"frecuencia_genomas\"] != 0)\n",
    "    ]\n",
    "    core_familias = frecuencia_df[frecuencia_df[\"frecuencia_genomas\"] >= umbral]\n",
    "    familias_sobrantes = (frecuencia_df[\"frecuencia_genomas\"] == 0).sum()\n",
    "\n",
    "    # Guardar las familias not-core\n",
    "    not_core_familias[[\"familia\"]].to_csv(f\"not_core/not_core_familias_{nombre_bacteria}.csv\", index=False)\n",
    "\n",
    "    # Imprimir resumen\n",
    "    print(f\" {nombre_bacteria} — Umbral: {int(porcentaje_umbral * 100)}%\")\n",
    "    print(f\" Familias core: {len(core_familias)}\")\n",
    "    print(f\" Familias not-core: {len(not_core_familias)}\")\n",
    "    print(f\" Familias ausentes en todos los genomas: {familias_sobrantes}\")\n"
   ]
  },
  {
   "cell_type": "markdown",
   "id": "8a80f432-8134-4c97-8627-4620fc302563",
   "metadata": {},
   "source": [
    "## Cortar pangenomas para conservar solo las familias que estan en el no core"
   ]
  },
  {
   "cell_type": "code",
   "execution_count": 41,
   "id": "11eb2060-1fa6-4ec4-abfa-23dcdefe92d5",
   "metadata": {},
   "outputs": [],
   "source": [
    "def filtrar_not_core(nombre_bacteria: str, porcentaje_umbral: float = 0.90):\n",
    "    \"\"\"\n",
    "    Filtra del pangenoma solo las familias not-core (presentes en algunos pero no en todos los genomas)\n",
    "    y elimina aquellas ausentes en todos.\n",
    "\n",
    "    Parámetros\n",
    "    ----------\n",
    "    nombre_bacteria : str\n",
    "        Nombre de la bacteria (ej. \"neisseria\").\n",
    "\n",
    "    porcentaje_umbral : float\n",
    "        Umbral para definir qué familias se consideran \"core\" (por defecto 0.90 = 90%).\n",
    "\n",
    "    Requiere\n",
    "    --------\n",
    "    - Archivo TSV en `merged/{nombre_bacteria}_merged.tsv`.\n",
    "    - Crea carpeta `pangenomas_filtrados/` si no existe.\n",
    "    \"\"\"\n",
    "\n",
    "    archivo_pangenoma = f\"/files/atenea/CAMDA/2025/merged/{nombre_bacteria}_merged.tsv\"\n",
    "    \n",
    "    df = pd.read_csv(archivo_pangenoma, sep='\\t')\n",
    "\n",
    "    familias_df = df.iloc[:, 7:]  # solo las columnas de familias\n",
    "    total_genomas = df.iloc[:, 2].nunique()\n",
    "\n",
    "    # Calcular frecuencia de presencia por familia\n",
    "    frecuencia = (familias_df > 0).sum(axis=0)\n",
    "\n",
    "    # Definir core y not-core (excluir también las de frecuencia 0)\n",
    "    umbral = int(porcentaje_umbral * total_genomas)\n",
    "    columnas_not_core = frecuencia[(frecuencia < umbral) & (frecuencia > 0)].index.tolist()\n",
    "\n",
    "    columnas_base = list(df.columns[:7])\n",
    "    columnas_filtradas = columnas_base + columnas_not_core\n",
    "    df_filtrado = df[columnas_filtradas]\n",
    "\n",
    "    os.makedirs(\"pangenomas_filtrados\", exist_ok=True)\n",
    "    salida = f\"pangenomas_filtrados/filtrado_{nombre_bacteria}.csv\"\n",
    "    df_filtrado.to_csv(salida, index=False)\n",
    "\n",
    "    print(f\" {nombre_bacteria} filtrado:\")\n",
    "    print(f\" Familias not-core conservadas: {len(columnas_not_core)}\")\n",
    "    print(f\" Familias eliminadas (core o ausentes): {familias_df.shape[1] - len(columnas_not_core)}\\n\")\n"
   ]
  },
  {
   "cell_type": "code",
   "execution_count": 28,
   "id": "32403445-8920-41d0-ae56-4563da5e0708",
   "metadata": {},
   "outputs": [
    {
     "name": "stdout",
     "output_type": "stream",
     "text": [
      " campylobacter — Umbral: 90%\n",
      " Familias core: 1439\n",
      " Familias not-core: 11995\n",
      " Familias ausentes en todos los genomas: 0\n"
     ]
    },
    {
     "name": "stderr",
     "output_type": "stream",
     "text": [
      "/tmp/ipykernel_2415661/615954747.py:30: DtypeWarning: Columns (5) have mixed types. Specify dtype option on import or set low_memory=False.\n",
      "  matriz = pd.read_csv(archivo, sep=\"\\t\")\n"
     ]
    }
   ],
   "source": [
    "analizar_core_familias(\"campylobacter\", 0.90)  # 90% de los genomas"
   ]
  },
  {
   "cell_type": "code",
   "execution_count": 43,
   "id": "9505ffbe-c55b-44f2-bddf-4402c0c41d6e",
   "metadata": {},
   "outputs": [
    {
     "name": "stderr",
     "output_type": "stream",
     "text": [
      "/tmp/ipykernel_2415661/3087308374.py:22: DtypeWarning: Columns (5) have mixed types. Specify dtype option on import or set low_memory=False.\n",
      "  df = pd.read_csv(archivo_pangenoma, sep='\\t')\n"
     ]
    },
    {
     "name": "stdout",
     "output_type": "stream",
     "text": [
      " campylobacter filtrado:\n",
      " Familias not-core conservadas: 11995\n",
      " Familias eliminadas (core o ausentes): 1439\n",
      "\n"
     ]
    }
   ],
   "source": [
    "filtrar_not_core(\"campylobacter\", 0.90)"
   ]
  },
  {
   "cell_type": "code",
   "execution_count": 29,
   "id": "b28c2521-72fc-4f9d-a5af-6fcb8ce9f34f",
   "metadata": {},
   "outputs": [
    {
     "name": "stderr",
     "output_type": "stream",
     "text": [
      "/tmp/ipykernel_2415661/615954747.py:30: DtypeWarning: Columns (5) have mixed types. Specify dtype option on import or set low_memory=False.\n",
      "  matriz = pd.read_csv(archivo, sep=\"\\t\")\n"
     ]
    },
    {
     "name": "stdout",
     "output_type": "stream",
     "text": [
      " acinetobacter — Umbral: 90%\n",
      " Familias core: 2918\n",
      " Familias not-core: 66861\n",
      " Familias ausentes en todos los genomas: 4\n"
     ]
    }
   ],
   "source": [
    "analizar_core_familias(\"acinetobacter\", 0.90)  # 90% de los genomas"
   ]
  },
  {
   "cell_type": "code",
   "execution_count": 44,
   "id": "c1842ad9-3a4e-4f11-9f53-bb3a65211695",
   "metadata": {},
   "outputs": [
    {
     "name": "stderr",
     "output_type": "stream",
     "text": [
      "/tmp/ipykernel_2415661/3087308374.py:22: DtypeWarning: Columns (5) have mixed types. Specify dtype option on import or set low_memory=False.\n",
      "  df = pd.read_csv(archivo_pangenoma, sep='\\t')\n"
     ]
    },
    {
     "name": "stdout",
     "output_type": "stream",
     "text": [
      " acinetobacter filtrado:\n",
      " Familias not-core conservadas: 66861\n",
      " Familias eliminadas (core o ausentes): 2922\n",
      "\n"
     ]
    }
   ],
   "source": [
    "filtrar_not_core(\"acinetobacter\", 0.90)"
   ]
  },
  {
   "cell_type": "code",
   "execution_count": 32,
   "id": "e2fbb0ed-99c6-4cbd-92f9-4a47fd631381",
   "metadata": {},
   "outputs": [
    {
     "name": "stderr",
     "output_type": "stream",
     "text": [
      "/tmp/ipykernel_2415661/615954747.py:30: DtypeWarning: Columns (5) have mixed types. Specify dtype option on import or set low_memory=False.\n",
      "  matriz = pd.read_csv(archivo, sep=\"\\t\")\n"
     ]
    },
    {
     "name": "stdout",
     "output_type": "stream",
     "text": [
      " neisseria — Umbral: 90%\n",
      " Familias core: 2042\n",
      " Familias not-core: 13604\n",
      " Familias ausentes en todos los genomas: 1\n"
     ]
    }
   ],
   "source": [
    "analizar_core_familias(\"neisseria\", 0.90)  # 90% de los genomas"
   ]
  },
  {
   "cell_type": "code",
   "execution_count": 42,
   "id": "f4f6c55c-b006-41bd-adcd-fe7a5071436d",
   "metadata": {},
   "outputs": [
    {
     "name": "stderr",
     "output_type": "stream",
     "text": [
      "/tmp/ipykernel_2415661/3087308374.py:22: DtypeWarning: Columns (5) have mixed types. Specify dtype option on import or set low_memory=False.\n",
      "  df = pd.read_csv(archivo_pangenoma, sep='\\t')\n"
     ]
    },
    {
     "name": "stdout",
     "output_type": "stream",
     "text": [
      " neisseria filtrado:\n",
      " Familias not-core conservadas: 13604\n",
      " Familias eliminadas (core o ausentes): 2043\n",
      "\n"
     ]
    }
   ],
   "source": [
    "filtrar_not_core(\"neisseria\", 0.90)"
   ]
  },
  {
   "cell_type": "code",
   "execution_count": 31,
   "id": "a58b438d-1035-40a5-8fc9-fb10430a38da",
   "metadata": {},
   "outputs": [
    {
     "name": "stderr",
     "output_type": "stream",
     "text": [
      "/tmp/ipykernel_2415661/615954747.py:30: DtypeWarning: Columns (5) have mixed types. Specify dtype option on import or set low_memory=False.\n",
      "  matriz = pd.read_csv(archivo, sep=\"\\t\")\n"
     ]
    },
    {
     "name": "stdout",
     "output_type": "stream",
     "text": [
      " escherichia — Umbral: 90%\n",
      " Familias core: 3414\n",
      " Familias not-core: 163692\n",
      " Familias ausentes en todos los genomas: 6635\n"
     ]
    }
   ],
   "source": [
    "analizar_core_familias(\"escherichia\", 0.90)  # 90% de los genomas"
   ]
  },
  {
   "cell_type": "code",
   "execution_count": 45,
   "id": "8ecfa5b6-835e-4426-8537-649f9114e725",
   "metadata": {},
   "outputs": [
    {
     "name": "stderr",
     "output_type": "stream",
     "text": [
      "/tmp/ipykernel_2415661/3087308374.py:22: DtypeWarning: Columns (5) have mixed types. Specify dtype option on import or set low_memory=False.\n",
      "  df = pd.read_csv(archivo_pangenoma, sep='\\t')\n"
     ]
    },
    {
     "name": "stdout",
     "output_type": "stream",
     "text": [
      " escherichia filtrado:\n",
      " Familias not-core conservadas: 163692\n",
      " Familias eliminadas (core o ausentes): 10049\n",
      "\n"
     ]
    }
   ],
   "source": [
    "filtrar_not_core(\"escherichia\", 0.90)"
   ]
  },
  {
   "cell_type": "code",
   "execution_count": 33,
   "id": "5affc275-88b6-4342-a633-da522ea98a0f",
   "metadata": {},
   "outputs": [
    {
     "name": "stderr",
     "output_type": "stream",
     "text": [
      "/tmp/ipykernel_2415661/615954747.py:30: DtypeWarning: Columns (5) have mixed types. Specify dtype option on import or set low_memory=False.\n",
      "  matriz = pd.read_csv(archivo, sep=\"\\t\")\n"
     ]
    },
    {
     "name": "stdout",
     "output_type": "stream",
     "text": [
      " pseudomonas — Umbral: 90%\n",
      " Familias core: 4366\n",
      " Familias not-core: 189486\n",
      " Familias ausentes en todos los genomas: 75\n"
     ]
    }
   ],
   "source": [
    "analizar_core_familias(\"pseudomonas\", 0.90)  # 90% de los genomas"
   ]
  },
  {
   "cell_type": "code",
   "execution_count": 46,
   "id": "6f6b46e3-f8ee-4ad4-acb4-0177425b48f5",
   "metadata": {},
   "outputs": [
    {
     "name": "stderr",
     "output_type": "stream",
     "text": [
      "/tmp/ipykernel_2415661/3087308374.py:22: DtypeWarning: Columns (5) have mixed types. Specify dtype option on import or set low_memory=False.\n",
      "  df = pd.read_csv(archivo_pangenoma, sep='\\t')\n"
     ]
    },
    {
     "name": "stdout",
     "output_type": "stream",
     "text": [
      " pseudomonas filtrado:\n",
      " Familias not-core conservadas: 189486\n",
      " Familias eliminadas (core o ausentes): 4441\n",
      "\n"
     ]
    }
   ],
   "source": [
    "filtrar_not_core(\"pseudomonas\", 0.90)"
   ]
  },
  {
   "cell_type": "code",
   "execution_count": 34,
   "id": "d902e2e9-6d0f-4057-9ff9-ca0863a7f7dd",
   "metadata": {},
   "outputs": [
    {
     "name": "stderr",
     "output_type": "stream",
     "text": [
      "/tmp/ipykernel_2415661/615954747.py:30: DtypeWarning: Columns (5) have mixed types. Specify dtype option on import or set low_memory=False.\n",
      "  matriz = pd.read_csv(archivo, sep=\"\\t\")\n"
     ]
    },
    {
     "name": "stdout",
     "output_type": "stream",
     "text": [
      " salmonella — Umbral: 90%\n",
      " Familias core: 3802\n",
      " Familias not-core: 46000\n",
      " Familias ausentes en todos los genomas: 0\n"
     ]
    }
   ],
   "source": [
    "analizar_core_familias(\"salmonella\", 0.90)  # 90% de los genomas"
   ]
  },
  {
   "cell_type": "code",
   "execution_count": 47,
   "id": "cdf055ea-4ca9-41cb-a4ed-a5acf36db6ea",
   "metadata": {},
   "outputs": [
    {
     "name": "stderr",
     "output_type": "stream",
     "text": [
      "/tmp/ipykernel_2415661/3087308374.py:22: DtypeWarning: Columns (5) have mixed types. Specify dtype option on import or set low_memory=False.\n",
      "  df = pd.read_csv(archivo_pangenoma, sep='\\t')\n"
     ]
    },
    {
     "name": "stdout",
     "output_type": "stream",
     "text": [
      " salmonella filtrado:\n",
      " Familias not-core conservadas: 46000\n",
      " Familias eliminadas (core o ausentes): 3802\n",
      "\n"
     ]
    }
   ],
   "source": [
    "filtrar_not_core(\"salmonella\", 0.90)"
   ]
  },
  {
   "cell_type": "code",
   "execution_count": 35,
   "id": "44eeda8c-9a36-408c-b795-bd63e34dff51",
   "metadata": {},
   "outputs": [
    {
     "name": "stderr",
     "output_type": "stream",
     "text": [
      "/tmp/ipykernel_2415661/615954747.py:30: DtypeWarning: Columns (5) have mixed types. Specify dtype option on import or set low_memory=False.\n",
      "  matriz = pd.read_csv(archivo, sep=\"\\t\")\n"
     ]
    },
    {
     "name": "stdout",
     "output_type": "stream",
     "text": [
      " klebsiella — Umbral: 90%\n",
      " Familias core: 4330\n",
      " Familias not-core: 117305\n",
      " Familias ausentes en todos los genomas: 3097\n"
     ]
    }
   ],
   "source": [
    "analizar_core_familias(\"klebsiella\", 0.90)  # 90% de los genomas"
   ]
  },
  {
   "cell_type": "code",
   "execution_count": 48,
   "id": "639e61c5-d4de-463b-adee-62066940a91a",
   "metadata": {},
   "outputs": [
    {
     "name": "stderr",
     "output_type": "stream",
     "text": [
      "/tmp/ipykernel_2415661/3087308374.py:22: DtypeWarning: Columns (5) have mixed types. Specify dtype option on import or set low_memory=False.\n",
      "  df = pd.read_csv(archivo_pangenoma, sep='\\t')\n"
     ]
    },
    {
     "name": "stdout",
     "output_type": "stream",
     "text": [
      " klebsiella filtrado:\n",
      " Familias not-core conservadas: 117305\n",
      " Familias eliminadas (core o ausentes): 7427\n",
      "\n"
     ]
    }
   ],
   "source": [
    "filtrar_not_core(\"klebsiella\", 0.90)"
   ]
  },
  {
   "cell_type": "markdown",
   "id": "cd5b8b62-ba75-4fa3-b3c0-77d4d9af2853",
   "metadata": {},
   "source": []
  },
  {
   "cell_type": "code",
   "execution_count": null,
   "id": "e5df29e4-7e40-4351-adaf-738db86d05f9",
   "metadata": {},
   "outputs": [],
   "source": []
  },
  {
   "cell_type": "markdown",
   "id": "4f657393-ecf8-446d-af1d-9c3e2dd742db",
   "metadata": {},
   "source": []
  },
  {
   "cell_type": "code",
   "execution_count": null,
   "id": "5d9c5bf9-312c-4e3d-bb9f-253a7aa45e7b",
   "metadata": {},
   "outputs": [],
   "source": []
  },
  {
   "cell_type": "code",
   "execution_count": null,
   "id": "cdb7fe84-9627-4b0e-a673-75018e6d6b4a",
   "metadata": {},
   "outputs": [],
   "source": []
  },
  {
   "cell_type": "code",
   "execution_count": null,
   "id": "cc883660-fa56-4a90-a2d5-3d167f29612c",
   "metadata": {},
   "outputs": [],
   "source": []
  },
  {
   "cell_type": "code",
   "execution_count": null,
   "id": "99fdf136-5796-4c10-8dd1-29120d282427",
   "metadata": {},
   "outputs": [],
   "source": []
  },
  {
   "cell_type": "code",
   "execution_count": null,
   "id": "c6e1f0cb-bee7-4ec9-870a-6e1163236d78",
   "metadata": {},
   "outputs": [],
   "source": []
  },
  {
   "cell_type": "code",
   "execution_count": null,
   "id": "e74c669c-bc03-4441-aa4a-1109d0e6ead2",
   "metadata": {},
   "outputs": [],
   "source": []
  },
  {
   "cell_type": "code",
   "execution_count": null,
   "id": "dbeb33de-cf93-4d32-b0c5-faffcaceb81e",
   "metadata": {},
   "outputs": [],
   "source": []
  }
 ],
 "metadata": {
  "kernelspec": {
   "display_name": "Python 3 (ipykernel)",
   "language": "python",
   "name": "python3"
  },
  "language_info": {
   "codemirror_mode": {
    "name": "ipython",
    "version": 3
   },
   "file_extension": ".py",
   "mimetype": "text/x-python",
   "name": "python",
   "nbconvert_exporter": "python",
   "pygments_lexer": "ipython3",
   "version": "3.10.10"
  }
 },
 "nbformat": 4,
 "nbformat_minor": 5
}
