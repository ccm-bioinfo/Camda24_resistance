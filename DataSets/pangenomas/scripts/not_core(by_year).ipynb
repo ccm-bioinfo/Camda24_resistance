{
 "cells": [
  {
   "cell_type": "markdown",
   "id": "d54e4b41-95df-4e4a-89e5-99a23b06a0c3",
   "metadata": {},
   "source": [
    "## Familias  que no estan en el core 90%"
   ]
  },
  {
   "cell_type": "code",
   "execution_count": null,
   "id": "f39f5d1c-4549-499a-8dbb-127cdf7752a5",
   "metadata": {},
   "outputs": [],
   "source": [
    "##############################################################\n",
    "# Script     : not_core.ipynb\n",
    "# Author     : Johanna Atenea Carreón Baltazar\n",
    "# Date       : 11/06/2025\n",
    "# Description:\n",
    "#     Este script analiza pangenomas de las bacterias de CAMDA 2024 \n",
    "#     y CAMDA20 25 para identificar\n",
    "#     familias de genes que no están presentes en todos los genomas,\n",
    "#     basándose en un umbral definido.\n",
    "#\n",
    "#     Para cada bacteria:\n",
    "#         - Calcula la frecuencia de presencia por familia.\n",
    "#         - Separa familias core y no core.\n",
    "#         - Guarda listas de familias no core.\n",
    "#         - Filtra la matriz de pangenoma para conservar solo\n",
    "#           las familias no core junto con las columnas base.\n",
    "#\n",
    "# Entradas requeridas:\n",
    "#     - Archivos TSV de pangenomas en las carpetas:\n",
    "#         2024_pangenomas/\n",
    "#         2025_pangenomas/\n",
    "#\n",
    "# Salidas generadas:\n",
    "#     - Frecuencias por familia:\n",
    "#         2024_frecuencias/frecuencia_familia_vs_genomas_<bacteria>.csv\n",
    "#         2025_frecuencias/frecuencia_familia_vs_genomas_<bacteria>.csv\n",
    "#     - Listas de familias no core:\n",
    "#         2024_not_core/not_core_familias_<bacteria>.csv\n",
    "#         2025_not_core/not_core_familias_<bacteria>.csv\n",
    "#     - Archivos de pangenomas filtrados:\n",
    "#         2024_pangenomas_filtrados/filtrado_2024_pangenome_<bacteria>.csv\n",
    "#         2025_pangenomas_filtrados/filtrado_2025_pangenome_<bacteria>.csv\n",
    "#\n",
    "# Requiere:\n",
    "#     - pandas\n",
    "#     - os\n",
    "##############################################################\n"
   ]
  },
  {
   "cell_type": "code",
   "execution_count": 9,
   "id": "fb59fddb-6865-4f84-bc2b-82812d29a477",
   "metadata": {},
   "outputs": [],
   "source": [
    "import pandas as pd\n",
    "import os"
   ]
  },
  {
   "cell_type": "code",
   "execution_count": 10,
   "id": "6928639b-c66f-4e79-95f2-4103ff2bb2c7",
   "metadata": {},
   "outputs": [],
   "source": [
    "def analizar_core_familias(nombre_bacteria: str, porcentaje_umbral: float, anio: int):\n",
    "    \"\"\"\n",
    "    Analiza las familias de genes en un pangenoma y determina cuáles son core (comunes)\n",
    "    y cuáles no, basándose en un umbral porcentual de presencia en genomas.\n",
    "\n",
    "    La función realiza los siguientes pasos:\n",
    "    - Carga una matriz de abundancia de familias de genes por genoma.\n",
    "    - Calcula la frecuencia con la que cada familia está presente (valor > 0).\n",
    "    - Aplica un umbral porcentual para definir qué familias son core.\n",
    "    - Guarda:\n",
    "        - Una tabla con la frecuencia de cada familia.\n",
    "        - Una lista con las familias que no son core.\n",
    "    - Imprime un resumen con el número de familias core y no core.\n",
    "\n",
    "    Parameters\n",
    "    ----------\n",
    "    nombre_bacteria : str\n",
    "        Nombre de la bacteria, usado para identificar archivos específicos.\n",
    "    porcentaje_umbral : float\n",
    "        Umbral mínimo de presencia (entre 0 y 1) requerido para considerar una familia como core.\n",
    "        Por ejemplo, 0.95 significa \"presente en al menos el 95% de los genomas\".\n",
    "    anio : int\n",
    "        Año de referencia, usado para construir las rutas a los archivos de entrada y salida.\n",
    "\n",
    "    Outputs\n",
    "    -------\n",
    "    Guarda archivos CSV en las siguientes rutas:\n",
    "    - '{anio}_frecuencias/frecuencia_familia_vs_genomas_{nombre_bacteria}.csv'\n",
    "    - '{anio}_not_core/not_core_familias_{nombre_bacteria}.csv'\n",
    "\n",
    "    También imprime en consola un resumen del número de familias core y no core.\n",
    "    \"\"\"\n",
    "    archivo = f\"{anio}_pangenomas/{anio}_pangenome_{nombre_bacteria}.tsv\"\n",
    "    matriz = pd.read_csv(archivo, sep=\"\\t\")\n",
    "\n",
    "    # Seleccionar solo las columnas de familias (desde la columna 8 en adelante)\n",
    "    familias_df = matriz.iloc[:, 7:]\n",
    "\n",
    "    # Contar el número de genomas únicos (columna 3, índice 2)\n",
    "    total_genomas = matriz.iloc[:, 2].nunique()\n",
    "\n",
    "    # Calcular en cuántos genomas está presente cada familia (abundancia > 0)\n",
    "    frecuencia_por_familia = (familias_df > 0).sum(axis=0)\n",
    "\n",
    "    frecuencia_df = pd.DataFrame({\n",
    "        \"familia\": familias_df.columns,\n",
    "        \"frecuencia_genomas\": frecuencia_por_familia.values\n",
    "    })\n",
    "\n",
    "    # Crear directorios si no existen\n",
    "    os.makedirs(f\"{anio}_frecuencias\", exist_ok=True)\n",
    "    os.makedirs(f\"{anio}_not_core\", exist_ok=True)\n",
    "\n",
    "    frecuencia_df.to_csv(f\"{anio}_frecuencias/frecuencia_familia_vs_genomas_{nombre_bacteria}.csv\", index=False)\n",
    "\n",
    "    umbral = int(porcentaje_umbral * total_genomas)\n",
    "\n",
    "    # Separar familias en core,no core\n",
    "    not_core_familias = frecuencia_df[(frecuencia_df[\"frecuencia_genomas\"] < umbral) & (frecuencia_df[\"frecuencia_genomas\"] != 0)]\n",
    "    familias_sobrantes = (frecuencia_df[\"frecuencia_genomas\"] == 0).sum()\n",
    "    core_familias = frecuencia_df[frecuencia_df[\"frecuencia_genomas\"] >= umbral]\n",
    "\n",
    "    #Guardar familias que estan en el not core\n",
    "    not_core_familias[['familia']].to_csv(f\"{anio}_not_core/not_core_familias_{nombre_bacteria}.csv\", index=False)\n",
    "\n",
    "    \n",
    "    \n",
    "    # Imprimir resumen\n",
    "    print(f\"Número de familias presentes en al menos el {int(porcentaje_umbral * 100)}% de los genomas de {nombre_bacteria}: {len(core_familias)}\")\n",
    "    print(f\"Número de familias presentes en menos de {int(porcentaje_umbral * 100)}% de los genomas de {nombre_bacteria}: {len(not_core_familias)}\")\n",
    "    print(f\"Número de familias que no tienen presencia en ninguno de los genomas de {anio}: {familias_sobrantes}\")\n"
   ]
  },
  {
   "cell_type": "markdown",
   "id": "8a80f432-8134-4c97-8627-4620fc302563",
   "metadata": {},
   "source": [
    "## Cortar pangenomas para conservar solo las familias que estan en el no core"
   ]
  },
  {
   "cell_type": "code",
   "execution_count": 11,
   "id": "11eb2060-1fa6-4ec4-abfa-23dcdefe92d5",
   "metadata": {},
   "outputs": [],
   "source": [
    "\n",
    "def filtrar_familias_por_bacteria(anio: int, nombre_bacteria: str):\n",
    "    \"\"\"\n",
    "    Filtra las columnas correspondientes a familias específicas (por ejemplo, not-core) \n",
    "    de un archivo de pangenoma, conservando también las primeras 7 columnas del archivo.\n",
    "\n",
    "    Parámetros\n",
    "    ----------\n",
    "    anio : int\n",
    "        Año utilizado como prefijo para las carpetas de entrada/salida.\n",
    "    nombre_bacteria : str\n",
    "        Nombre de la bacteria, usado para identificar el archivo CSV de familias a conservar.\n",
    "\n",
    "    Estructura esperada\n",
    "    -------------------\n",
    "    - Carpeta de entrada: '{anio}_not_core', que contiene el archivo 'not_core_familias_{nombre_bacteria}.csv'\n",
    "    - Archivo de pangenoma: '{anio}_pangenomas/{anio}_pangenome_{nombre_bacteria}.csv'\n",
    "    - Carpeta de salida: '{anio}_pangenomas_filtrados'\n",
    "\n",
    "    Guardará un archivo filtrado en la carpeta de salida, con nombre:\n",
    "    - 'filtrado_{anio}_pangenome_{nombre_bacteria}.csv'\n",
    "    \"\"\"\n",
    "\n",
    "    archivo_familias = f\"{anio}_not_core/not_core_familias_{nombre_bacteria}.csv\"\n",
    "    familias_df = pd.read_csv(archivo_familias, header=None, names=[\"familia_descripcion\"])\n",
    "    familias_ids = familias_df[\"familia_descripcion\"].tolist()\n",
    "\n",
    "    carpeta_salida = f\"{anio}_pangenomas_filtrados\"\n",
    "    \n",
    "    archivo_pangenoma = f\"{anio}_pangenomas/{anio}_pangenome_{nombre_bacteria}.tsv\"\n",
    "    df = pd.read_csv(archivo_pangenoma,sep='\\t')\n",
    "\n",
    "    # Conservar las primeras 7 columnas\n",
    "    columnas_base = list(df.columns[:7])\n",
    "    # A partir de la columna 8 (índice 7), buscar columnas que estén en la lista de familias\n",
    "    columnas_familia = [col for col in df.columns[7:] if col in familias_ids]\n",
    "    columnas_filtradas = columnas_base + columnas_familia\n",
    "\n",
    "    df_filtrado = df[columnas_filtradas]\n",
    "    salida = os.path.join(carpeta_salida, f\"filtrado_{anio}_pangenome_{nombre_bacteria}.csv\")\n",
    "    df_filtrado.to_csv(salida, index=False)\n",
    "    print(f\"Procesado {nombre_bacteria}: {len(columnas_familia)} familias no conservadas.\")\n",
    "    print()"
   ]
  },
  {
   "cell_type": "code",
   "execution_count": 6,
   "id": "32403445-8920-41d0-ae56-4563da5e0708",
   "metadata": {},
   "outputs": [
    {
     "name": "stdout",
     "output_type": "stream",
     "text": [
      "Número de familias presentes en al menos el 90% de los genomas de acinetobacter: 2945\n",
      "Número de familias presentes en menos de 90% de los genomas de acinetobacter: 25556\n",
      "Número de familias que no tienen presencia en ninguno de los genomas de 2024: 41282\n"
     ]
    }
   ],
   "source": [
    "analizar_core_familias(\"acinetobacter\", 0.90,2024)  # 90% de los genomas"
   ]
  },
  {
   "cell_type": "code",
   "execution_count": null,
   "id": "b28c2521-72fc-4f9d-a5af-6fcb8ce9f34f",
   "metadata": {},
   "outputs": [],
   "source": [
    "acinetobacter = pd.read_csv('2024_pangenomas/2024_pangenome_acinetobacter_cut.tsv',sep='\\t')"
   ]
  },
  {
   "cell_type": "code",
   "execution_count": 75,
   "id": "e2fbb0ed-99c6-4cbd-92f9-4a47fd631381",
   "metadata": {},
   "outputs": [
    {
     "data": {
      "text/plain": [
       "809"
      ]
     },
     "execution_count": 75,
     "metadata": {},
     "output_type": "execute_result"
    }
   ],
   "source": [
    "familia = acinetobacter['59280__Acetoin dehydrogenase E1 component alpha-subunit (EC 2.3.1.190)']\n",
    "(familia != 0).sum()"
   ]
  },
  {
   "cell_type": "code",
   "execution_count": null,
   "id": "a58b438d-1035-40a5-8fc9-fb10430a38da",
   "metadata": {},
   "outputs": [],
   "source": [
    "campylobacter =pd.read_csv('2024_pangenomas/2024_pangenome_campylobacter_cut.tsv',sep='\\t')"
   ]
  },
  {
   "cell_type": "code",
   "execution_count": null,
   "id": "5affc275-88b6-4342-a633-da522ea98a0f",
   "metadata": {},
   "outputs": [],
   "source": [
    "familia = acinetobacter['150_hypothetical protein']\n",
    "(familia != 0).sum()"
   ]
  },
  {
   "cell_type": "markdown",
   "id": "cd5b8b62-ba75-4fa3-b3c0-77d4d9af2853",
   "metadata": {},
   "source": [
    "## CAMDA2024"
   ]
  },
  {
   "cell_type": "code",
   "execution_count": 6,
   "id": "e5df29e4-7e40-4351-adaf-738db86d05f9",
   "metadata": {},
   "outputs": [
    {
     "name": "stdout",
     "output_type": "stream",
     "text": [
      "Número de familias presentes en al menos el 90% de los genomas de acinetobacter: 2945\n",
      "Número de familias presentes en menos de 90% de los genomas de acinetobacter: 25556\n",
      "Número de familias que no tienen presencia en ninguno de los genomas de 2024: 41282\n",
      "Procesado acinetobacter: 25556 familias no conservadas.\n",
      "\n"
     ]
    },
    {
     "name": "stderr",
     "output_type": "stream",
     "text": [
      "/tmp/ipykernel_2420943/1570115212.py:38: DtypeWarning: Columns (5) have mixed types. Specify dtype option on import or set low_memory=False.\n",
      "  matriz = pd.read_csv(archivo, sep=\"\\t\")\n"
     ]
    },
    {
     "name": "stdout",
     "output_type": "stream",
     "text": [
      "Número de familias presentes en al menos el 90% de los genomas de campylobacter: 1433\n",
      "Número de familias presentes en menos de 90% de los genomas de campylobacter: 6048\n",
      "Número de familias que no tienen presencia en ninguno de los genomas de 2024: 5953\n"
     ]
    },
    {
     "name": "stderr",
     "output_type": "stream",
     "text": [
      "/tmp/ipykernel_2420943/1085778427.py:30: DtypeWarning: Columns (5) have mixed types. Specify dtype option on import or set low_memory=False.\n",
      "  df = pd.read_csv(archivo_pangenoma,sep='\\t')\n"
     ]
    },
    {
     "name": "stdout",
     "output_type": "stream",
     "text": [
      "Procesado campylobacter: 6048 familias no conservadas.\n",
      "\n",
      "Número de familias presentes en al menos el 90% de los genomas de enterobacter: 3517\n",
      "Número de familias presentes en menos de 90% de los genomas de enterobacter: 21642\n",
      "Número de familias que no tienen presencia en ninguno de los genomas de 2024: 0\n",
      "Procesado enterobacter: 21642 familias no conservadas.\n",
      "\n"
     ]
    },
    {
     "name": "stderr",
     "output_type": "stream",
     "text": [
      "/tmp/ipykernel_2420943/1570115212.py:38: DtypeWarning: Columns (5) have mixed types. Specify dtype option on import or set low_memory=False.\n",
      "  matriz = pd.read_csv(archivo, sep=\"\\t\")\n"
     ]
    },
    {
     "name": "stdout",
     "output_type": "stream",
     "text": [
      "Número de familias presentes en al menos el 90% de los genomas de escherichia: 3421\n",
      "Número de familias presentes en menos de 90% de los genomas de escherichia: 59689\n",
      "Número de familias que no tienen presencia en ninguno de los genomas de 2024: 110631\n"
     ]
    },
    {
     "name": "stderr",
     "output_type": "stream",
     "text": [
      "/tmp/ipykernel_2420943/1085778427.py:30: DtypeWarning: Columns (5) have mixed types. Specify dtype option on import or set low_memory=False.\n",
      "  df = pd.read_csv(archivo_pangenoma,sep='\\t')\n"
     ]
    },
    {
     "name": "stdout",
     "output_type": "stream",
     "text": [
      "Procesado escherichia: 59689 familias no conservadas.\n",
      "\n"
     ]
    },
    {
     "name": "stderr",
     "output_type": "stream",
     "text": [
      "/tmp/ipykernel_2420943/1570115212.py:38: DtypeWarning: Columns (5) have mixed types. Specify dtype option on import or set low_memory=False.\n",
      "  matriz = pd.read_csv(archivo, sep=\"\\t\")\n"
     ]
    },
    {
     "name": "stdout",
     "output_type": "stream",
     "text": [
      "Número de familias presentes en al menos el 90% de los genomas de klebsiella: 4333\n",
      "Número de familias presentes en menos de 90% de los genomas de klebsiella: 86521\n",
      "Número de familias que no tienen presencia en ninguno de los genomas de 2024: 33878\n"
     ]
    },
    {
     "name": "stderr",
     "output_type": "stream",
     "text": [
      "/tmp/ipykernel_2420943/1085778427.py:30: DtypeWarning: Columns (5) have mixed types. Specify dtype option on import or set low_memory=False.\n",
      "  df = pd.read_csv(archivo_pangenoma,sep='\\t')\n"
     ]
    },
    {
     "name": "stdout",
     "output_type": "stream",
     "text": [
      "Procesado klebsiella: 86521 familias no conservadas.\n",
      "\n"
     ]
    },
    {
     "name": "stderr",
     "output_type": "stream",
     "text": [
      "/tmp/ipykernel_2420943/1570115212.py:38: DtypeWarning: Columns (5) have mixed types. Specify dtype option on import or set low_memory=False.\n",
      "  matriz = pd.read_csv(archivo, sep=\"\\t\")\n"
     ]
    },
    {
     "name": "stdout",
     "output_type": "stream",
     "text": [
      "Número de familias presentes en al menos el 90% de los genomas de neisseria: 2027\n",
      "Número de familias presentes en menos de 90% de los genomas de neisseria: 6403\n",
      "Número de familias que no tienen presencia en ninguno de los genomas de 2024: 7217\n"
     ]
    },
    {
     "name": "stderr",
     "output_type": "stream",
     "text": [
      "/tmp/ipykernel_2420943/1085778427.py:30: DtypeWarning: Columns (5) have mixed types. Specify dtype option on import or set low_memory=False.\n",
      "  df = pd.read_csv(archivo_pangenoma,sep='\\t')\n"
     ]
    },
    {
     "name": "stdout",
     "output_type": "stream",
     "text": [
      "Procesado neisseria: 6403 familias no conservadas.\n",
      "\n"
     ]
    },
    {
     "name": "stderr",
     "output_type": "stream",
     "text": [
      "/tmp/ipykernel_2420943/1570115212.py:38: DtypeWarning: Columns (5) have mixed types. Specify dtype option on import or set low_memory=False.\n",
      "  matriz = pd.read_csv(archivo, sep=\"\\t\")\n"
     ]
    },
    {
     "name": "stdout",
     "output_type": "stream",
     "text": [
      "Número de familias presentes en al menos el 90% de los genomas de pseudomonas: 3540\n",
      "Número de familias presentes en menos de 90% de los genomas de pseudomonas: 90416\n",
      "Número de familias que no tienen presencia en ninguno de los genomas de 2024: 99971\n"
     ]
    },
    {
     "name": "stderr",
     "output_type": "stream",
     "text": [
      "/tmp/ipykernel_2420943/1085778427.py:30: DtypeWarning: Columns (5) have mixed types. Specify dtype option on import or set low_memory=False.\n",
      "  df = pd.read_csv(archivo_pangenoma,sep='\\t')\n"
     ]
    },
    {
     "name": "stdout",
     "output_type": "stream",
     "text": [
      "Procesado pseudomonas: 90416 familias no conservadas.\n",
      "\n"
     ]
    },
    {
     "name": "stderr",
     "output_type": "stream",
     "text": [
      "/tmp/ipykernel_2420943/1570115212.py:38: DtypeWarning: Columns (5) have mixed types. Specify dtype option on import or set low_memory=False.\n",
      "  matriz = pd.read_csv(archivo, sep=\"\\t\")\n"
     ]
    },
    {
     "name": "stdout",
     "output_type": "stream",
     "text": [
      "Número de familias presentes en al menos el 90% de los genomas de salmonella: 3808\n",
      "Número de familias presentes en menos de 90% de los genomas de salmonella: 37739\n",
      "Número de familias que no tienen presencia en ninguno de los genomas de 2024: 8255\n"
     ]
    },
    {
     "name": "stderr",
     "output_type": "stream",
     "text": [
      "/tmp/ipykernel_2420943/1085778427.py:30: DtypeWarning: Columns (5) have mixed types. Specify dtype option on import or set low_memory=False.\n",
      "  df = pd.read_csv(archivo_pangenoma,sep='\\t')\n"
     ]
    },
    {
     "name": "stdout",
     "output_type": "stream",
     "text": [
      "Procesado salmonella: 37739 familias no conservadas.\n",
      "\n"
     ]
    }
   ],
   "source": [
    "bacterias2024 = [\"acinetobacter\", \"campylobacter\", \"enterobacter\", \"escherichia\", \"klebsiella\", \"neisseria\", \"pseudomonas\", \"salmonella\"]\n",
    "for nombre in bacterias2024:\n",
    "    analizar_core_familias(nombre, 0.9,2024)\n",
    "    filtrar_familias_por_bacteria(2024,nombre)"
   ]
  },
  {
   "cell_type": "markdown",
   "id": "4f657393-ecf8-446d-af1d-9c3e2dd742db",
   "metadata": {},
   "source": [
    "## CAMDA2025"
   ]
  },
  {
   "cell_type": "code",
   "execution_count": 12,
   "id": "5d9c5bf9-312c-4e3d-bb9f-253a7aa45e7b",
   "metadata": {},
   "outputs": [
    {
     "name": "stderr",
     "output_type": "stream",
     "text": [
      "/tmp/ipykernel_2420943/1570115212.py:38: DtypeWarning: Columns (5) have mixed types. Specify dtype option on import or set low_memory=False.\n",
      "  matriz = pd.read_csv(archivo, sep=\"\\t\")\n"
     ]
    },
    {
     "name": "stdout",
     "output_type": "stream",
     "text": [
      "Número de familias presentes en al menos el 90% de los genomas de acinetobacter: 2926\n",
      "Número de familias presentes en menos de 90% de los genomas de acinetobacter: 63171\n",
      "Número de familias que no tienen presencia en ninguno de los genomas de 2025: 3686\n"
     ]
    },
    {
     "name": "stderr",
     "output_type": "stream",
     "text": [
      "/tmp/ipykernel_2420943/1085778427.py:30: DtypeWarning: Columns (5) have mixed types. Specify dtype option on import or set low_memory=False.\n",
      "  df = pd.read_csv(archivo_pangenoma,sep='\\t')\n"
     ]
    },
    {
     "name": "stdout",
     "output_type": "stream",
     "text": [
      "Procesado acinetobacter: 63171 familias no conservadas.\n",
      "\n"
     ]
    },
    {
     "name": "stderr",
     "output_type": "stream",
     "text": [
      "/tmp/ipykernel_2420943/1570115212.py:38: DtypeWarning: Columns (5) have mixed types. Specify dtype option on import or set low_memory=False.\n",
      "  matriz = pd.read_csv(archivo, sep=\"\\t\")\n"
     ]
    },
    {
     "name": "stdout",
     "output_type": "stream",
     "text": [
      "Número de familias presentes en al menos el 90% de los genomas de campylobacter: 1448\n",
      "Número de familias presentes en menos de 90% de los genomas de campylobacter: 10992\n",
      "Número de familias que no tienen presencia en ninguno de los genomas de 2025: 994\n"
     ]
    },
    {
     "name": "stderr",
     "output_type": "stream",
     "text": [
      "/tmp/ipykernel_2420943/1085778427.py:30: DtypeWarning: Columns (5) have mixed types. Specify dtype option on import or set low_memory=False.\n",
      "  df = pd.read_csv(archivo_pangenoma,sep='\\t')\n"
     ]
    },
    {
     "name": "stdout",
     "output_type": "stream",
     "text": [
      "Procesado campylobacter: 10992 familias no conservadas.\n",
      "\n"
     ]
    },
    {
     "name": "stderr",
     "output_type": "stream",
     "text": [
      "/tmp/ipykernel_2420943/1570115212.py:38: DtypeWarning: Columns (5) have mixed types. Specify dtype option on import or set low_memory=False.\n",
      "  matriz = pd.read_csv(archivo, sep=\"\\t\")\n"
     ]
    },
    {
     "name": "stdout",
     "output_type": "stream",
     "text": [
      "Número de familias presentes en al menos el 90% de los genomas de escherichia: 3425\n",
      "Número de familias presentes en menos de 90% de los genomas de escherichia: 146071\n",
      "Número de familias que no tienen presencia en ninguno de los genomas de 2025: 24245\n"
     ]
    },
    {
     "name": "stderr",
     "output_type": "stream",
     "text": [
      "/tmp/ipykernel_2420943/1085778427.py:30: DtypeWarning: Columns (5) have mixed types. Specify dtype option on import or set low_memory=False.\n",
      "  df = pd.read_csv(archivo_pangenoma,sep='\\t')\n"
     ]
    },
    {
     "name": "stdout",
     "output_type": "stream",
     "text": [
      "Procesado escherichia: 146071 familias no conservadas.\n",
      "\n"
     ]
    },
    {
     "name": "stderr",
     "output_type": "stream",
     "text": [
      "/tmp/ipykernel_2420943/1570115212.py:38: DtypeWarning: Columns (5) have mixed types. Specify dtype option on import or set low_memory=False.\n",
      "  matriz = pd.read_csv(archivo, sep=\"\\t\")\n"
     ]
    },
    {
     "name": "stdout",
     "output_type": "stream",
     "text": [
      "Número de familias presentes en al menos el 90% de los genomas de klebsiella: 4318\n",
      "Número de familias presentes en menos de 90% de los genomas de klebsiella: 84372\n",
      "Número de familias que no tienen presencia en ninguno de los genomas de 2025: 36042\n"
     ]
    },
    {
     "name": "stderr",
     "output_type": "stream",
     "text": [
      "/tmp/ipykernel_2420943/1085778427.py:30: DtypeWarning: Columns (5) have mixed types. Specify dtype option on import or set low_memory=False.\n",
      "  df = pd.read_csv(archivo_pangenoma,sep='\\t')\n"
     ]
    },
    {
     "name": "stdout",
     "output_type": "stream",
     "text": [
      "Procesado klebsiella: 84372 familias no conservadas.\n",
      "\n"
     ]
    },
    {
     "name": "stderr",
     "output_type": "stream",
     "text": [
      "/tmp/ipykernel_2420943/1570115212.py:38: DtypeWarning: Columns (5) have mixed types. Specify dtype option on import or set low_memory=False.\n",
      "  matriz = pd.read_csv(archivo, sep=\"\\t\")\n"
     ]
    },
    {
     "name": "stdout",
     "output_type": "stream",
     "text": [
      "Número de familias presentes en al menos el 90% de los genomas de neisseria: 2047\n",
      "Número de familias presentes en menos de 90% de los genomas de neisseria: 11199\n",
      "Número de familias que no tienen presencia en ninguno de los genomas de 2025: 2401\n"
     ]
    },
    {
     "name": "stderr",
     "output_type": "stream",
     "text": [
      "/tmp/ipykernel_2420943/1085778427.py:30: DtypeWarning: Columns (5) have mixed types. Specify dtype option on import or set low_memory=False.\n",
      "  df = pd.read_csv(archivo_pangenoma,sep='\\t')\n"
     ]
    },
    {
     "name": "stdout",
     "output_type": "stream",
     "text": [
      "Procesado neisseria: 11199 familias no conservadas.\n",
      "\n"
     ]
    },
    {
     "name": "stderr",
     "output_type": "stream",
     "text": [
      "/tmp/ipykernel_2420943/1570115212.py:38: DtypeWarning: Columns (5) have mixed types. Specify dtype option on import or set low_memory=False.\n",
      "  matriz = pd.read_csv(archivo, sep=\"\\t\")\n"
     ]
    },
    {
     "name": "stdout",
     "output_type": "stream",
     "text": [
      "Número de familias presentes en al menos el 90% de los genomas de pseudomonas: 2633\n",
      "Número de familias presentes en menos de 90% de los genomas de pseudomonas: 178771\n",
      "Número de familias que no tienen presencia en ninguno de los genomas de 2025: 12523\n"
     ]
    },
    {
     "name": "stderr",
     "output_type": "stream",
     "text": [
      "/tmp/ipykernel_2420943/1085778427.py:30: DtypeWarning: Columns (5) have mixed types. Specify dtype option on import or set low_memory=False.\n",
      "  df = pd.read_csv(archivo_pangenoma,sep='\\t')\n"
     ]
    },
    {
     "name": "stdout",
     "output_type": "stream",
     "text": [
      "Procesado pseudomonas: 178771 familias no conservadas.\n",
      "\n"
     ]
    },
    {
     "name": "stderr",
     "output_type": "stream",
     "text": [
      "/tmp/ipykernel_2420943/1570115212.py:38: DtypeWarning: Columns (5) have mixed types. Specify dtype option on import or set low_memory=False.\n",
      "  matriz = pd.read_csv(archivo, sep=\"\\t\")\n"
     ]
    },
    {
     "name": "stdout",
     "output_type": "stream",
     "text": [
      "Número de familias presentes en al menos el 90% de los genomas de salmonella: 3814\n",
      "Número de familias presentes en menos de 90% de los genomas de salmonella: 29159\n",
      "Número de familias que no tienen presencia en ninguno de los genomas de 2025: 16829\n"
     ]
    },
    {
     "name": "stderr",
     "output_type": "stream",
     "text": [
      "/tmp/ipykernel_2420943/1085778427.py:30: DtypeWarning: Columns (5) have mixed types. Specify dtype option on import or set low_memory=False.\n",
      "  df = pd.read_csv(archivo_pangenoma,sep='\\t')\n"
     ]
    },
    {
     "name": "stdout",
     "output_type": "stream",
     "text": [
      "Procesado salmonella: 29159 familias no conservadas.\n",
      "\n"
     ]
    },
    {
     "name": "stderr",
     "output_type": "stream",
     "text": [
      "/tmp/ipykernel_2420943/1570115212.py:38: DtypeWarning: Columns (5) have mixed types. Specify dtype option on import or set low_memory=False.\n",
      "  matriz = pd.read_csv(archivo, sep=\"\\t\")\n"
     ]
    },
    {
     "name": "stdout",
     "output_type": "stream",
     "text": [
      "Número de familias presentes en al menos el 90% de los genomas de staphylococcus: 2197\n",
      "Número de familias presentes en menos de 90% de los genomas de staphylococcus: 14899\n",
      "Número de familias que no tienen presencia en ninguno de los genomas de 2025: 159\n"
     ]
    },
    {
     "name": "stderr",
     "output_type": "stream",
     "text": [
      "/tmp/ipykernel_2420943/1085778427.py:30: DtypeWarning: Columns (5) have mixed types. Specify dtype option on import or set low_memory=False.\n",
      "  df = pd.read_csv(archivo_pangenoma,sep='\\t')\n"
     ]
    },
    {
     "name": "stdout",
     "output_type": "stream",
     "text": [
      "Procesado staphylococcus: 14899 familias no conservadas.\n",
      "\n"
     ]
    },
    {
     "name": "stderr",
     "output_type": "stream",
     "text": [
      "/tmp/ipykernel_2420943/1570115212.py:38: DtypeWarning: Columns (5) have mixed types. Specify dtype option on import or set low_memory=False.\n",
      "  matriz = pd.read_csv(archivo, sep=\"\\t\")\n"
     ]
    },
    {
     "name": "stdout",
     "output_type": "stream",
     "text": [
      "Número de familias presentes en al menos el 90% de los genomas de streptococcus: 1632\n",
      "Número de familias presentes en menos de 90% de los genomas de streptococcus: 6891\n",
      "Número de familias que no tienen presencia en ninguno de los genomas de 2025: 498\n"
     ]
    },
    {
     "name": "stderr",
     "output_type": "stream",
     "text": [
      "/tmp/ipykernel_2420943/1085778427.py:30: DtypeWarning: Columns (5) have mixed types. Specify dtype option on import or set low_memory=False.\n",
      "  df = pd.read_csv(archivo_pangenoma,sep='\\t')\n"
     ]
    },
    {
     "name": "stdout",
     "output_type": "stream",
     "text": [
      "Procesado streptococcus: 6891 familias no conservadas.\n",
      "\n"
     ]
    }
   ],
   "source": [
    "bacterias2025 = [\"acinetobacter\",\"campylobacter\",\"escherichia\",\"klebsiella\",\"neisseria\",\"pseudomonas\",\"salmonella\",\"staphylococcus\",\"streptococcus\"]\n",
    "for nombre in bacterias2025:\n",
    "    analizar_core_familias(nombre, 0.9,2025)\n",
    "    filtrar_familias_por_bacteria(2025,nombre)"
   ]
  },
  {
   "cell_type": "markdown",
   "id": "214425cf-c72c-4eee-b63e-e044c503caea",
   "metadata": {},
   "source": [
    "### Prueba con datos simulados"
   ]
  },
  {
   "cell_type": "code",
   "execution_count": 13,
   "id": "dbeb33de-cf93-4d32-b0c5-faffcaceb81e",
   "metadata": {},
   "outputs": [
    {
     "data": {
      "application/javascript": [
       "IPython.notebook.set_autosave_interval(30000)"
      ]
     },
     "metadata": {},
     "output_type": "display_data"
    },
    {
     "name": "stdout",
     "output_type": "stream",
     "text": [
      "Autosaving every 30 seconds\n"
     ]
    }
   ],
   "source": [
    "%autosave 30"
   ]
  },
  {
   "cell_type": "code",
   "execution_count": null,
   "id": "1ef030c7-26d4-4cf4-b545-94952fcf7ee1",
   "metadata": {},
   "outputs": [],
   "source": []
  }
 ],
 "metadata": {
  "kernelspec": {
   "display_name": "Python 3 (ipykernel)",
   "language": "python",
   "name": "python3"
  },
  "language_info": {
   "codemirror_mode": {
    "name": "ipython",
    "version": 3
   },
   "file_extension": ".py",
   "mimetype": "text/x-python",
   "name": "python",
   "nbconvert_exporter": "python",
   "pygments_lexer": "ipython3",
   "version": "3.10.10"
  }
 },
 "nbformat": 4,
 "nbformat_minor": 5
}
