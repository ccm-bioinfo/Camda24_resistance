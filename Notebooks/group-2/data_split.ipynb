{
 "cells": [
  {
   "cell_type": "markdown",
   "metadata": {},
   "source": [
    "# Data Split"
   ]
  },
  {
   "cell_type": "markdown",
   "metadata": {},
   "source": [
    "Splitting out test data makes sense to give us an unbiased model performance to expect. \n",
    "\n",
    "Given the size of the data, just 4k examples, we will do well to use cross validation to get a stable estimate of evaluation metric.\n",
    "\n",
    "Since the data has significant missing values in the label, we will use stratified sampling to ensure that the distribution of the label is maintained in the train and validation sets."
   ]
  },
  {
   "cell_type": "code",
   "execution_count": 12,
   "metadata": {},
   "outputs": [],
   "source": [
    "filepath = './../../DataSets/ResistanceCiprofloxacinStrict.tsv.gz'"
   ]
  },
  {
   "cell_type": "code",
   "execution_count": 13,
   "metadata": {},
   "outputs": [],
   "source": [
    "import pandas as pd"
   ]
  },
  {
   "cell_type": "code",
   "execution_count": 14,
   "metadata": {},
   "outputs": [
    {
     "name": "stderr",
     "output_type": "stream",
     "text": [
      "/var/folders/p9/vwq0gfs15vb07tg6xw1r14180000gn/T/ipykernel_51211/2619055371.py:1: DtypeWarning: Columns (3) have mixed types. Specify dtype option on import or set low_memory=False.\n",
      "  df = pd.read_csv(filepath, sep='\\t', compression='gzip')\n"
     ]
    }
   ],
   "source": [
    "df = pd.read_csv(filepath, sep='\\t', compression='gzip')"
   ]
  },
  {
   "cell_type": "code",
   "execution_count": 15,
   "metadata": {},
   "outputs": [
    {
     "data": {
      "text/html": [
       "<div>\n",
       "<style scoped>\n",
       "    .dataframe tbody tr th:only-of-type {\n",
       "        vertical-align: middle;\n",
       "    }\n",
       "\n",
       "    .dataframe tbody tr th {\n",
       "        vertical-align: top;\n",
       "    }\n",
       "\n",
       "    .dataframe thead th {\n",
       "        text-align: right;\n",
       "    }\n",
       "</style>\n",
       "<table border=\"1\" class=\"dataframe\">\n",
       "  <thead>\n",
       "    <tr style=\"text-align: right;\">\n",
       "      <th></th>\n",
       "      <th>accession</th>\n",
       "      <th>genus</th>\n",
       "      <th>species</th>\n",
       "      <th>phenotype</th>\n",
       "      <th>mic</th>\n",
       "      <th>3005053</th>\n",
       "      <th>3000830</th>\n",
       "      <th>3003838</th>\n",
       "      <th>3000508</th>\n",
       "      <th>3003890</th>\n",
       "      <th>...</th>\n",
       "      <th>3007751-D87Y</th>\n",
       "      <th>3003926-D87Y</th>\n",
       "      <th>3003709-G46S</th>\n",
       "      <th>3004851-A39T</th>\n",
       "      <th>3004832-A501P</th>\n",
       "      <th>3003381-R20H</th>\n",
       "      <th>3003926-S83I</th>\n",
       "      <th>3003381-G121D</th>\n",
       "      <th>3004832-T483S</th>\n",
       "      <th>3004832-A311V</th>\n",
       "    </tr>\n",
       "  </thead>\n",
       "  <tbody>\n",
       "    <tr>\n",
       "      <th>0</th>\n",
       "      <td>SRR3138666</td>\n",
       "      <td>Campylobacter</td>\n",
       "      <td>jejuni</td>\n",
       "      <td>Susceptible</td>\n",
       "      <td>0.12</td>\n",
       "      <td>0.0</td>\n",
       "      <td>0.0</td>\n",
       "      <td>0.0</td>\n",
       "      <td>0.0</td>\n",
       "      <td>0.0</td>\n",
       "      <td>...</td>\n",
       "      <td>0.0</td>\n",
       "      <td>0.0</td>\n",
       "      <td>0.0</td>\n",
       "      <td>0.0</td>\n",
       "      <td>0.0</td>\n",
       "      <td>0.0</td>\n",
       "      <td>0.0</td>\n",
       "      <td>0.0</td>\n",
       "      <td>0.0</td>\n",
       "      <td>0.0</td>\n",
       "    </tr>\n",
       "    <tr>\n",
       "      <th>1</th>\n",
       "      <td>SRR3138667</td>\n",
       "      <td>Campylobacter</td>\n",
       "      <td>jejuni</td>\n",
       "      <td>Susceptible</td>\n",
       "      <td>0.06</td>\n",
       "      <td>0.0</td>\n",
       "      <td>0.0</td>\n",
       "      <td>0.0</td>\n",
       "      <td>0.0</td>\n",
       "      <td>0.0</td>\n",
       "      <td>...</td>\n",
       "      <td>0.0</td>\n",
       "      <td>0.0</td>\n",
       "      <td>0.0</td>\n",
       "      <td>0.0</td>\n",
       "      <td>0.0</td>\n",
       "      <td>0.0</td>\n",
       "      <td>0.0</td>\n",
       "      <td>0.0</td>\n",
       "      <td>0.0</td>\n",
       "      <td>0.0</td>\n",
       "    </tr>\n",
       "    <tr>\n",
       "      <th>2</th>\n",
       "      <td>SRR3138668</td>\n",
       "      <td>Campylobacter</td>\n",
       "      <td>jejuni</td>\n",
       "      <td>Susceptible</td>\n",
       "      <td>0.06</td>\n",
       "      <td>0.0</td>\n",
       "      <td>0.0</td>\n",
       "      <td>0.0</td>\n",
       "      <td>0.0</td>\n",
       "      <td>0.0</td>\n",
       "      <td>...</td>\n",
       "      <td>0.0</td>\n",
       "      <td>0.0</td>\n",
       "      <td>0.0</td>\n",
       "      <td>0.0</td>\n",
       "      <td>0.0</td>\n",
       "      <td>0.0</td>\n",
       "      <td>0.0</td>\n",
       "      <td>0.0</td>\n",
       "      <td>0.0</td>\n",
       "      <td>0.0</td>\n",
       "    </tr>\n",
       "    <tr>\n",
       "      <th>3</th>\n",
       "      <td>SRR3138669</td>\n",
       "      <td>Campylobacter</td>\n",
       "      <td>jejuni</td>\n",
       "      <td>Susceptible</td>\n",
       "      <td>0.06</td>\n",
       "      <td>0.0</td>\n",
       "      <td>0.0</td>\n",
       "      <td>0.0</td>\n",
       "      <td>0.0</td>\n",
       "      <td>0.0</td>\n",
       "      <td>...</td>\n",
       "      <td>0.0</td>\n",
       "      <td>0.0</td>\n",
       "      <td>0.0</td>\n",
       "      <td>0.0</td>\n",
       "      <td>0.0</td>\n",
       "      <td>0.0</td>\n",
       "      <td>0.0</td>\n",
       "      <td>0.0</td>\n",
       "      <td>0.0</td>\n",
       "      <td>0.0</td>\n",
       "    </tr>\n",
       "    <tr>\n",
       "      <th>4</th>\n",
       "      <td>SRR3138670</td>\n",
       "      <td>Campylobacter</td>\n",
       "      <td>jejuni</td>\n",
       "      <td>Susceptible</td>\n",
       "      <td>0.06</td>\n",
       "      <td>0.0</td>\n",
       "      <td>0.0</td>\n",
       "      <td>0.0</td>\n",
       "      <td>0.0</td>\n",
       "      <td>0.0</td>\n",
       "      <td>...</td>\n",
       "      <td>0.0</td>\n",
       "      <td>0.0</td>\n",
       "      <td>0.0</td>\n",
       "      <td>0.0</td>\n",
       "      <td>0.0</td>\n",
       "      <td>0.0</td>\n",
       "      <td>0.0</td>\n",
       "      <td>0.0</td>\n",
       "      <td>0.0</td>\n",
       "      <td>0.0</td>\n",
       "    </tr>\n",
       "  </tbody>\n",
       "</table>\n",
       "<p>5 rows × 880 columns</p>\n",
       "</div>"
      ],
      "text/plain": [
       "    accession          genus species    phenotype   mic  3005053  3000830  \\\n",
       "0  SRR3138666  Campylobacter  jejuni  Susceptible  0.12      0.0      0.0   \n",
       "1  SRR3138667  Campylobacter  jejuni  Susceptible  0.06      0.0      0.0   \n",
       "2  SRR3138668  Campylobacter  jejuni  Susceptible  0.06      0.0      0.0   \n",
       "3  SRR3138669  Campylobacter  jejuni  Susceptible  0.06      0.0      0.0   \n",
       "4  SRR3138670  Campylobacter  jejuni  Susceptible  0.06      0.0      0.0   \n",
       "\n",
       "   3003838  3000508  3003890  ...  3007751-D87Y  3003926-D87Y  3003709-G46S  \\\n",
       "0      0.0      0.0      0.0  ...           0.0           0.0           0.0   \n",
       "1      0.0      0.0      0.0  ...           0.0           0.0           0.0   \n",
       "2      0.0      0.0      0.0  ...           0.0           0.0           0.0   \n",
       "3      0.0      0.0      0.0  ...           0.0           0.0           0.0   \n",
       "4      0.0      0.0      0.0  ...           0.0           0.0           0.0   \n",
       "\n",
       "   3004851-A39T  3004832-A501P  3003381-R20H  3003926-S83I  3003381-G121D  \\\n",
       "0           0.0            0.0           0.0           0.0            0.0   \n",
       "1           0.0            0.0           0.0           0.0            0.0   \n",
       "2           0.0            0.0           0.0           0.0            0.0   \n",
       "3           0.0            0.0           0.0           0.0            0.0   \n",
       "4           0.0            0.0           0.0           0.0            0.0   \n",
       "\n",
       "   3004832-T483S  3004832-A311V  \n",
       "0            0.0            0.0  \n",
       "1            0.0            0.0  \n",
       "2            0.0            0.0  \n",
       "3            0.0            0.0  \n",
       "4            0.0            0.0  \n",
       "\n",
       "[5 rows x 880 columns]"
      ]
     },
     "execution_count": 15,
     "metadata": {},
     "output_type": "execute_result"
    }
   ],
   "source": [
    "df.head()"
   ]
  },
  {
   "cell_type": "code",
   "execution_count": 16,
   "metadata": {},
   "outputs": [
    {
     "data": {
      "text/plain": [
       "(3881, 880)"
      ]
     },
     "execution_count": 16,
     "metadata": {},
     "output_type": "execute_result"
    }
   ],
   "source": [
    "df.shape"
   ]
  },
  {
   "cell_type": "code",
   "execution_count": 18,
   "metadata": {},
   "outputs": [],
   "source": [
    "import numpy as np\n",
    "from sklearn.model_selection import StratifiedShuffleSplit\n"
   ]
  },
  {
   "cell_type": "code",
   "execution_count": 19,
   "metadata": {},
   "outputs": [],
   "source": [
    "def stratified_split_with_missing(df, target_column, test_size=0.2, random_state=42):\n",
    "    \"\"\"\n",
    "    Splits the DataFrame into training and test sets, ensuring that all rows with missing values\n",
    "    in the target column are included in the training set, and the remaining data is split 80-20\n",
    "    based on the target column.\n",
    "\n",
    "    Parameters:\n",
    "    df (pd.DataFrame): The input DataFrame.\n",
    "    target_column (str): The name of the target column to stratify on.\n",
    "    test_size (float): The proportion of the dataset to include in the test split.\n",
    "    random_state (int): Random seed for reproducibility.\n",
    "\n",
    "    Returns:\n",
    "    pd.DataFrame: Training set.\n",
    "    pd.DataFrame: Test set.\n",
    "    \"\"\"\n",
    "    # Separate rows with missing values in the target column\n",
    "    missing_target = df[df[target_column].isna()]\n",
    "    non_missing_target = df[df[target_column].notna()]\n",
    "\n",
    "    # Create the stratified shuffle split object\n",
    "    split = StratifiedShuffleSplit(n_splits=1, test_size=test_size, random_state=random_state)\n",
    "\n",
    "    # Perform the split on the non-missing target data\n",
    "    for train_index, test_index in split.split(non_missing_target, non_missing_target[target_column]):\n",
    "        strat_train_set = non_missing_target.iloc[train_index]\n",
    "        strat_test_set = non_missing_target.iloc[test_index]\n",
    "\n",
    "    # Add the rows with missing target to the training set\n",
    "    strat_train_set = pd.concat([strat_train_set, missing_target])\n",
    "\n",
    "    return strat_train_set, strat_test_set"
   ]
  },
  {
   "cell_type": "code",
   "execution_count": 20,
   "metadata": {},
   "outputs": [
    {
     "name": "stdout",
     "output_type": "stream",
     "text": [
      "Training set shape: (3317, 880)\n",
      "Test set shape: (564, 880)\n",
      "\n",
      "Training set 'phenotype' distribution:\n",
      "phenotype\n",
      "Susceptible    2083\n",
      "NaN            1063\n",
      "Resistant       171\n",
      "Name: count, dtype: int64\n",
      "\n",
      "Test set 'phenotype' distribution:\n",
      "phenotype\n",
      "Susceptible    521\n",
      "Resistant       43\n",
      "Name: count, dtype: int64\n"
     ]
    }
   ],
   "source": [
    "# Perform the stratified split\n",
    "strat_train_set, strat_test_set = stratified_split_with_missing(df, 'phenotype')\n",
    "\n",
    "# Display the shapes of the resulting splits\n",
    "print(\"Training set shape:\", strat_train_set.shape)\n",
    "print(\"Test set shape:\", strat_test_set.shape)\n",
    "\n",
    "# Display the distribution of 'phenotype' in the splits\n",
    "print(\"\\nTraining set 'phenotype' distribution:\")\n",
    "print(strat_train_set['phenotype'].value_counts(dropna=False))\n",
    "\n",
    "print(\"\\nTest set 'phenotype' distribution:\")\n",
    "print(strat_test_set['phenotype'].value_counts(dropna=False))"
   ]
  },
  {
   "cell_type": "code",
   "execution_count": 23,
   "metadata": {},
   "outputs": [],
   "source": [
    "# Save the stratified train and test sets to tab-separated gzip compressed CSV files\n",
    "strat_train_set.to_csv('./data/stratified_train_set.tsv.gz', sep='\\t', compression='gzip', index=False)\n",
    "strat_test_set.to_csv('./data/stratified_test_set.tsv.gz', sep='\\t', compression='gzip', index=False)"
   ]
  },
  {
   "cell_type": "markdown",
   "metadata": {},
   "source": [
    "## Sanity Check"
   ]
  },
  {
   "cell_type": "code",
   "execution_count": 24,
   "metadata": {},
   "outputs": [
    {
     "name": "stdout",
     "output_type": "stream",
     "text": [
      "Total rows in stratified train and test sets: 3881\n",
      "Total rows in original dataframe: 3881\n",
      "Do they match? Yes\n"
     ]
    },
    {
     "name": "stderr",
     "output_type": "stream",
     "text": [
      "/var/folders/p9/vwq0gfs15vb07tg6xw1r14180000gn/T/ipykernel_51211/1330603064.py:2: DtypeWarning: Columns (3) have mixed types. Specify dtype option on import or set low_memory=False.\n",
      "  strat_train_set = pd.read_csv('./data/stratified_train_set.tsv.gz', sep='\\t', compression='gzip')\n"
     ]
    }
   ],
   "source": [
    "# Load the stratified train and test sets\n",
    "strat_train_set = pd.read_csv('./data/stratified_train_set.tsv.gz', sep='\\t', compression='gzip')\n",
    "strat_test_set = pd.read_csv('./data/stratified_test_set.tsv.gz', sep='\\t', compression='gzip')\n",
    "\n",
    "# Check that the sum of rows in stratified train and test sets equals the number of rows in the original dataframe\n",
    "total_rows = strat_train_set.shape[0] + strat_test_set.shape[0]\n",
    "original_rows = df.shape[0]\n",
    "\n",
    "print(f\"Total rows in stratified train and test sets: {total_rows}\")\n",
    "print(f\"Total rows in original dataframe: {original_rows}\")\n",
    "print(f\"Do they match? {'Yes' if total_rows == original_rows else 'No'}\")"
   ]
  },
  {
   "cell_type": "code",
   "execution_count": null,
   "metadata": {},
   "outputs": [],
   "source": []
  }
 ],
 "metadata": {
  "kernelspec": {
   "display_name": ".venv",
   "language": "python",
   "name": "python3"
  },
  "language_info": {
   "codemirror_mode": {
    "name": "ipython",
    "version": 3
   },
   "file_extension": ".py",
   "mimetype": "text/x-python",
   "name": "python",
   "nbconvert_exporter": "python",
   "pygments_lexer": "ipython3",
   "version": "3.11.9"
  }
 },
 "nbformat": 4,
 "nbformat_minor": 2
}
