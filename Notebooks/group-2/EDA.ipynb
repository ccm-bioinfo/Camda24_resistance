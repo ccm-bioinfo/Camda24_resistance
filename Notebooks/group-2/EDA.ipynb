{
 "cells": [
  {
   "cell_type": "markdown",
   "id": "4939e556-3581-4f23-b69b-085e0b84ade3",
   "metadata": {},
   "source": [
    "# Análisis Exploratorio de Datos"
   ]
  },
  {
   "cell_type": "code",
   "execution_count": 249,
   "id": "28fbf1b5-a460-4863-aa66-c0103ad5a73d",
   "metadata": {},
   "outputs": [],
   "source": [
    "# Import packages\n",
    "import pandas as pd\n",
    "import numpy as np\n",
    "import matplotlib.pyplot as plt\n",
    "import seaborn as sns\n",
    "from sklearn.model_selection import train_test_split\n",
    "from sklearn.ensemble import RandomForestClassifier\n",
    "from sklearn.ensemble import RandomForestRegressor\n",
    "from sklearn.linear_model import LinearRegression\n",
    "from sklearn.model_selection import train_test_split\n",
    "from sklearn.preprocessing import LabelEncoder"
   ]
  },
  {
   "cell_type": "code",
   "execution_count": 209,
   "id": "ece8782e-ef85-46c9-b12b-4a9ee676f1f7",
   "metadata": {},
   "outputs": [
    {
     "name": "stderr",
     "output_type": "stream",
     "text": [
      "/tmp/ipykernel_1725917/2616150320.py:7: DtypeWarning: Columns (3) have mixed types. Specify dtype option on import or set low_memory=False.\n",
      "  resis_cipro_L = pd.read_csv(filepath1, sep='\\t', compression='gzip')\n",
      "/tmp/ipykernel_1725917/2616150320.py:8: DtypeWarning: Columns (3) have mixed types. Specify dtype option on import or set low_memory=False.\n",
      "  resis_cipro_S = pd.read_csv(filepath2, sep='\\t', compression='gzip')\n",
      "/tmp/ipykernel_1725917/2616150320.py:9: DtypeWarning: Columns (3) have mixed types. Specify dtype option on import or set low_memory=False.\n",
      "  resis_mero_L = pd.read_csv(filepath3, sep='\\t', compression='gzip')\n"
     ]
    }
   ],
   "source": [
    "# Import 4 databases\n",
    "filepath1 = '/home/jupyter-user7/CAMDA/Camda24_resistance/DataSets/ResistanceCiprofloxacinLoose.tsv.gz'\n",
    "filepath2 = '/home/jupyter-user7/CAMDA/Camda24_resistance/DataSets/ResistanceCiprofloxacinStrict.tsv.gz'\n",
    "filepath3 = '/home/jupyter-user7/CAMDA/Camda24_resistance/DataSets/ResistanceMeropenemLoose.tsv.gz'\n",
    "filepath4 = '/home/jupyter-user7/CAMDA/Camda24_resistance/DataSets/ResistanceMeropenemStrict.tsv.gz'\n",
    "\n",
    "resis_cipro_L = pd.read_csv(filepath1, sep='\\t', compression='gzip')\n",
    "resis_cipro_S = pd.read_csv(filepath2, sep='\\t', compression='gzip')\n",
    "resis_mero_L = pd.read_csv(filepath3, sep='\\t', compression='gzip')\n",
    "resis_mero_S = pd.read_csv(filepath4, sep='\\t', compression='gzip')"
   ]
  },
  {
   "cell_type": "code",
   "execution_count": 210,
   "id": "11c62cb9-1461-4eb6-9f13-98770ada1a20",
   "metadata": {},
   "outputs": [
    {
     "name": "stdout",
     "output_type": "stream",
     "text": [
      "Cipro Loose size: (3881, 5570) \n",
      "Cipro Strict size: (3881, 880) \n",
      "Merop Loose size: (3891, 5570) \n",
      "Merop Strict size: (3891, 880)\n"
     ]
    }
   ],
   "source": [
    "# First view to the databases\n",
    "print(\"Cipro Loose size:\", resis_cipro_L.shape, \n",
    "      \"\\nCipro Strict size:\", resis_cipro_S.shape, \n",
    "      \"\\nMerop Loose size:\", resis_mero_L.shape, \n",
    "      \"\\nMerop Strict size:\", resis_mero_S.shape)"
   ]
  },
  {
   "cell_type": "markdown",
   "id": "1e5d1175-832b-4dce-a270-3718ce746240",
   "metadata": {},
   "source": [
    "# Ciprofloxacin Resistance Loose Database"
   ]
  },
  {
   "cell_type": "code",
   "execution_count": 211,
   "id": "33a10226-cff4-4389-b040-062ab50b9002",
   "metadata": {},
   "outputs": [
    {
     "data": {
      "text/html": [
       "<div>\n",
       "<style scoped>\n",
       "    .dataframe tbody tr th:only-of-type {\n",
       "        vertical-align: middle;\n",
       "    }\n",
       "\n",
       "    .dataframe tbody tr th {\n",
       "        vertical-align: top;\n",
       "    }\n",
       "\n",
       "    .dataframe thead th {\n",
       "        text-align: right;\n",
       "    }\n",
       "</style>\n",
       "<table border=\"1\" class=\"dataframe\">\n",
       "  <thead>\n",
       "    <tr style=\"text-align: right;\">\n",
       "      <th></th>\n",
       "      <th>accession</th>\n",
       "      <th>genus</th>\n",
       "      <th>species</th>\n",
       "      <th>phenotype</th>\n",
       "      <th>mic</th>\n",
       "      <th>3000535</th>\n",
       "      <th>3005091</th>\n",
       "      <th>3000833</th>\n",
       "      <th>3003665</th>\n",
       "      <th>3007433</th>\n",
       "      <th>...</th>\n",
       "      <th>3003285-S531G</th>\n",
       "      <th>3007051-I572F</th>\n",
       "      <th>3007051-I837V</th>\n",
       "      <th>3003294-D105E</th>\n",
       "      <th>3003394-S66P</th>\n",
       "      <th>3005106-A352E</th>\n",
       "      <th>3003937-N514H</th>\n",
       "      <th>3003937-L546V</th>\n",
       "      <th>3003304-E540V</th>\n",
       "      <th>3003304-E504V</th>\n",
       "    </tr>\n",
       "  </thead>\n",
       "  <tbody>\n",
       "    <tr>\n",
       "      <th>3876</th>\n",
       "      <td>SRR3242343</td>\n",
       "      <td>Salmonella</td>\n",
       "      <td>enterica</td>\n",
       "      <td>NaN</td>\n",
       "      <td>NaN</td>\n",
       "      <td>27.0</td>\n",
       "      <td>18.0</td>\n",
       "      <td>25.0</td>\n",
       "      <td>15.0</td>\n",
       "      <td>11.0</td>\n",
       "      <td>...</td>\n",
       "      <td>0.0</td>\n",
       "      <td>0.0</td>\n",
       "      <td>0.0</td>\n",
       "      <td>0.0</td>\n",
       "      <td>0.0</td>\n",
       "      <td>0.0</td>\n",
       "      <td>0.0</td>\n",
       "      <td>0.0</td>\n",
       "      <td>0.0</td>\n",
       "      <td>0.0</td>\n",
       "    </tr>\n",
       "    <tr>\n",
       "      <th>3877</th>\n",
       "      <td>SRR2082856</td>\n",
       "      <td>Salmonella</td>\n",
       "      <td>enterica</td>\n",
       "      <td>NaN</td>\n",
       "      <td>NaN</td>\n",
       "      <td>28.0</td>\n",
       "      <td>17.0</td>\n",
       "      <td>27.0</td>\n",
       "      <td>19.0</td>\n",
       "      <td>15.0</td>\n",
       "      <td>...</td>\n",
       "      <td>0.0</td>\n",
       "      <td>0.0</td>\n",
       "      <td>0.0</td>\n",
       "      <td>0.0</td>\n",
       "      <td>0.0</td>\n",
       "      <td>0.0</td>\n",
       "      <td>0.0</td>\n",
       "      <td>0.0</td>\n",
       "      <td>0.0</td>\n",
       "      <td>0.0</td>\n",
       "    </tr>\n",
       "    <tr>\n",
       "      <th>3878</th>\n",
       "      <td>SRR3242362</td>\n",
       "      <td>Salmonella</td>\n",
       "      <td>enterica</td>\n",
       "      <td>NaN</td>\n",
       "      <td>NaN</td>\n",
       "      <td>25.0</td>\n",
       "      <td>20.0</td>\n",
       "      <td>29.0</td>\n",
       "      <td>23.0</td>\n",
       "      <td>17.0</td>\n",
       "      <td>...</td>\n",
       "      <td>0.0</td>\n",
       "      <td>0.0</td>\n",
       "      <td>0.0</td>\n",
       "      <td>0.0</td>\n",
       "      <td>0.0</td>\n",
       "      <td>0.0</td>\n",
       "      <td>0.0</td>\n",
       "      <td>0.0</td>\n",
       "      <td>0.0</td>\n",
       "      <td>0.0</td>\n",
       "    </tr>\n",
       "    <tr>\n",
       "      <th>3879</th>\n",
       "      <td>SRR1257300</td>\n",
       "      <td>Salmonella</td>\n",
       "      <td>enterica</td>\n",
       "      <td>NaN</td>\n",
       "      <td>NaN</td>\n",
       "      <td>25.0</td>\n",
       "      <td>18.0</td>\n",
       "      <td>27.0</td>\n",
       "      <td>23.0</td>\n",
       "      <td>14.0</td>\n",
       "      <td>...</td>\n",
       "      <td>0.0</td>\n",
       "      <td>0.0</td>\n",
       "      <td>0.0</td>\n",
       "      <td>0.0</td>\n",
       "      <td>0.0</td>\n",
       "      <td>0.0</td>\n",
       "      <td>0.0</td>\n",
       "      <td>0.0</td>\n",
       "      <td>0.0</td>\n",
       "      <td>0.0</td>\n",
       "    </tr>\n",
       "    <tr>\n",
       "      <th>3880</th>\n",
       "      <td>SRR4280580</td>\n",
       "      <td>Salmonella</td>\n",
       "      <td>enterica</td>\n",
       "      <td>NaN</td>\n",
       "      <td>NaN</td>\n",
       "      <td>27.0</td>\n",
       "      <td>18.0</td>\n",
       "      <td>29.0</td>\n",
       "      <td>20.0</td>\n",
       "      <td>16.0</td>\n",
       "      <td>...</td>\n",
       "      <td>0.0</td>\n",
       "      <td>0.0</td>\n",
       "      <td>0.0</td>\n",
       "      <td>0.0</td>\n",
       "      <td>0.0</td>\n",
       "      <td>0.0</td>\n",
       "      <td>0.0</td>\n",
       "      <td>0.0</td>\n",
       "      <td>0.0</td>\n",
       "      <td>0.0</td>\n",
       "    </tr>\n",
       "  </tbody>\n",
       "</table>\n",
       "<p>5 rows × 5570 columns</p>\n",
       "</div>"
      ],
      "text/plain": [
       "       accession       genus   species phenotype  mic  3000535  3005091  \\\n",
       "3876  SRR3242343  Salmonella  enterica       NaN  NaN     27.0     18.0   \n",
       "3877  SRR2082856  Salmonella  enterica       NaN  NaN     28.0     17.0   \n",
       "3878  SRR3242362  Salmonella  enterica       NaN  NaN     25.0     20.0   \n",
       "3879  SRR1257300  Salmonella  enterica       NaN  NaN     25.0     18.0   \n",
       "3880  SRR4280580  Salmonella  enterica       NaN  NaN     27.0     18.0   \n",
       "\n",
       "      3000833  3003665  3007433  ...  3003285-S531G  3007051-I572F  \\\n",
       "3876     25.0     15.0     11.0  ...            0.0            0.0   \n",
       "3877     27.0     19.0     15.0  ...            0.0            0.0   \n",
       "3878     29.0     23.0     17.0  ...            0.0            0.0   \n",
       "3879     27.0     23.0     14.0  ...            0.0            0.0   \n",
       "3880     29.0     20.0     16.0  ...            0.0            0.0   \n",
       "\n",
       "      3007051-I837V  3003294-D105E  3003394-S66P  3005106-A352E  \\\n",
       "3876            0.0            0.0           0.0            0.0   \n",
       "3877            0.0            0.0           0.0            0.0   \n",
       "3878            0.0            0.0           0.0            0.0   \n",
       "3879            0.0            0.0           0.0            0.0   \n",
       "3880            0.0            0.0           0.0            0.0   \n",
       "\n",
       "      3003937-N514H  3003937-L546V  3003304-E540V  3003304-E504V  \n",
       "3876            0.0            0.0            0.0            0.0  \n",
       "3877            0.0            0.0            0.0            0.0  \n",
       "3878            0.0            0.0            0.0            0.0  \n",
       "3879            0.0            0.0            0.0            0.0  \n",
       "3880            0.0            0.0            0.0            0.0  \n",
       "\n",
       "[5 rows x 5570 columns]"
      ]
     },
     "execution_count": 211,
     "metadata": {},
     "output_type": "execute_result"
    }
   ],
   "source": [
    "# Ciprofloxacin Loose Resistance database\n",
    "resis_cipro_L.tail()"
   ]
  },
  {
   "cell_type": "code",
   "execution_count": 212,
   "id": "246d7e90-99c1-41a2-855d-621ad38c8601",
   "metadata": {},
   "outputs": [
    {
     "data": {
      "text/plain": [
       "accession           0\n",
       "genus               0\n",
       "species             0\n",
       "phenotype        1063\n",
       "mic              1063\n",
       "                 ... \n",
       "3005106-A352E       0\n",
       "3003937-N514H       0\n",
       "3003937-L546V       0\n",
       "3003304-E540V       0\n",
       "3003304-E504V       0\n",
       "Length: 5570, dtype: int64"
      ]
     },
     "execution_count": 212,
     "metadata": {},
     "output_type": "execute_result"
    }
   ],
   "source": [
    "# Counting NaN values\n",
    "resis_cipro_L.isnull().sum()"
   ]
  },
  {
   "cell_type": "code",
   "execution_count": 218,
   "id": "51bf3b74-4576-4d29-a8ad-48c527b7fc86",
   "metadata": {},
   "outputs": [
    {
     "data": {
      "text/html": [
       "<div>\n",
       "<style scoped>\n",
       "    .dataframe tbody tr th:only-of-type {\n",
       "        vertical-align: middle;\n",
       "    }\n",
       "\n",
       "    .dataframe tbody tr th {\n",
       "        vertical-align: top;\n",
       "    }\n",
       "\n",
       "    .dataframe thead th {\n",
       "        text-align: right;\n",
       "    }\n",
       "</style>\n",
       "<table border=\"1\" class=\"dataframe\">\n",
       "  <thead>\n",
       "    <tr style=\"text-align: right;\">\n",
       "      <th></th>\n",
       "      <th>accession</th>\n",
       "      <th>genus</th>\n",
       "      <th>species</th>\n",
       "      <th>phenotype</th>\n",
       "      <th>mic</th>\n",
       "      <th>3000535</th>\n",
       "      <th>3005091</th>\n",
       "      <th>3000833</th>\n",
       "      <th>3003665</th>\n",
       "      <th>3007433</th>\n",
       "      <th>...</th>\n",
       "      <th>3003285-S531G</th>\n",
       "      <th>3007051-I572F</th>\n",
       "      <th>3007051-I837V</th>\n",
       "      <th>3003294-D105E</th>\n",
       "      <th>3003394-S66P</th>\n",
       "      <th>3005106-A352E</th>\n",
       "      <th>3003937-N514H</th>\n",
       "      <th>3003937-L546V</th>\n",
       "      <th>3003304-E540V</th>\n",
       "      <th>3003304-E504V</th>\n",
       "    </tr>\n",
       "  </thead>\n",
       "  <tbody>\n",
       "    <tr>\n",
       "      <th>0</th>\n",
       "      <td>SRR3138666</td>\n",
       "      <td>Campylobacter</td>\n",
       "      <td>jejuni</td>\n",
       "      <td>Susceptible</td>\n",
       "      <td>0.12</td>\n",
       "      <td>19.0</td>\n",
       "      <td>10.0</td>\n",
       "      <td>4.0</td>\n",
       "      <td>3.0</td>\n",
       "      <td>3.0</td>\n",
       "      <td>...</td>\n",
       "      <td>0.0</td>\n",
       "      <td>0.0</td>\n",
       "      <td>0.0</td>\n",
       "      <td>0.0</td>\n",
       "      <td>0.0</td>\n",
       "      <td>0.0</td>\n",
       "      <td>0.0</td>\n",
       "      <td>0.0</td>\n",
       "      <td>0.0</td>\n",
       "      <td>0.0</td>\n",
       "    </tr>\n",
       "    <tr>\n",
       "      <th>1</th>\n",
       "      <td>SRR3138667</td>\n",
       "      <td>Campylobacter</td>\n",
       "      <td>jejuni</td>\n",
       "      <td>Susceptible</td>\n",
       "      <td>0.06</td>\n",
       "      <td>19.0</td>\n",
       "      <td>6.0</td>\n",
       "      <td>7.0</td>\n",
       "      <td>4.0</td>\n",
       "      <td>4.0</td>\n",
       "      <td>...</td>\n",
       "      <td>0.0</td>\n",
       "      <td>0.0</td>\n",
       "      <td>0.0</td>\n",
       "      <td>0.0</td>\n",
       "      <td>0.0</td>\n",
       "      <td>0.0</td>\n",
       "      <td>0.0</td>\n",
       "      <td>0.0</td>\n",
       "      <td>0.0</td>\n",
       "      <td>0.0</td>\n",
       "    </tr>\n",
       "    <tr>\n",
       "      <th>2</th>\n",
       "      <td>SRR3138668</td>\n",
       "      <td>Campylobacter</td>\n",
       "      <td>jejuni</td>\n",
       "      <td>Susceptible</td>\n",
       "      <td>0.06</td>\n",
       "      <td>16.0</td>\n",
       "      <td>7.0</td>\n",
       "      <td>5.0</td>\n",
       "      <td>3.0</td>\n",
       "      <td>3.0</td>\n",
       "      <td>...</td>\n",
       "      <td>0.0</td>\n",
       "      <td>0.0</td>\n",
       "      <td>0.0</td>\n",
       "      <td>0.0</td>\n",
       "      <td>0.0</td>\n",
       "      <td>0.0</td>\n",
       "      <td>0.0</td>\n",
       "      <td>0.0</td>\n",
       "      <td>0.0</td>\n",
       "      <td>0.0</td>\n",
       "    </tr>\n",
       "    <tr>\n",
       "      <th>3</th>\n",
       "      <td>SRR3138669</td>\n",
       "      <td>Campylobacter</td>\n",
       "      <td>jejuni</td>\n",
       "      <td>Susceptible</td>\n",
       "      <td>0.06</td>\n",
       "      <td>16.0</td>\n",
       "      <td>7.0</td>\n",
       "      <td>5.0</td>\n",
       "      <td>3.0</td>\n",
       "      <td>3.0</td>\n",
       "      <td>...</td>\n",
       "      <td>0.0</td>\n",
       "      <td>0.0</td>\n",
       "      <td>0.0</td>\n",
       "      <td>0.0</td>\n",
       "      <td>0.0</td>\n",
       "      <td>0.0</td>\n",
       "      <td>0.0</td>\n",
       "      <td>0.0</td>\n",
       "      <td>0.0</td>\n",
       "      <td>0.0</td>\n",
       "    </tr>\n",
       "    <tr>\n",
       "      <th>4</th>\n",
       "      <td>SRR3138670</td>\n",
       "      <td>Campylobacter</td>\n",
       "      <td>jejuni</td>\n",
       "      <td>Susceptible</td>\n",
       "      <td>0.06</td>\n",
       "      <td>20.0</td>\n",
       "      <td>8.0</td>\n",
       "      <td>6.0</td>\n",
       "      <td>4.0</td>\n",
       "      <td>4.0</td>\n",
       "      <td>...</td>\n",
       "      <td>0.0</td>\n",
       "      <td>0.0</td>\n",
       "      <td>0.0</td>\n",
       "      <td>0.0</td>\n",
       "      <td>0.0</td>\n",
       "      <td>0.0</td>\n",
       "      <td>0.0</td>\n",
       "      <td>0.0</td>\n",
       "      <td>0.0</td>\n",
       "      <td>0.0</td>\n",
       "    </tr>\n",
       "  </tbody>\n",
       "</table>\n",
       "<p>5 rows × 5570 columns</p>\n",
       "</div>"
      ],
      "text/plain": [
       "    accession          genus species    phenotype   mic  3000535  3005091  \\\n",
       "0  SRR3138666  Campylobacter  jejuni  Susceptible  0.12     19.0     10.0   \n",
       "1  SRR3138667  Campylobacter  jejuni  Susceptible  0.06     19.0      6.0   \n",
       "2  SRR3138668  Campylobacter  jejuni  Susceptible  0.06     16.0      7.0   \n",
       "3  SRR3138669  Campylobacter  jejuni  Susceptible  0.06     16.0      7.0   \n",
       "4  SRR3138670  Campylobacter  jejuni  Susceptible  0.06     20.0      8.0   \n",
       "\n",
       "   3000833  3003665  3007433  ...  3003285-S531G  3007051-I572F  \\\n",
       "0      4.0      3.0      3.0  ...            0.0            0.0   \n",
       "1      7.0      4.0      4.0  ...            0.0            0.0   \n",
       "2      5.0      3.0      3.0  ...            0.0            0.0   \n",
       "3      5.0      3.0      3.0  ...            0.0            0.0   \n",
       "4      6.0      4.0      4.0  ...            0.0            0.0   \n",
       "\n",
       "   3007051-I837V  3003294-D105E  3003394-S66P  3005106-A352E  3003937-N514H  \\\n",
       "0            0.0            0.0           0.0            0.0            0.0   \n",
       "1            0.0            0.0           0.0            0.0            0.0   \n",
       "2            0.0            0.0           0.0            0.0            0.0   \n",
       "3            0.0            0.0           0.0            0.0            0.0   \n",
       "4            0.0            0.0           0.0            0.0            0.0   \n",
       "\n",
       "   3003937-L546V  3003304-E540V  3003304-E504V  \n",
       "0            0.0            0.0            0.0  \n",
       "1            0.0            0.0            0.0  \n",
       "2            0.0            0.0            0.0  \n",
       "3            0.0            0.0            0.0  \n",
       "4            0.0            0.0            0.0  \n",
       "\n",
       "[5 rows x 5570 columns]"
      ]
     },
     "execution_count": 218,
     "metadata": {},
     "output_type": "execute_result"
    }
   ],
   "source": [
    "# To extract train data\n",
    "resis_cipro_L_Train = resis_cipro_L.copy()\n",
    "resis_cipro_L_Train = resis_cipro_L_Train.dropna()\n",
    "resis_cipro_L_Train.head()"
   ]
  },
  {
   "cell_type": "code",
   "execution_count": 216,
   "id": "8671588d-694b-49ce-9df5-b6e0d724c54e",
   "metadata": {},
   "outputs": [
    {
     "data": {
      "text/plain": [
       "accession        0\n",
       "genus            0\n",
       "species          0\n",
       "phenotype        0\n",
       "mic              0\n",
       "                ..\n",
       "3005106-A352E    0\n",
       "3003937-N514H    0\n",
       "3003937-L546V    0\n",
       "3003304-E540V    0\n",
       "3003304-E504V    0\n",
       "Length: 5570, dtype: int64"
      ]
     },
     "execution_count": 216,
     "metadata": {},
     "output_type": "execute_result"
    }
   ],
   "source": [
    "# Visualize train data without nan values\n",
    "resis_cipro_L_Train.isnull().sum()"
   ]
  },
  {
   "cell_type": "code",
   "execution_count": 217,
   "id": "dde02430-c8b6-43a5-8c97-2b86c8003f38",
   "metadata": {},
   "outputs": [
    {
     "name": "stdout",
     "output_type": "stream",
     "text": [
      "Cipro Loose size: (3881, 5570) \n",
      "Cipro Loose training size: (2818, 5570)\n"
     ]
    }
   ],
   "source": [
    "# To know data sets dimentions\n",
    "print(\"Cipro Loose size:\", resis_cipro_L.shape, \"\\nCipro Loose training size:\", resis_cipro_L_Train.shape)"
   ]
  },
  {
   "cell_type": "code",
   "execution_count": 255,
   "id": "f2e6739b-4038-47c7-964b-e0e5da8f2b3c",
   "metadata": {},
   "outputs": [
    {
     "data": {
      "text/html": [
       "<div>\n",
       "<style scoped>\n",
       "    .dataframe tbody tr th:only-of-type {\n",
       "        vertical-align: middle;\n",
       "    }\n",
       "\n",
       "    .dataframe tbody tr th {\n",
       "        vertical-align: top;\n",
       "    }\n",
       "\n",
       "    .dataframe thead th {\n",
       "        text-align: right;\n",
       "    }\n",
       "</style>\n",
       "<table border=\"1\" class=\"dataframe\">\n",
       "  <thead>\n",
       "    <tr style=\"text-align: right;\">\n",
       "      <th></th>\n",
       "      <th>accession</th>\n",
       "      <th>genus</th>\n",
       "      <th>species</th>\n",
       "      <th>phenotype</th>\n",
       "      <th>mic</th>\n",
       "      <th>3000535</th>\n",
       "      <th>3005091</th>\n",
       "      <th>3000833</th>\n",
       "      <th>3003665</th>\n",
       "      <th>3007433</th>\n",
       "      <th>...</th>\n",
       "      <th>3003285-S531G</th>\n",
       "      <th>3007051-I572F</th>\n",
       "      <th>3007051-I837V</th>\n",
       "      <th>3003294-D105E</th>\n",
       "      <th>3003394-S66P</th>\n",
       "      <th>3005106-A352E</th>\n",
       "      <th>3003937-N514H</th>\n",
       "      <th>3003937-L546V</th>\n",
       "      <th>3003304-E540V</th>\n",
       "      <th>3003304-E504V</th>\n",
       "    </tr>\n",
       "  </thead>\n",
       "  <tbody>\n",
       "    <tr>\n",
       "      <th>2818</th>\n",
       "      <td>ERR1417717</td>\n",
       "      <td>Escherichia</td>\n",
       "      <td>coli</td>\n",
       "      <td>NaN</td>\n",
       "      <td>NaN</td>\n",
       "      <td>32.0</td>\n",
       "      <td>24.0</td>\n",
       "      <td>23.0</td>\n",
       "      <td>22.0</td>\n",
       "      <td>20.0</td>\n",
       "      <td>...</td>\n",
       "      <td>0.0</td>\n",
       "      <td>0.0</td>\n",
       "      <td>0.0</td>\n",
       "      <td>0.0</td>\n",
       "      <td>0.0</td>\n",
       "      <td>0.0</td>\n",
       "      <td>0.0</td>\n",
       "      <td>0.0</td>\n",
       "      <td>0.0</td>\n",
       "      <td>0.0</td>\n",
       "    </tr>\n",
       "    <tr>\n",
       "      <th>2819</th>\n",
       "      <td>ERR1417719</td>\n",
       "      <td>Escherichia</td>\n",
       "      <td>coli</td>\n",
       "      <td>NaN</td>\n",
       "      <td>NaN</td>\n",
       "      <td>32.0</td>\n",
       "      <td>24.0</td>\n",
       "      <td>23.0</td>\n",
       "      <td>22.0</td>\n",
       "      <td>20.0</td>\n",
       "      <td>...</td>\n",
       "      <td>0.0</td>\n",
       "      <td>0.0</td>\n",
       "      <td>0.0</td>\n",
       "      <td>0.0</td>\n",
       "      <td>0.0</td>\n",
       "      <td>0.0</td>\n",
       "      <td>0.0</td>\n",
       "      <td>0.0</td>\n",
       "      <td>0.0</td>\n",
       "      <td>0.0</td>\n",
       "    </tr>\n",
       "    <tr>\n",
       "      <th>2820</th>\n",
       "      <td>ERR1417722</td>\n",
       "      <td>Escherichia</td>\n",
       "      <td>coli</td>\n",
       "      <td>NaN</td>\n",
       "      <td>NaN</td>\n",
       "      <td>32.0</td>\n",
       "      <td>25.0</td>\n",
       "      <td>20.0</td>\n",
       "      <td>25.0</td>\n",
       "      <td>16.0</td>\n",
       "      <td>...</td>\n",
       "      <td>0.0</td>\n",
       "      <td>0.0</td>\n",
       "      <td>0.0</td>\n",
       "      <td>0.0</td>\n",
       "      <td>0.0</td>\n",
       "      <td>0.0</td>\n",
       "      <td>0.0</td>\n",
       "      <td>0.0</td>\n",
       "      <td>0.0</td>\n",
       "      <td>0.0</td>\n",
       "    </tr>\n",
       "    <tr>\n",
       "      <th>2821</th>\n",
       "      <td>ERR1417741</td>\n",
       "      <td>Escherichia</td>\n",
       "      <td>coli</td>\n",
       "      <td>NaN</td>\n",
       "      <td>NaN</td>\n",
       "      <td>31.0</td>\n",
       "      <td>25.0</td>\n",
       "      <td>21.0</td>\n",
       "      <td>22.0</td>\n",
       "      <td>20.0</td>\n",
       "      <td>...</td>\n",
       "      <td>0.0</td>\n",
       "      <td>0.0</td>\n",
       "      <td>0.0</td>\n",
       "      <td>0.0</td>\n",
       "      <td>0.0</td>\n",
       "      <td>0.0</td>\n",
       "      <td>0.0</td>\n",
       "      <td>0.0</td>\n",
       "      <td>0.0</td>\n",
       "      <td>0.0</td>\n",
       "    </tr>\n",
       "    <tr>\n",
       "      <th>2822</th>\n",
       "      <td>ERR1417745</td>\n",
       "      <td>Escherichia</td>\n",
       "      <td>coli</td>\n",
       "      <td>NaN</td>\n",
       "      <td>NaN</td>\n",
       "      <td>33.0</td>\n",
       "      <td>24.0</td>\n",
       "      <td>19.0</td>\n",
       "      <td>23.0</td>\n",
       "      <td>17.0</td>\n",
       "      <td>...</td>\n",
       "      <td>0.0</td>\n",
       "      <td>0.0</td>\n",
       "      <td>0.0</td>\n",
       "      <td>0.0</td>\n",
       "      <td>0.0</td>\n",
       "      <td>0.0</td>\n",
       "      <td>0.0</td>\n",
       "      <td>0.0</td>\n",
       "      <td>0.0</td>\n",
       "      <td>0.0</td>\n",
       "    </tr>\n",
       "  </tbody>\n",
       "</table>\n",
       "<p>5 rows × 5570 columns</p>\n",
       "</div>"
      ],
      "text/plain": [
       "       accession        genus species phenotype  mic  3000535  3005091  \\\n",
       "2818  ERR1417717  Escherichia    coli       NaN  NaN     32.0     24.0   \n",
       "2819  ERR1417719  Escherichia    coli       NaN  NaN     32.0     24.0   \n",
       "2820  ERR1417722  Escherichia    coli       NaN  NaN     32.0     25.0   \n",
       "2821  ERR1417741  Escherichia    coli       NaN  NaN     31.0     25.0   \n",
       "2822  ERR1417745  Escherichia    coli       NaN  NaN     33.0     24.0   \n",
       "\n",
       "      3000833  3003665  3007433  ...  3003285-S531G  3007051-I572F  \\\n",
       "2818     23.0     22.0     20.0  ...            0.0            0.0   \n",
       "2819     23.0     22.0     20.0  ...            0.0            0.0   \n",
       "2820     20.0     25.0     16.0  ...            0.0            0.0   \n",
       "2821     21.0     22.0     20.0  ...            0.0            0.0   \n",
       "2822     19.0     23.0     17.0  ...            0.0            0.0   \n",
       "\n",
       "      3007051-I837V  3003294-D105E  3003394-S66P  3005106-A352E  \\\n",
       "2818            0.0            0.0           0.0            0.0   \n",
       "2819            0.0            0.0           0.0            0.0   \n",
       "2820            0.0            0.0           0.0            0.0   \n",
       "2821            0.0            0.0           0.0            0.0   \n",
       "2822            0.0            0.0           0.0            0.0   \n",
       "\n",
       "      3003937-N514H  3003937-L546V  3003304-E540V  3003304-E504V  \n",
       "2818            0.0            0.0            0.0            0.0  \n",
       "2819            0.0            0.0            0.0            0.0  \n",
       "2820            0.0            0.0            0.0            0.0  \n",
       "2821            0.0            0.0            0.0            0.0  \n",
       "2822            0.0            0.0            0.0            0.0  \n",
       "\n",
       "[5 rows x 5570 columns]"
      ]
     },
     "execution_count": 255,
     "metadata": {},
     "output_type": "execute_result"
    }
   ],
   "source": [
    "# # To extract test data\n",
    "resis_cipro_L_Test = resis_cipro_L.copy()\n",
    "resis_cipro_L_Test = resis_cipro_L_Test[resis_cipro_L_Test['phenotype'].isna()]\n",
    "resis_cipro_L_Test.head()"
   ]
  },
  {
   "cell_type": "code",
   "execution_count": 220,
   "id": "41607e6f-c4e3-440e-ab00-508aa7b11485",
   "metadata": {},
   "outputs": [
    {
     "name": "stdout",
     "output_type": "stream",
     "text": [
      "Cipro Loose size: (3881, 5570) \n",
      "Cipro Loose test size: (1063, 5570)\n"
     ]
    }
   ],
   "source": [
    "# Print data base dimentions\n",
    "print(\"Cipro Loose size:\", resis_cipro_L.shape, \"\\nCipro Loose test size:\", resis_cipro_L_Test.shape)"
   ]
  },
  {
   "cell_type": "code",
   "execution_count": 232,
   "id": "4ccf7e4b-647a-444e-b639-35bdca2650de",
   "metadata": {},
   "outputs": [
    {
     "name": "stdout",
     "output_type": "stream",
     "text": [
      "phenotype\n",
      "Susceptible    2604\n",
      "Resistant       214\n",
      "Name: count, dtype: int64\n"
     ]
    }
   ],
   "source": [
    "# Check for class ditribution in phenotype\n",
    "class_counts1 = resis_cipro_L_Train['phenotype'].value_counts()\n",
    "print(class_counts1)"
   ]
  },
  {
   "cell_type": "code",
   "execution_count": 233,
   "id": "90a73737-4d87-4fb5-a44a-87d70290e590",
   "metadata": {},
   "outputs": [
    {
     "data": {
      "image/png": "[encoded data removed]",
      "text/plain": [
       "<Figure size 640x480 with 1 Axes>"
      ]
     },
     "metadata": {},
     "output_type": "display_data"
    }
   ],
   "source": [
    "# plot ditribution phenotype\n",
    "class_counts1.plot(kind='bar')\n",
    "plt.xlabel('Phenotype')\n",
    "plt.ylabel('Frequency')\n",
    "plt.title('Phenotype Distribution')\n",
    "plt.show()"
   ]
  },
  {
   "cell_type": "code",
   "execution_count": 230,
   "id": "74a91867-1117-4d73-b2c8-22ead66f1ed2",
   "metadata": {},
   "outputs": [
    {
     "name": "stdout",
     "output_type": "stream",
     "text": [
      "genus\n",
      "Salmonella       2165\n",
      "Campylobacter     475\n",
      "Neisseria         178\n",
      "Name: count, dtype: int64\n"
     ]
    }
   ],
   "source": [
    "# Check class ditribution in genus\n",
    "class_counts2 = resis_cipro_L_Train['genus'].value_counts()\n",
    "print(class_counts2)"
   ]
  },
  {
   "cell_type": "code",
   "execution_count": 234,
   "id": "f935b283-e251-40dc-a733-f6a329a971a3",
   "metadata": {},
   "outputs": [
    {
     "data": {
      "image/png": "[encoded data removed]",
      "text/plain": [
       "<Figure size 640x480 with 1 Axes>"
      ]
     },
     "metadata": {},
     "output_type": "display_data"
    }
   ],
   "source": [
    "# plot genus ditribution\n",
    "class_counts2.plot(kind='bar')\n",
    "plt.xlabel('Genus')\n",
    "plt.ylabel('Frequency')\n",
    "plt.title('Genus Distribution')\n",
    "plt.show()"
   ]
  },
  {
   "cell_type": "code",
   "execution_count": 238,
   "id": "5f19de61-70c4-4176-8e01-c4369c094612",
   "metadata": {},
   "outputs": [
    {
     "name": "stdout",
     "output_type": "stream",
     "text": [
      "species\n",
      "enterica       2165\n",
      "jejuni          475\n",
      "gonorrhoeae     178\n",
      "Name: count, dtype: int64\n"
     ]
    }
   ],
   "source": [
    "# Check class ditribution in species\n",
    "class_counts3 = resis_cipro_L_Train['species'].value_counts()\n",
    "print(class_counts3)"
   ]
  },
  {
   "cell_type": "code",
   "execution_count": 239,
   "id": "712da2b4-1ec2-49e3-9b96-dd49ad63e030",
   "metadata": {},
   "outputs": [
    {
     "data": {
      "image/png": "[encoded data removed]",
      "text/plain": [
       "<Figure size 640x480 with 1 Axes>"
      ]
     },
     "metadata": {},
     "output_type": "display_data"
    }
   ],
   "source": [
    "# plot species ditribution\n",
    "class_counts3.plot(kind='bar')\n",
    "plt.xlabel('Species')\n",
    "plt.ylabel('Frequency')\n",
    "plt.title('Species Distribution')\n",
    "plt.show()"
   ]
  },
  {
   "cell_type": "code",
   "execution_count": 240,
   "id": "f4f51383-bb6c-4202-87d0-2d94d56144a0",
   "metadata": {},
   "outputs": [
    {
     "name": "stdout",
     "output_type": "stream",
     "text": [
      "mic\n",
      "0.015     1757\n",
      "0.030      391\n",
      "0.060      260\n",
      "0.120       91\n",
      "16.000      71\n",
      "8.000       57\n",
      "4.000       54\n",
      "0.004       40\n",
      "0.250       19\n",
      "1.000       18\n",
      "32.000      13\n",
      "0.016       11\n",
      "2.000        9\n",
      "0.002        8\n",
      "0.500        6\n",
      "64.000       4\n",
      "0.008        3\n",
      "0.032        3\n",
      "0.063        1\n",
      "0.125        1\n",
      "0.012        1\n",
      "Name: count, dtype: int64\n"
     ]
    }
   ],
   "source": [
    "# Check class ditribution in mic\n",
    "class_counts4 = resis_cipro_L_Train['mic'].value_counts()\n",
    "print(class_counts4)"
   ]
  },
  {
   "cell_type": "code",
   "execution_count": 244,
   "id": "ef5beb04-b068-4958-9fda-c3ae4c629ddf",
   "metadata": {},
   "outputs": [
    {
     "data": {
      "image/png": "[encoded data removed]",
      "text/plain": [
       "<Figure size 640x480 with 1 Axes>"
      ]
     },
     "metadata": {},
     "output_type": "display_data"
    }
   ],
   "source": [
    "# plot species ditribution\n",
    "class_counts4.plot(kind='bar')\n",
    "class_counts4.sort_index(inplace=False)\n",
    "plt.xlabel('MIC Values')\n",
    "plt.ylabel('Frequency')\n",
    "plt.title('MIC Values Distribution')\n",
    "plt.show()"
   ]
  },
  {
   "cell_type": "code",
   "execution_count": null,
   "id": "08b7c505-fe4f-4f4e-af78-13ce261c90b9",
   "metadata": {},
   "outputs": [],
   "source": []
  },
  {
   "cell_type": "code",
   "execution_count": null,
   "id": "f0a85fd5-d5ce-4da3-9793-b3c02c5e8716",
   "metadata": {},
   "outputs": [],
   "source": []
  },
  {
   "cell_type": "markdown",
   "id": "4327c291-96b7-4f52-b38c-a0282c84b524",
   "metadata": {},
   "source": [
    "# Class balance\n",
    "## 1. Unbalanced"
   ]
  },
  {
   "cell_type": "markdown",
   "id": "44042083-07ce-475f-9c4f-9455631c6fb9",
   "metadata": {},
   "source": [
    "Para aplicar un modelo de Random Forest codificamos todos los valores de la base de datos a números"
   ]
  },
  {
   "cell_type": "code",
   "execution_count": 254,
   "id": "98db6014-700a-48e0-8da4-561abf9ae2b1",
   "metadata": {},
   "outputs": [
    {
     "name": "stdout",
     "output_type": "stream",
     "text": [
      "Index(['accession', 'genus', 'species', 'phenotype'], dtype='object')\n"
     ]
    }
   ],
   "source": [
    "non_numeric_columns = resis_cipro_L_Train.select_dtypes(exclude=['number']).columns\n",
    "print(non_numeric_columns)\n"
   ]
  },
  {
   "cell_type": "code",
   "execution_count": 261,
   "id": "23e5cc97-ca6f-4dc9-bb41-6929e47412df",
   "metadata": {},
   "outputs": [
    {
     "data": {
      "text/html": [
       "<div>\n",
       "<style scoped>\n",
       "    .dataframe tbody tr th:only-of-type {\n",
       "        vertical-align: middle;\n",
       "    }\n",
       "\n",
       "    .dataframe tbody tr th {\n",
       "        vertical-align: top;\n",
       "    }\n",
       "\n",
       "    .dataframe thead th {\n",
       "        text-align: right;\n",
       "    }\n",
       "</style>\n",
       "<table border=\"1\" class=\"dataframe\">\n",
       "  <thead>\n",
       "    <tr style=\"text-align: right;\">\n",
       "      <th></th>\n",
       "      <th>accession</th>\n",
       "      <th>genus</th>\n",
       "      <th>species</th>\n",
       "      <th>phenotype</th>\n",
       "    </tr>\n",
       "  </thead>\n",
       "  <tbody>\n",
       "    <tr>\n",
       "      <th>0</th>\n",
       "      <td>SRR3138666</td>\n",
       "      <td>Campylobacter</td>\n",
       "      <td>jejuni</td>\n",
       "      <td>Susceptible</td>\n",
       "    </tr>\n",
       "    <tr>\n",
       "      <th>1</th>\n",
       "      <td>SRR3138667</td>\n",
       "      <td>Campylobacter</td>\n",
       "      <td>jejuni</td>\n",
       "      <td>Susceptible</td>\n",
       "    </tr>\n",
       "    <tr>\n",
       "      <th>2</th>\n",
       "      <td>SRR3138668</td>\n",
       "      <td>Campylobacter</td>\n",
       "      <td>jejuni</td>\n",
       "      <td>Susceptible</td>\n",
       "    </tr>\n",
       "    <tr>\n",
       "      <th>3</th>\n",
       "      <td>SRR3138669</td>\n",
       "      <td>Campylobacter</td>\n",
       "      <td>jejuni</td>\n",
       "      <td>Susceptible</td>\n",
       "    </tr>\n",
       "    <tr>\n",
       "      <th>4</th>\n",
       "      <td>SRR3138670</td>\n",
       "      <td>Campylobacter</td>\n",
       "      <td>jejuni</td>\n",
       "      <td>Susceptible</td>\n",
       "    </tr>\n",
       "    <tr>\n",
       "      <th>...</th>\n",
       "      <td>...</td>\n",
       "      <td>...</td>\n",
       "      <td>...</td>\n",
       "      <td>...</td>\n",
       "    </tr>\n",
       "    <tr>\n",
       "      <th>2813</th>\n",
       "      <td>SRR4449966</td>\n",
       "      <td>Salmonella</td>\n",
       "      <td>enterica</td>\n",
       "      <td>Susceptible</td>\n",
       "    </tr>\n",
       "    <tr>\n",
       "      <th>2814</th>\n",
       "      <td>SRR4449967</td>\n",
       "      <td>Salmonella</td>\n",
       "      <td>enterica</td>\n",
       "      <td>Susceptible</td>\n",
       "    </tr>\n",
       "    <tr>\n",
       "      <th>2815</th>\n",
       "      <td>SRR4449972</td>\n",
       "      <td>Salmonella</td>\n",
       "      <td>enterica</td>\n",
       "      <td>Susceptible</td>\n",
       "    </tr>\n",
       "    <tr>\n",
       "      <th>2816</th>\n",
       "      <td>SRR4449973</td>\n",
       "      <td>Salmonella</td>\n",
       "      <td>enterica</td>\n",
       "      <td>Susceptible</td>\n",
       "    </tr>\n",
       "    <tr>\n",
       "      <th>2817</th>\n",
       "      <td>SRR4449974</td>\n",
       "      <td>Salmonella</td>\n",
       "      <td>enterica</td>\n",
       "      <td>Susceptible</td>\n",
       "    </tr>\n",
       "  </tbody>\n",
       "</table>\n",
       "<p>2818 rows × 4 columns</p>\n",
       "</div>"
      ],
      "text/plain": [
       "       accession          genus   species    phenotype\n",
       "0     SRR3138666  Campylobacter    jejuni  Susceptible\n",
       "1     SRR3138667  Campylobacter    jejuni  Susceptible\n",
       "2     SRR3138668  Campylobacter    jejuni  Susceptible\n",
       "3     SRR3138669  Campylobacter    jejuni  Susceptible\n",
       "4     SRR3138670  Campylobacter    jejuni  Susceptible\n",
       "...          ...            ...       ...          ...\n",
       "2813  SRR4449966     Salmonella  enterica  Susceptible\n",
       "2814  SRR4449967     Salmonella  enterica  Susceptible\n",
       "2815  SRR4449972     Salmonella  enterica  Susceptible\n",
       "2816  SRR4449973     Salmonella  enterica  Susceptible\n",
       "2817  SRR4449974     Salmonella  enterica  Susceptible\n",
       "\n",
       "[2818 rows x 4 columns]"
      ]
     },
     "execution_count": 261,
     "metadata": {},
     "output_type": "execute_result"
    }
   ],
   "source": [
    "resis_cipro_L_Train.iloc[:, 0:4]"
   ]
  },
  {
   "cell_type": "code",
   "execution_count": 271,
   "id": "92ddd32a-ac21-4530-8922-a8b27a96f9d7",
   "metadata": {},
   "outputs": [
    {
     "ename": "ValueError",
     "evalue": "The truth value of a DataFrame is ambiguous. Use a.empty, a.bool(), a.item(), a.any() or a.all().",
     "output_type": "error",
     "traceback": [
      "\u001b[0;31m---------------------------------------------------------------------------\u001b[0m",
      "\u001b[0;31mValueError\u001b[0m                                Traceback (most recent call last)",
      "\u001b[0;32m/tmp/ipykernel_1725917/4042758536.py\u001b[0m in \u001b[0;36m?\u001b[0;34m()\u001b[0m\n\u001b[0;32m---> 17\u001b[0;31m \u001b[0;31m# Instancia del codificador\u001b[0m\u001b[0;34m\u001b[0m\u001b[0;34m\u001b[0m\u001b[0m\n\u001b[0m\u001b[1;32m     18\u001b[0m \u001b[0mlabel_encoder\u001b[0m \u001b[0;34m=\u001b[0m \u001b[0mLabelEncoder\u001b[0m\u001b[0;34m(\u001b[0m\u001b[0;34m)\u001b[0m\u001b[0;34m\u001b[0m\u001b[0;34m\u001b[0m\u001b[0m\n\u001b[1;32m     19\u001b[0m \u001b[0;34m\u001b[0m\u001b[0m\n\u001b[1;32m     20\u001b[0m \u001b[0;31m# Inicializa resis_cipro_L_Train_categ_encoded como un DataFrame vacío con las mismas columnas\u001b[0m\u001b[0;34m\u001b[0m\u001b[0;34m\u001b[0m\u001b[0m\n",
      "\u001b[0;32m/opt/conda/envs/umap/lib/python3.9/site-packages/pandas/core/series.py\u001b[0m in \u001b[0;36m?\u001b[0;34m(self, data, index, dtype, name, copy, fastpath)\u001b[0m\n\u001b[1;32m    533\u001b[0m                 \u001b[0mdata\u001b[0m \u001b[0;34m=\u001b[0m \u001b[0mdata\u001b[0m\u001b[0;34m.\u001b[0m\u001b[0mreindex\u001b[0m\u001b[0;34m(\u001b[0m\u001b[0mindex\u001b[0m\u001b[0;34m,\u001b[0m \u001b[0mcopy\u001b[0m\u001b[0;34m=\u001b[0m\u001b[0mcopy\u001b[0m\u001b[0;34m)\u001b[0m\u001b[0;34m\u001b[0m\u001b[0;34m\u001b[0m\u001b[0m\n\u001b[1;32m    534\u001b[0m                 \u001b[0mcopy\u001b[0m \u001b[0;34m=\u001b[0m \u001b[0;32mFalse\u001b[0m\u001b[0;34m\u001b[0m\u001b[0;34m\u001b[0m\u001b[0m\n\u001b[1;32m    535\u001b[0m                 \u001b[0mdata\u001b[0m \u001b[0;34m=\u001b[0m \u001b[0mdata\u001b[0m\u001b[0;34m.\u001b[0m\u001b[0m_mgr\u001b[0m\u001b[0;34m\u001b[0m\u001b[0;34m\u001b[0m\u001b[0m\n\u001b[1;32m    536\u001b[0m         \u001b[0;32melif\u001b[0m \u001b[0mis_dict_like\u001b[0m\u001b[0;34m(\u001b[0m\u001b[0mdata\u001b[0m\u001b[0;34m)\u001b[0m\u001b[0;34m:\u001b[0m\u001b[0;34m\u001b[0m\u001b[0;34m\u001b[0m\u001b[0m\n\u001b[0;32m--> 537\u001b[0;31m             \u001b[0mdata\u001b[0m\u001b[0;34m,\u001b[0m \u001b[0mindex\u001b[0m \u001b[0;34m=\u001b[0m \u001b[0mself\u001b[0m\u001b[0;34m.\u001b[0m\u001b[0m_init_dict\u001b[0m\u001b[0;34m(\u001b[0m\u001b[0mdata\u001b[0m\u001b[0;34m,\u001b[0m \u001b[0mindex\u001b[0m\u001b[0;34m,\u001b[0m \u001b[0mdtype\u001b[0m\u001b[0;34m)\u001b[0m\u001b[0;34m\u001b[0m\u001b[0;34m\u001b[0m\u001b[0m\n\u001b[0m\u001b[1;32m    538\u001b[0m             \u001b[0mdtype\u001b[0m \u001b[0;34m=\u001b[0m \u001b[0;32mNone\u001b[0m\u001b[0;34m\u001b[0m\u001b[0;34m\u001b[0m\u001b[0m\n\u001b[1;32m    539\u001b[0m             \u001b[0mcopy\u001b[0m \u001b[0;34m=\u001b[0m \u001b[0;32mFalse\u001b[0m\u001b[0;34m\u001b[0m\u001b[0;34m\u001b[0m\u001b[0m\n\u001b[1;32m    540\u001b[0m         \u001b[0;32melif\u001b[0m \u001b[0misinstance\u001b[0m\u001b[0;34m(\u001b[0m\u001b[0mdata\u001b[0m\u001b[0;34m,\u001b[0m \u001b[0;34m(\u001b[0m\u001b[0mSingleBlockManager\u001b[0m\u001b[0;34m,\u001b[0m \u001b[0mSingleArrayManager\u001b[0m\u001b[0;34m)\u001b[0m\u001b[0;34m)\u001b[0m\u001b[0;34m:\u001b[0m\u001b[0;34m\u001b[0m\u001b[0;34m\u001b[0m\u001b[0m\n",
      "\u001b[0;32m/opt/conda/envs/umap/lib/python3.9/site-packages/pandas/core/series.py\u001b[0m in \u001b[0;36m?\u001b[0;34m(self, data, index, dtype)\u001b[0m\n\u001b[1;32m    628\u001b[0m         \u001b[0mkeys\u001b[0m\u001b[0;34m:\u001b[0m \u001b[0mIndex\u001b[0m \u001b[0;34m|\u001b[0m \u001b[0mtuple\u001b[0m\u001b[0;34m\u001b[0m\u001b[0;34m\u001b[0m\u001b[0m\n\u001b[1;32m    629\u001b[0m \u001b[0;34m\u001b[0m\u001b[0m\n\u001b[1;32m    630\u001b[0m         \u001b[0;31m# Looking for NaN in dict doesn't work ({np.nan : 1}[float('nan')]\u001b[0m\u001b[0;34m\u001b[0m\u001b[0;34m\u001b[0m\u001b[0m\n\u001b[1;32m    631\u001b[0m         \u001b[0;31m# raises KeyError), so we iterate the entire dict, and align\u001b[0m\u001b[0;34m\u001b[0m\u001b[0;34m\u001b[0m\u001b[0m\n\u001b[0;32m--> 632\u001b[0;31m         \u001b[0;32mif\u001b[0m \u001b[0mdata\u001b[0m\u001b[0;34m:\u001b[0m\u001b[0;34m\u001b[0m\u001b[0;34m\u001b[0m\u001b[0m\n\u001b[0m\u001b[1;32m    633\u001b[0m             \u001b[0;31m# GH:34717, issue was using zip to extract key and values from data.\u001b[0m\u001b[0;34m\u001b[0m\u001b[0;34m\u001b[0m\u001b[0m\n\u001b[1;32m    634\u001b[0m             \u001b[0;31m# using generators in effects the performance.\u001b[0m\u001b[0;34m\u001b[0m\u001b[0;34m\u001b[0m\u001b[0m\n\u001b[1;32m    635\u001b[0m             \u001b[0;31m# Below is the new way of extracting the keys and values\u001b[0m\u001b[0;34m\u001b[0m\u001b[0;34m\u001b[0m\u001b[0m\n",
      "\u001b[0;32m/opt/conda/envs/umap/lib/python3.9/site-packages/pandas/core/generic.py\u001b[0m in \u001b[0;36m?\u001b[0;34m(self)\u001b[0m\n\u001b[1;32m   1574\u001b[0m     \u001b[0;34m@\u001b[0m\u001b[0mfinal\u001b[0m\u001b[0;34m\u001b[0m\u001b[0;34m\u001b[0m\u001b[0m\n\u001b[1;32m   1575\u001b[0m     \u001b[0;32mdef\u001b[0m \u001b[0m__nonzero__\u001b[0m\u001b[0;34m(\u001b[0m\u001b[0mself\u001b[0m\u001b[0;34m)\u001b[0m \u001b[0;34m->\u001b[0m \u001b[0mNoReturn\u001b[0m\u001b[0;34m:\u001b[0m\u001b[0;34m\u001b[0m\u001b[0;34m\u001b[0m\u001b[0m\n\u001b[0;32m-> 1576\u001b[0;31m         raise ValueError(\n\u001b[0m\u001b[1;32m   1577\u001b[0m             \u001b[0;34mf\"The truth value of a {type(self).__name__} is ambiguous. \"\u001b[0m\u001b[0;34m\u001b[0m\u001b[0;34m\u001b[0m\u001b[0m\n\u001b[1;32m   1578\u001b[0m             \u001b[0;34m\"Use a.empty, a.bool(), a.item(), a.any() or a.all().\"\u001b[0m\u001b[0;34m\u001b[0m\u001b[0;34m\u001b[0m\u001b[0m\n\u001b[1;32m   1579\u001b[0m         )\n",
      "\u001b[0;31mValueError\u001b[0m: The truth value of a DataFrame is ambiguous. Use a.empty, a.bool(), a.item(), a.any() or a.all()."
     ]
    }
   ],
   "source": [
    "# Instancia del codificador\n",
    "label_encoder = LabelEncoder()\n",
    "\n",
    "# Inicializa resis_cipro_L_Train_categ_encoded como un DataFrame vacío con las mismas columnas\n",
    "resis_cipro_L_Train_categ_encoded = pd.DataFrame(index=resis_cipro_L_Train.index, columns=resis_cipro_L_Train.columns)\n",
    "\n",
    "# Codifica la variable categórica\n",
    "#for col in [0, 1, 2, 3]:\n",
    "#    resis_cipro_L_Train_categ_encoded.iloc[:, col] = label_encoder.fit_transform(resis_cipro_L_Train.iloc[:, col])\n",
    "\n",
    "# Codificar columnas categóricas\n",
    "for col in [0, 1, 2, 3]:  # Modifica estos índices según lo necesario\n",
    "    resis_cipro_L_Train_categ_encoded.iloc[:, col] = label_encoder.fit_transform(resis_cipro_L_Train.iloc[:, col].astype(str))\n",
    "\n",
    "\n",
    "# Convert the NumPy array to a Pandas Series\n",
    "resis_cipro_L_Train_categ_encoded_series = pd.Series(resis_cipro_L_Train_categ_encoded)\n",
    "    \n",
    "# Get the value counts\n",
    "class_counts5 = resis_cipro_L_Train_categ_encoded_series.value_counts()\n",
    "\n",
    "print(class_counts5)\n",
    "\n"
   ]
  },
  {
   "cell_type": "code",
   "execution_count": 264,
   "id": "fe9c69c2-9207-492d-a09e-827c5269ccbc",
   "metadata": {},
   "outputs": [
    {
     "ename": "ValueError",
     "evalue": "y should be a 1d array, got an array of shape () instead.",
     "output_type": "error",
     "traceback": [
      "\u001b[0;31m---------------------------------------------------------------------------\u001b[0m",
      "\u001b[0;31mValueError\u001b[0m                                Traceback (most recent call last)",
      "Cell \u001b[0;32mIn[264], line 4\u001b[0m\n\u001b[1;32m      1\u001b[0m encoded_columns \u001b[38;5;241m=\u001b[39m []\n\u001b[1;32m      2\u001b[0m \u001b[38;5;28;01mfor\u001b[39;00m col \u001b[38;5;129;01min\u001b[39;00m resis_cipro_L_Train\u001b[38;5;241m.\u001b[39miloc[:, \u001b[38;5;241m0\u001b[39m:\u001b[38;5;241m3\u001b[39m]:\n\u001b[1;32m      3\u001b[0m   \u001b[38;5;66;03m# Encode each column and store the result\u001b[39;00m\n\u001b[0;32m----> 4\u001b[0m   encoded_column \u001b[38;5;241m=\u001b[39m \u001b[43mlabel_encoder\u001b[49m\u001b[38;5;241;43m.\u001b[39;49m\u001b[43mfit_transform\u001b[49m\u001b[43m(\u001b[49m\u001b[43mcol\u001b[49m\u001b[43m)\u001b[49m\n\u001b[1;32m      5\u001b[0m   encoded_columns\u001b[38;5;241m.\u001b[39mappend(encoded_column)\n\u001b[1;32m      7\u001b[0m \u001b[38;5;66;03m# Concatenate the encoded columns into a DataFrame (optional)\u001b[39;00m\n",
      "File \u001b[0;32m/opt/conda/envs/umap/lib/python3.9/site-packages/sklearn/preprocessing/_label.py:114\u001b[0m, in \u001b[0;36mLabelEncoder.fit_transform\u001b[0;34m(self, y)\u001b[0m\n\u001b[1;32m    101\u001b[0m \u001b[38;5;28;01mdef\u001b[39;00m \u001b[38;5;21mfit_transform\u001b[39m(\u001b[38;5;28mself\u001b[39m, y):\n\u001b[1;32m    102\u001b[0m \u001b[38;5;250m    \u001b[39m\u001b[38;5;124;03m\"\"\"Fit label encoder and return encoded labels.\u001b[39;00m\n\u001b[1;32m    103\u001b[0m \n\u001b[1;32m    104\u001b[0m \u001b[38;5;124;03m    Parameters\u001b[39;00m\n\u001b[0;32m   (...)\u001b[0m\n\u001b[1;32m    112\u001b[0m \u001b[38;5;124;03m        Encoded labels.\u001b[39;00m\n\u001b[1;32m    113\u001b[0m \u001b[38;5;124;03m    \"\"\"\u001b[39;00m\n\u001b[0;32m--> 114\u001b[0m     y \u001b[38;5;241m=\u001b[39m \u001b[43mcolumn_or_1d\u001b[49m\u001b[43m(\u001b[49m\u001b[43my\u001b[49m\u001b[43m,\u001b[49m\u001b[43m \u001b[49m\u001b[43mwarn\u001b[49m\u001b[38;5;241;43m=\u001b[39;49m\u001b[38;5;28;43;01mTrue\u001b[39;49;00m\u001b[43m)\u001b[49m\n\u001b[1;32m    115\u001b[0m     \u001b[38;5;28mself\u001b[39m\u001b[38;5;241m.\u001b[39mclasses_, y \u001b[38;5;241m=\u001b[39m _unique(y, return_inverse\u001b[38;5;241m=\u001b[39m\u001b[38;5;28;01mTrue\u001b[39;00m)\n\u001b[1;32m    116\u001b[0m     \u001b[38;5;28;01mreturn\u001b[39;00m y\n",
      "File \u001b[0;32m/opt/conda/envs/umap/lib/python3.9/site-packages/sklearn/utils/validation.py:1377\u001b[0m, in \u001b[0;36mcolumn_or_1d\u001b[0;34m(y, dtype, warn)\u001b[0m\n\u001b[1;32m   1366\u001b[0m         warnings\u001b[38;5;241m.\u001b[39mwarn(\n\u001b[1;32m   1367\u001b[0m             (\n\u001b[1;32m   1368\u001b[0m                 \u001b[38;5;124m\"\u001b[39m\u001b[38;5;124mA column-vector y was passed when a 1d array was\u001b[39m\u001b[38;5;124m\"\u001b[39m\n\u001b[0;32m   (...)\u001b[0m\n\u001b[1;32m   1373\u001b[0m             stacklevel\u001b[38;5;241m=\u001b[39m\u001b[38;5;241m2\u001b[39m,\n\u001b[1;32m   1374\u001b[0m         )\n\u001b[1;32m   1375\u001b[0m     \u001b[38;5;28;01mreturn\u001b[39;00m _asarray_with_order(xp\u001b[38;5;241m.\u001b[39mreshape(y, (\u001b[38;5;241m-\u001b[39m\u001b[38;5;241m1\u001b[39m,)), order\u001b[38;5;241m=\u001b[39m\u001b[38;5;124m\"\u001b[39m\u001b[38;5;124mC\u001b[39m\u001b[38;5;124m\"\u001b[39m, xp\u001b[38;5;241m=\u001b[39mxp)\n\u001b[0;32m-> 1377\u001b[0m \u001b[38;5;28;01mraise\u001b[39;00m \u001b[38;5;167;01mValueError\u001b[39;00m(\n\u001b[1;32m   1378\u001b[0m     \u001b[38;5;124m\"\u001b[39m\u001b[38;5;124my should be a 1d array, got an array of shape \u001b[39m\u001b[38;5;132;01m{}\u001b[39;00m\u001b[38;5;124m instead.\u001b[39m\u001b[38;5;124m\"\u001b[39m\u001b[38;5;241m.\u001b[39mformat(shape)\n\u001b[1;32m   1379\u001b[0m )\n",
      "\u001b[0;31mValueError\u001b[0m: y should be a 1d array, got an array of shape () instead."
     ]
    }
   ],
   "source": [
    "encoded_columns = []\n",
    "for col in resis_cipro_L_Train.iloc[:, 0:4]:\n",
    "  # Encode each column and store the result\n",
    "  encoded_column = label_encoder.fit_transform(col)\n",
    "  encoded_columns.append(encoded_column)\n",
    "\n",
    "# Concatenate the encoded columns into a DataFrame (optional)\n",
    "encoded_df = pd.DataFrame(encoded_columns).T  # Transpose for column-wise data"
   ]
  },
  {
   "cell_type": "code",
   "execution_count": null,
   "id": "85ee931f-9fcd-446f-b8cf-f19f6b0d47c8",
   "metadata": {},
   "outputs": [],
   "source": []
  },
  {
   "cell_type": "code",
   "execution_count": 245,
   "id": "c77110c9-f2ab-410b-8fcb-dd2bf011baab",
   "metadata": {},
   "outputs": [],
   "source": [
    "# X serán las 5568 columnas (predictoras) y Y serán las columnas objetivo (outputs)\n",
    "X = resis_cipro_L_Train.iloc[:,[0, 1, 2] + list(range(5, len(resis_cipro_L_Train)))] # columnas predictoras\n",
    "Y = resis_cipro_L_Train.iloc[:,[3,4]]  # columnas objetivo\n",
    "\n",
    "# Suponiendo que Y tiene dos columnas, la primera categórica y la segunda continua\n",
    "Y_categ = Y.iloc[:, -2]  # Categorical Output (phenotype)\n",
    "Y_continuous = Y.iloc[:, -1]  # Continuous Output (MIC)\n",
    "\n",
    "# Dividimos los datos en conjuntos de entrenamiento y prueba\n",
    "X_train, X_test, Y_categ_train, Y_categ_test, Y_cont_train, Y_cont_test = train_test_split(X, \n",
    "                                                                                           Y_categ, \n",
    "                                                                                           Y_continuous, \n",
    "                                                                                           test_size=0.2, \n",
    "                                                                                           random_state=42)\n"
   ]
  },
  {
   "cell_type": "markdown",
   "id": "6f265ff4-b49e-4742-8220-868558b5e6d6",
   "metadata": {},
   "source": [
    "## 1.1 Random Forest Classifier for Cathegorical output"
   ]
  },
  {
   "cell_type": "code",
   "execution_count": 247,
   "id": "a84dc9b9-bb22-432c-891f-3c130d653ff4",
   "metadata": {},
   "outputs": [
    {
     "name": "stdout",
     "output_type": "stream",
     "text": [
      "Index(['accession', 'genus', 'species'], dtype='object')\n"
     ]
    }
   ],
   "source": [
    "# Revisa las columnas de X que no son numéricas\n",
    "non_numeric_columns = X.select_dtypes(exclude=['number']).columns\n",
    "print(non_numeric_columns)\n"
   ]
  },
  {
   "cell_type": "code",
   "execution_count": 252,
   "id": "7ab93944-80a0-4ea6-8287-6c0135d734f3",
   "metadata": {},
   "outputs": [
    {
     "name": "stdout",
     "output_type": "stream",
     "text": [
      "1    2604\n",
      "0     214\n",
      "Name: count, dtype: int64\n"
     ]
    }
   ],
   "source": [
    "# Instancia del codificador\n",
    "label_encoder = LabelEncoder()\n",
    "\n",
    "# Codifica la variable categórica\n",
    "Y_categ_encoded = label_encoder.fit_transform(Y_categ)\n",
    "\n",
    "# Convert the NumPy array to a Pandas Series\n",
    "Y_categ_encoded_series = pd.Series(Y_categ_encoded)\n",
    "\n",
    "# Get the value counts\n",
    "class_counts5 = Y_categ_encoded_series.value_counts()\n",
    "\n",
    "print(class_counts5)"
   ]
  },
  {
   "cell_type": "code",
   "execution_count": 253,
   "id": "bbcbe45a-85f3-4db1-b114-c6cd4561bfe5",
   "metadata": {},
   "outputs": [
    {
     "name": "stdout",
     "output_type": "stream",
     "text": [
      "accession     object\n",
      "genus         object\n",
      "species       object\n",
      "3000535      float64\n",
      "3005091      float64\n",
      "              ...   \n",
      "3005119      float64\n",
      "3001376      float64\n",
      "3005548      float64\n",
      "3002035      float64\n",
      "3003175      float64\n",
      "Length: 2816, dtype: object\n"
     ]
    }
   ],
   "source": [
    "print(X.dtypes)  # Verifica que todas las columnas de X sean numéricas"
   ]
  },
  {
   "cell_type": "code",
   "execution_count": null,
   "id": "e6d24d6f-b1ea-4a02-85d6-5b0cb4fa9fbf",
   "metadata": {},
   "outputs": [],
   "source": []
  },
  {
   "cell_type": "code",
   "execution_count": null,
   "id": "62d5f723-b116-479f-a581-2f8eb3579257",
   "metadata": {},
   "outputs": [],
   "source": []
  },
  {
   "cell_type": "code",
   "execution_count": null,
   "id": "af74ba17-0e88-4a1e-8d67-8280fb3ba4ad",
   "metadata": {},
   "outputs": [],
   "source": []
  },
  {
   "cell_type": "code",
   "execution_count": null,
   "id": "9f04f8e7-d12b-4f57-8cff-9ee5110d2dcc",
   "metadata": {},
   "outputs": [],
   "source": []
  },
  {
   "cell_type": "code",
   "execution_count": 246,
   "id": "1f5fd869-f6c8-4b91-96c6-84ae4f604eaf",
   "metadata": {},
   "outputs": [
    {
     "ename": "ValueError",
     "evalue": "could not convert string to float: 'SRR3664922'",
     "output_type": "error",
     "traceback": [
      "\u001b[0;31m---------------------------------------------------------------------------\u001b[0m",
      "\u001b[0;31mValueError\u001b[0m                                Traceback (most recent call last)",
      "\u001b[0;32m/tmp/ipykernel_1725917/431667576.py\u001b[0m in \u001b[0;36m?\u001b[0;34m()\u001b[0m\n\u001b[0;32m----> 5\u001b[0;31m \u001b[0;31m# Instancia del modelo\u001b[0m\u001b[0;34m\u001b[0m\u001b[0;34m\u001b[0m\u001b[0m\n\u001b[0m\u001b[1;32m      6\u001b[0m \u001b[0mrf_classifier\u001b[0m \u001b[0;34m=\u001b[0m \u001b[0mRandomForestClassifier\u001b[0m\u001b[0;34m(\u001b[0m\u001b[0mn_estimators\u001b[0m\u001b[0;34m=\u001b[0m\u001b[0;36m100\u001b[0m\u001b[0;34m,\u001b[0m \u001b[0mrandom_state\u001b[0m\u001b[0;34m=\u001b[0m\u001b[0;36m42\u001b[0m\u001b[0;34m)\u001b[0m\u001b[0;34m\u001b[0m\u001b[0;34m\u001b[0m\u001b[0m\n\u001b[1;32m      7\u001b[0m \u001b[0;34m\u001b[0m\u001b[0m\n\u001b[1;32m      8\u001b[0m \u001b[0;31m# Entrenamos el modelo para la variable categórica\u001b[0m\u001b[0;34m\u001b[0m\u001b[0;34m\u001b[0m\u001b[0m\n",
      "\u001b[0;32m/opt/conda/envs/umap/lib/python3.9/site-packages/sklearn/base.py\u001b[0m in \u001b[0;36m?\u001b[0;34m(estimator, *args, **kwargs)\u001b[0m\n\u001b[1;32m   1469\u001b[0m                 skip_parameter_validation=(\n\u001b[1;32m   1470\u001b[0m                     \u001b[0mprefer_skip_nested_validation\u001b[0m \u001b[0;32mor\u001b[0m \u001b[0mglobal_skip_validation\u001b[0m\u001b[0;34m\u001b[0m\u001b[0;34m\u001b[0m\u001b[0m\n\u001b[1;32m   1471\u001b[0m                 )\n\u001b[1;32m   1472\u001b[0m             ):\n\u001b[0;32m-> 1473\u001b[0;31m                 \u001b[0;32mreturn\u001b[0m \u001b[0mfit_method\u001b[0m\u001b[0;34m(\u001b[0m\u001b[0mestimator\u001b[0m\u001b[0;34m,\u001b[0m \u001b[0;34m*\u001b[0m\u001b[0margs\u001b[0m\u001b[0;34m,\u001b[0m \u001b[0;34m**\u001b[0m\u001b[0mkwargs\u001b[0m\u001b[0;34m)\u001b[0m\u001b[0;34m\u001b[0m\u001b[0;34m\u001b[0m\u001b[0m\n\u001b[0m",
      "\u001b[0;32m/opt/conda/envs/umap/lib/python3.9/site-packages/sklearn/ensemble/_forest.py\u001b[0m in \u001b[0;36m?\u001b[0;34m(self, X, y, sample_weight)\u001b[0m\n\u001b[1;32m    359\u001b[0m         \u001b[0;31m# Validate or convert input data\u001b[0m\u001b[0;34m\u001b[0m\u001b[0;34m\u001b[0m\u001b[0m\n\u001b[1;32m    360\u001b[0m         \u001b[0;32mif\u001b[0m \u001b[0missparse\u001b[0m\u001b[0;34m(\u001b[0m\u001b[0my\u001b[0m\u001b[0;34m)\u001b[0m\u001b[0;34m:\u001b[0m\u001b[0;34m\u001b[0m\u001b[0;34m\u001b[0m\u001b[0m\n\u001b[1;32m    361\u001b[0m             \u001b[0;32mraise\u001b[0m \u001b[0mValueError\u001b[0m\u001b[0;34m(\u001b[0m\u001b[0;34m\"sparse multilabel-indicator for y is not supported.\"\u001b[0m\u001b[0;34m)\u001b[0m\u001b[0;34m\u001b[0m\u001b[0;34m\u001b[0m\u001b[0m\n\u001b[1;32m    362\u001b[0m \u001b[0;34m\u001b[0m\u001b[0m\n\u001b[0;32m--> 363\u001b[0;31m         X, y = self._validate_data(\n\u001b[0m\u001b[1;32m    364\u001b[0m             \u001b[0mX\u001b[0m\u001b[0;34m,\u001b[0m\u001b[0;34m\u001b[0m\u001b[0;34m\u001b[0m\u001b[0m\n\u001b[1;32m    365\u001b[0m             \u001b[0my\u001b[0m\u001b[0;34m,\u001b[0m\u001b[0;34m\u001b[0m\u001b[0;34m\u001b[0m\u001b[0m\n\u001b[1;32m    366\u001b[0m             \u001b[0mmulti_output\u001b[0m\u001b[0;34m=\u001b[0m\u001b[0;32mTrue\u001b[0m\u001b[0;34m,\u001b[0m\u001b[0;34m\u001b[0m\u001b[0;34m\u001b[0m\u001b[0m\n",
      "\u001b[0;32m/opt/conda/envs/umap/lib/python3.9/site-packages/sklearn/base.py\u001b[0m in \u001b[0;36m?\u001b[0;34m(self, X, y, reset, validate_separately, cast_to_ndarray, **check_params)\u001b[0m\n\u001b[1;32m    646\u001b[0m                 \u001b[0;32mif\u001b[0m \u001b[0;34m\"estimator\"\u001b[0m \u001b[0;32mnot\u001b[0m \u001b[0;32min\u001b[0m \u001b[0mcheck_y_params\u001b[0m\u001b[0;34m:\u001b[0m\u001b[0;34m\u001b[0m\u001b[0;34m\u001b[0m\u001b[0m\n\u001b[1;32m    647\u001b[0m                     \u001b[0mcheck_y_params\u001b[0m \u001b[0;34m=\u001b[0m \u001b[0;34m{\u001b[0m\u001b[0;34m**\u001b[0m\u001b[0mdefault_check_params\u001b[0m\u001b[0;34m,\u001b[0m \u001b[0;34m**\u001b[0m\u001b[0mcheck_y_params\u001b[0m\u001b[0;34m}\u001b[0m\u001b[0;34m\u001b[0m\u001b[0;34m\u001b[0m\u001b[0m\n\u001b[1;32m    648\u001b[0m                 \u001b[0my\u001b[0m \u001b[0;34m=\u001b[0m \u001b[0mcheck_array\u001b[0m\u001b[0;34m(\u001b[0m\u001b[0my\u001b[0m\u001b[0;34m,\u001b[0m \u001b[0minput_name\u001b[0m\u001b[0;34m=\u001b[0m\u001b[0;34m\"y\"\u001b[0m\u001b[0;34m,\u001b[0m \u001b[0;34m**\u001b[0m\u001b[0mcheck_y_params\u001b[0m\u001b[0;34m)\u001b[0m\u001b[0;34m\u001b[0m\u001b[0;34m\u001b[0m\u001b[0m\n\u001b[1;32m    649\u001b[0m             \u001b[0;32melse\u001b[0m\u001b[0;34m:\u001b[0m\u001b[0;34m\u001b[0m\u001b[0;34m\u001b[0m\u001b[0m\n\u001b[0;32m--> 650\u001b[0;31m                 \u001b[0mX\u001b[0m\u001b[0;34m,\u001b[0m \u001b[0my\u001b[0m \u001b[0;34m=\u001b[0m \u001b[0mcheck_X_y\u001b[0m\u001b[0;34m(\u001b[0m\u001b[0mX\u001b[0m\u001b[0;34m,\u001b[0m \u001b[0my\u001b[0m\u001b[0;34m,\u001b[0m \u001b[0;34m**\u001b[0m\u001b[0mcheck_params\u001b[0m\u001b[0;34m)\u001b[0m\u001b[0;34m\u001b[0m\u001b[0;34m\u001b[0m\u001b[0m\n\u001b[0m\u001b[1;32m    651\u001b[0m             \u001b[0mout\u001b[0m \u001b[0;34m=\u001b[0m \u001b[0mX\u001b[0m\u001b[0;34m,\u001b[0m \u001b[0my\u001b[0m\u001b[0;34m\u001b[0m\u001b[0;34m\u001b[0m\u001b[0m\n\u001b[1;32m    652\u001b[0m \u001b[0;34m\u001b[0m\u001b[0m\n\u001b[1;32m    653\u001b[0m         \u001b[0;32mif\u001b[0m \u001b[0;32mnot\u001b[0m \u001b[0mno_val_X\u001b[0m \u001b[0;32mand\u001b[0m \u001b[0mcheck_params\u001b[0m\u001b[0;34m.\u001b[0m\u001b[0mget\u001b[0m\u001b[0;34m(\u001b[0m\u001b[0;34m\"ensure_2d\"\u001b[0m\u001b[0;34m,\u001b[0m \u001b[0;32mTrue\u001b[0m\u001b[0;34m)\u001b[0m\u001b[0;34m:\u001b[0m\u001b[0;34m\u001b[0m\u001b[0;34m\u001b[0m\u001b[0m\n",
      "\u001b[0;32m/opt/conda/envs/umap/lib/python3.9/site-packages/sklearn/utils/validation.py\u001b[0m in \u001b[0;36m?\u001b[0;34m(X, y, accept_sparse, accept_large_sparse, dtype, order, copy, force_all_finite, ensure_2d, allow_nd, multi_output, ensure_min_samples, ensure_min_features, y_numeric, estimator)\u001b[0m\n\u001b[1;32m   1269\u001b[0m         raise ValueError(\n\u001b[1;32m   1270\u001b[0m             \u001b[0;34mf\"{estimator_name} requires y to be passed, but the target y is None\"\u001b[0m\u001b[0;34m\u001b[0m\u001b[0;34m\u001b[0m\u001b[0m\n\u001b[1;32m   1271\u001b[0m         )\n\u001b[1;32m   1272\u001b[0m \u001b[0;34m\u001b[0m\u001b[0m\n\u001b[0;32m-> 1273\u001b[0;31m     X = check_array(\n\u001b[0m\u001b[1;32m   1274\u001b[0m         \u001b[0mX\u001b[0m\u001b[0;34m,\u001b[0m\u001b[0;34m\u001b[0m\u001b[0;34m\u001b[0m\u001b[0m\n\u001b[1;32m   1275\u001b[0m         \u001b[0maccept_sparse\u001b[0m\u001b[0;34m=\u001b[0m\u001b[0maccept_sparse\u001b[0m\u001b[0;34m,\u001b[0m\u001b[0;34m\u001b[0m\u001b[0;34m\u001b[0m\u001b[0m\n\u001b[1;32m   1276\u001b[0m         \u001b[0maccept_large_sparse\u001b[0m\u001b[0;34m=\u001b[0m\u001b[0maccept_large_sparse\u001b[0m\u001b[0;34m,\u001b[0m\u001b[0;34m\u001b[0m\u001b[0;34m\u001b[0m\u001b[0m\n",
      "\u001b[0;32m/opt/conda/envs/umap/lib/python3.9/site-packages/sklearn/utils/validation.py\u001b[0m in \u001b[0;36m?\u001b[0;34m(array, accept_sparse, accept_large_sparse, dtype, order, copy, force_all_finite, ensure_2d, allow_nd, ensure_min_samples, ensure_min_features, estimator, input_name)\u001b[0m\n\u001b[1;32m   1005\u001b[0m                     \u001b[0marray\u001b[0m \u001b[0;34m=\u001b[0m \u001b[0mxp\u001b[0m\u001b[0;34m.\u001b[0m\u001b[0mastype\u001b[0m\u001b[0;34m(\u001b[0m\u001b[0marray\u001b[0m\u001b[0;34m,\u001b[0m \u001b[0mdtype\u001b[0m\u001b[0;34m,\u001b[0m \u001b[0mcopy\u001b[0m\u001b[0;34m=\u001b[0m\u001b[0;32mFalse\u001b[0m\u001b[0;34m)\u001b[0m\u001b[0;34m\u001b[0m\u001b[0;34m\u001b[0m\u001b[0m\n\u001b[1;32m   1006\u001b[0m                 \u001b[0;32melse\u001b[0m\u001b[0;34m:\u001b[0m\u001b[0;34m\u001b[0m\u001b[0;34m\u001b[0m\u001b[0m\n\u001b[1;32m   1007\u001b[0m                     \u001b[0marray\u001b[0m \u001b[0;34m=\u001b[0m \u001b[0m_asarray_with_order\u001b[0m\u001b[0;34m(\u001b[0m\u001b[0marray\u001b[0m\u001b[0;34m,\u001b[0m \u001b[0morder\u001b[0m\u001b[0;34m=\u001b[0m\u001b[0morder\u001b[0m\u001b[0;34m,\u001b[0m \u001b[0mdtype\u001b[0m\u001b[0;34m=\u001b[0m\u001b[0mdtype\u001b[0m\u001b[0;34m,\u001b[0m \u001b[0mxp\u001b[0m\u001b[0;34m=\u001b[0m\u001b[0mxp\u001b[0m\u001b[0;34m)\u001b[0m\u001b[0;34m\u001b[0m\u001b[0;34m\u001b[0m\u001b[0m\n\u001b[1;32m   1008\u001b[0m             \u001b[0;32mexcept\u001b[0m \u001b[0mComplexWarning\u001b[0m \u001b[0;32mas\u001b[0m \u001b[0mcomplex_warning\u001b[0m\u001b[0;34m:\u001b[0m\u001b[0;34m\u001b[0m\u001b[0;34m\u001b[0m\u001b[0m\n\u001b[0;32m-> 1009\u001b[0;31m                 raise ValueError(\n\u001b[0m\u001b[1;32m   1010\u001b[0m                     \u001b[0;34m\"Complex data not supported\\n{}\\n\"\u001b[0m\u001b[0;34m.\u001b[0m\u001b[0mformat\u001b[0m\u001b[0;34m(\u001b[0m\u001b[0marray\u001b[0m\u001b[0;34m)\u001b[0m\u001b[0;34m\u001b[0m\u001b[0;34m\u001b[0m\u001b[0m\n\u001b[1;32m   1011\u001b[0m                 ) from complex_warning\n\u001b[1;32m   1012\u001b[0m \u001b[0;34m\u001b[0m\u001b[0m\n",
      "\u001b[0;32m/opt/conda/envs/umap/lib/python3.9/site-packages/sklearn/utils/_array_api.py\u001b[0m in \u001b[0;36m?\u001b[0;34m(array, dtype, order, copy, xp, device)\u001b[0m\n\u001b[1;32m    742\u001b[0m         \u001b[0;31m# Use NumPy API to support order\u001b[0m\u001b[0;34m\u001b[0m\u001b[0;34m\u001b[0m\u001b[0m\n\u001b[1;32m    743\u001b[0m         \u001b[0;32mif\u001b[0m \u001b[0mcopy\u001b[0m \u001b[0;32mis\u001b[0m \u001b[0;32mTrue\u001b[0m\u001b[0;34m:\u001b[0m\u001b[0;34m\u001b[0m\u001b[0;34m\u001b[0m\u001b[0m\n\u001b[1;32m    744\u001b[0m             \u001b[0marray\u001b[0m \u001b[0;34m=\u001b[0m \u001b[0mnumpy\u001b[0m\u001b[0;34m.\u001b[0m\u001b[0marray\u001b[0m\u001b[0;34m(\u001b[0m\u001b[0marray\u001b[0m\u001b[0;34m,\u001b[0m \u001b[0morder\u001b[0m\u001b[0;34m=\u001b[0m\u001b[0morder\u001b[0m\u001b[0;34m,\u001b[0m \u001b[0mdtype\u001b[0m\u001b[0;34m=\u001b[0m\u001b[0mdtype\u001b[0m\u001b[0;34m)\u001b[0m\u001b[0;34m\u001b[0m\u001b[0;34m\u001b[0m\u001b[0m\n\u001b[1;32m    745\u001b[0m         \u001b[0;32melse\u001b[0m\u001b[0;34m:\u001b[0m\u001b[0;34m\u001b[0m\u001b[0;34m\u001b[0m\u001b[0m\n\u001b[0;32m--> 746\u001b[0;31m             \u001b[0marray\u001b[0m \u001b[0;34m=\u001b[0m \u001b[0mnumpy\u001b[0m\u001b[0;34m.\u001b[0m\u001b[0masarray\u001b[0m\u001b[0;34m(\u001b[0m\u001b[0marray\u001b[0m\u001b[0;34m,\u001b[0m \u001b[0morder\u001b[0m\u001b[0;34m=\u001b[0m\u001b[0morder\u001b[0m\u001b[0;34m,\u001b[0m \u001b[0mdtype\u001b[0m\u001b[0;34m=\u001b[0m\u001b[0mdtype\u001b[0m\u001b[0;34m)\u001b[0m\u001b[0;34m\u001b[0m\u001b[0;34m\u001b[0m\u001b[0m\n\u001b[0m\u001b[1;32m    747\u001b[0m \u001b[0;34m\u001b[0m\u001b[0m\n\u001b[1;32m    748\u001b[0m         \u001b[0;31m# At this point array is a NumPy ndarray. We convert it to an array\u001b[0m\u001b[0;34m\u001b[0m\u001b[0;34m\u001b[0m\u001b[0m\n\u001b[1;32m    749\u001b[0m         \u001b[0;31m# container that is consistent with the input's namespace.\u001b[0m\u001b[0;34m\u001b[0m\u001b[0;34m\u001b[0m\u001b[0m\n",
      "\u001b[0;32m/opt/conda/envs/umap/lib/python3.9/site-packages/pandas/core/generic.py\u001b[0m in \u001b[0;36m?\u001b[0;34m(self, dtype)\u001b[0m\n\u001b[1;32m   2148\u001b[0m     \u001b[0;32mdef\u001b[0m \u001b[0m__array__\u001b[0m\u001b[0;34m(\u001b[0m\u001b[0mself\u001b[0m\u001b[0;34m,\u001b[0m \u001b[0mdtype\u001b[0m\u001b[0;34m:\u001b[0m \u001b[0mnpt\u001b[0m\u001b[0;34m.\u001b[0m\u001b[0mDTypeLike\u001b[0m \u001b[0;34m|\u001b[0m \u001b[0;32mNone\u001b[0m \u001b[0;34m=\u001b[0m \u001b[0;32mNone\u001b[0m\u001b[0;34m)\u001b[0m \u001b[0;34m->\u001b[0m \u001b[0mnp\u001b[0m\u001b[0;34m.\u001b[0m\u001b[0mndarray\u001b[0m\u001b[0;34m:\u001b[0m\u001b[0;34m\u001b[0m\u001b[0;34m\u001b[0m\u001b[0m\n\u001b[1;32m   2149\u001b[0m         \u001b[0mvalues\u001b[0m \u001b[0;34m=\u001b[0m \u001b[0mself\u001b[0m\u001b[0;34m.\u001b[0m\u001b[0m_values\u001b[0m\u001b[0;34m\u001b[0m\u001b[0;34m\u001b[0m\u001b[0m\n\u001b[0;32m-> 2150\u001b[0;31m         \u001b[0marr\u001b[0m \u001b[0;34m=\u001b[0m \u001b[0mnp\u001b[0m\u001b[0;34m.\u001b[0m\u001b[0masarray\u001b[0m\u001b[0;34m(\u001b[0m\u001b[0mvalues\u001b[0m\u001b[0;34m,\u001b[0m \u001b[0mdtype\u001b[0m\u001b[0;34m=\u001b[0m\u001b[0mdtype\u001b[0m\u001b[0;34m)\u001b[0m\u001b[0;34m\u001b[0m\u001b[0;34m\u001b[0m\u001b[0m\n\u001b[0m\u001b[1;32m   2151\u001b[0m         if (\n\u001b[1;32m   2152\u001b[0m             \u001b[0mastype_is_view\u001b[0m\u001b[0;34m(\u001b[0m\u001b[0mvalues\u001b[0m\u001b[0;34m.\u001b[0m\u001b[0mdtype\u001b[0m\u001b[0;34m,\u001b[0m \u001b[0marr\u001b[0m\u001b[0;34m.\u001b[0m\u001b[0mdtype\u001b[0m\u001b[0;34m)\u001b[0m\u001b[0;34m\u001b[0m\u001b[0;34m\u001b[0m\u001b[0m\n\u001b[1;32m   2153\u001b[0m             \u001b[0;32mand\u001b[0m \u001b[0musing_copy_on_write\u001b[0m\u001b[0;34m(\u001b[0m\u001b[0;34m)\u001b[0m\u001b[0;34m\u001b[0m\u001b[0;34m\u001b[0m\u001b[0m\n",
      "\u001b[0;31mValueError\u001b[0m: could not convert string to float: 'SRR3664922'"
     ]
    }
   ],
   "source": [
    "# Instancia del modelo\n",
    "rf_classifier = RandomForestClassifier(n_estimators=100, random_state=42)\n",
    "\n",
    "# Entrenamos el modelo para la variable categórica\n",
    "rf_classifier.fit(X_train, Y_categ_train)"
   ]
  },
  {
   "cell_type": "code",
   "execution_count": null,
   "id": "d8fa29dd-a56b-43c7-911e-34e76822e059",
   "metadata": {},
   "outputs": [],
   "source": [
    "# Predicción sobre el conjunto de prueba para la variable categórica\n",
    "Y_categ_pred = rf_classifier.predict(X_test)\n",
    "\n",
    "# Evaluar la precisión del modelo de clasificación\n",
    "from sklearn.metrics import accuracy_score\n",
    "accuracy = accuracy_score(Y_categ_test, Y_categ_pred)\n",
    "print(f\"Accuracy (categórica): {accuracy}\")\n"
   ]
  },
  {
   "cell_type": "code",
   "execution_count": 118,
   "id": "4d286009-bd20-45e6-be66-bf45e7bc053e",
   "metadata": {},
   "outputs": [
    {
     "name": "stdout",
     "output_type": "stream",
     "text": [
      "Index(['accession', 'genus', 'species'], dtype='object')\n"
     ]
    }
   ],
   "source": []
  },
  {
   "cell_type": "code",
   "execution_count": null,
   "id": "556bb33c-b23c-4bb7-97d2-edb4e1101920",
   "metadata": {},
   "outputs": [],
   "source": []
  },
  {
   "cell_type": "code",
   "execution_count": null,
   "id": "875f47d3-d72c-4513-9494-1004140ec929",
   "metadata": {},
   "outputs": [],
   "source": []
  },
  {
   "cell_type": "markdown",
   "id": "bf5792b1-89d0-400c-bfa4-21e32bf107df",
   "metadata": {},
   "source": [
    "## 1.2 Random Forest Classifier for Cathegorical output"
   ]
  },
  {
   "cell_type": "code",
   "execution_count": 172,
   "id": "861a53c0-7468-4a19-b23a-d002ff69571b",
   "metadata": {},
   "outputs": [
    {
     "ename": "ValueError",
     "evalue": "could not convert string to float: 'SRR3664922'",
     "output_type": "error",
     "traceback": [
      "\u001b[0;31m---------------------------------------------------------------------------\u001b[0m",
      "\u001b[0;31mValueError\u001b[0m                                Traceback (most recent call last)",
      "\u001b[0;32m/tmp/ipykernel_1725917/1518856263.py\u001b[0m in \u001b[0;36m?\u001b[0;34m()\u001b[0m\n\u001b[0;32m----> 5\u001b[0;31m \u001b[0;31m# Instancia del modelo\u001b[0m\u001b[0;34m\u001b[0m\u001b[0;34m\u001b[0m\u001b[0m\n\u001b[0m\u001b[1;32m      6\u001b[0m \u001b[0mrf_regressor\u001b[0m \u001b[0;34m=\u001b[0m \u001b[0mRandomForestRegressor\u001b[0m\u001b[0;34m(\u001b[0m\u001b[0mn_estimators\u001b[0m\u001b[0;34m=\u001b[0m\u001b[0;36m100\u001b[0m\u001b[0;34m,\u001b[0m \u001b[0mrandom_state\u001b[0m\u001b[0;34m=\u001b[0m\u001b[0;36m42\u001b[0m\u001b[0;34m)\u001b[0m\u001b[0;34m\u001b[0m\u001b[0;34m\u001b[0m\u001b[0m\n\u001b[1;32m      7\u001b[0m \u001b[0;34m\u001b[0m\u001b[0m\n\u001b[1;32m      8\u001b[0m \u001b[0;31m# Entrenamos el modelo para la variable continua\u001b[0m\u001b[0;34m\u001b[0m\u001b[0;34m\u001b[0m\u001b[0m\n",
      "\u001b[0;32m/opt/conda/envs/umap/lib/python3.9/site-packages/sklearn/base.py\u001b[0m in \u001b[0;36m?\u001b[0;34m(estimator, *args, **kwargs)\u001b[0m\n\u001b[1;32m   1469\u001b[0m                 skip_parameter_validation=(\n\u001b[1;32m   1470\u001b[0m                     \u001b[0mprefer_skip_nested_validation\u001b[0m \u001b[0;32mor\u001b[0m \u001b[0mglobal_skip_validation\u001b[0m\u001b[0;34m\u001b[0m\u001b[0;34m\u001b[0m\u001b[0m\n\u001b[1;32m   1471\u001b[0m                 )\n\u001b[1;32m   1472\u001b[0m             ):\n\u001b[0;32m-> 1473\u001b[0;31m                 \u001b[0;32mreturn\u001b[0m \u001b[0mfit_method\u001b[0m\u001b[0;34m(\u001b[0m\u001b[0mestimator\u001b[0m\u001b[0;34m,\u001b[0m \u001b[0;34m*\u001b[0m\u001b[0margs\u001b[0m\u001b[0;34m,\u001b[0m \u001b[0;34m**\u001b[0m\u001b[0mkwargs\u001b[0m\u001b[0;34m)\u001b[0m\u001b[0;34m\u001b[0m\u001b[0;34m\u001b[0m\u001b[0m\n\u001b[0m",
      "\u001b[0;32m/opt/conda/envs/umap/lib/python3.9/site-packages/sklearn/ensemble/_forest.py\u001b[0m in \u001b[0;36m?\u001b[0;34m(self, X, y, sample_weight)\u001b[0m\n\u001b[1;32m    359\u001b[0m         \u001b[0;31m# Validate or convert input data\u001b[0m\u001b[0;34m\u001b[0m\u001b[0;34m\u001b[0m\u001b[0m\n\u001b[1;32m    360\u001b[0m         \u001b[0;32mif\u001b[0m \u001b[0missparse\u001b[0m\u001b[0;34m(\u001b[0m\u001b[0my\u001b[0m\u001b[0;34m)\u001b[0m\u001b[0;34m:\u001b[0m\u001b[0;34m\u001b[0m\u001b[0;34m\u001b[0m\u001b[0m\n\u001b[1;32m    361\u001b[0m             \u001b[0;32mraise\u001b[0m \u001b[0mValueError\u001b[0m\u001b[0;34m(\u001b[0m\u001b[0;34m\"sparse multilabel-indicator for y is not supported.\"\u001b[0m\u001b[0;34m)\u001b[0m\u001b[0;34m\u001b[0m\u001b[0;34m\u001b[0m\u001b[0m\n\u001b[1;32m    362\u001b[0m \u001b[0;34m\u001b[0m\u001b[0m\n\u001b[0;32m--> 363\u001b[0;31m         X, y = self._validate_data(\n\u001b[0m\u001b[1;32m    364\u001b[0m             \u001b[0mX\u001b[0m\u001b[0;34m,\u001b[0m\u001b[0;34m\u001b[0m\u001b[0;34m\u001b[0m\u001b[0m\n\u001b[1;32m    365\u001b[0m             \u001b[0my\u001b[0m\u001b[0;34m,\u001b[0m\u001b[0;34m\u001b[0m\u001b[0;34m\u001b[0m\u001b[0m\n\u001b[1;32m    366\u001b[0m             \u001b[0mmulti_output\u001b[0m\u001b[0;34m=\u001b[0m\u001b[0;32mTrue\u001b[0m\u001b[0;34m,\u001b[0m\u001b[0;34m\u001b[0m\u001b[0;34m\u001b[0m\u001b[0m\n",
      "\u001b[0;32m/opt/conda/envs/umap/lib/python3.9/site-packages/sklearn/base.py\u001b[0m in \u001b[0;36m?\u001b[0;34m(self, X, y, reset, validate_separately, cast_to_ndarray, **check_params)\u001b[0m\n\u001b[1;32m    646\u001b[0m                 \u001b[0;32mif\u001b[0m \u001b[0;34m\"estimator\"\u001b[0m \u001b[0;32mnot\u001b[0m \u001b[0;32min\u001b[0m \u001b[0mcheck_y_params\u001b[0m\u001b[0;34m:\u001b[0m\u001b[0;34m\u001b[0m\u001b[0;34m\u001b[0m\u001b[0m\n\u001b[1;32m    647\u001b[0m                     \u001b[0mcheck_y_params\u001b[0m \u001b[0;34m=\u001b[0m \u001b[0;34m{\u001b[0m\u001b[0;34m**\u001b[0m\u001b[0mdefault_check_params\u001b[0m\u001b[0;34m,\u001b[0m \u001b[0;34m**\u001b[0m\u001b[0mcheck_y_params\u001b[0m\u001b[0;34m}\u001b[0m\u001b[0;34m\u001b[0m\u001b[0;34m\u001b[0m\u001b[0m\n\u001b[1;32m    648\u001b[0m                 \u001b[0my\u001b[0m \u001b[0;34m=\u001b[0m \u001b[0mcheck_array\u001b[0m\u001b[0;34m(\u001b[0m\u001b[0my\u001b[0m\u001b[0;34m,\u001b[0m \u001b[0minput_name\u001b[0m\u001b[0;34m=\u001b[0m\u001b[0;34m\"y\"\u001b[0m\u001b[0;34m,\u001b[0m \u001b[0;34m**\u001b[0m\u001b[0mcheck_y_params\u001b[0m\u001b[0;34m)\u001b[0m\u001b[0;34m\u001b[0m\u001b[0;34m\u001b[0m\u001b[0m\n\u001b[1;32m    649\u001b[0m             \u001b[0;32melse\u001b[0m\u001b[0;34m:\u001b[0m\u001b[0;34m\u001b[0m\u001b[0;34m\u001b[0m\u001b[0m\n\u001b[0;32m--> 650\u001b[0;31m                 \u001b[0mX\u001b[0m\u001b[0;34m,\u001b[0m \u001b[0my\u001b[0m \u001b[0;34m=\u001b[0m \u001b[0mcheck_X_y\u001b[0m\u001b[0;34m(\u001b[0m\u001b[0mX\u001b[0m\u001b[0;34m,\u001b[0m \u001b[0my\u001b[0m\u001b[0;34m,\u001b[0m \u001b[0;34m**\u001b[0m\u001b[0mcheck_params\u001b[0m\u001b[0;34m)\u001b[0m\u001b[0;34m\u001b[0m\u001b[0;34m\u001b[0m\u001b[0m\n\u001b[0m\u001b[1;32m    651\u001b[0m             \u001b[0mout\u001b[0m \u001b[0;34m=\u001b[0m \u001b[0mX\u001b[0m\u001b[0;34m,\u001b[0m \u001b[0my\u001b[0m\u001b[0;34m\u001b[0m\u001b[0;34m\u001b[0m\u001b[0m\n\u001b[1;32m    652\u001b[0m \u001b[0;34m\u001b[0m\u001b[0m\n\u001b[1;32m    653\u001b[0m         \u001b[0;32mif\u001b[0m \u001b[0;32mnot\u001b[0m \u001b[0mno_val_X\u001b[0m \u001b[0;32mand\u001b[0m \u001b[0mcheck_params\u001b[0m\u001b[0;34m.\u001b[0m\u001b[0mget\u001b[0m\u001b[0;34m(\u001b[0m\u001b[0;34m\"ensure_2d\"\u001b[0m\u001b[0;34m,\u001b[0m \u001b[0;32mTrue\u001b[0m\u001b[0;34m)\u001b[0m\u001b[0;34m:\u001b[0m\u001b[0;34m\u001b[0m\u001b[0;34m\u001b[0m\u001b[0m\n",
      "\u001b[0;32m/opt/conda/envs/umap/lib/python3.9/site-packages/sklearn/utils/validation.py\u001b[0m in \u001b[0;36m?\u001b[0;34m(X, y, accept_sparse, accept_large_sparse, dtype, order, copy, force_all_finite, ensure_2d, allow_nd, multi_output, ensure_min_samples, ensure_min_features, y_numeric, estimator)\u001b[0m\n\u001b[1;32m   1269\u001b[0m         raise ValueError(\n\u001b[1;32m   1270\u001b[0m             \u001b[0;34mf\"{estimator_name} requires y to be passed, but the target y is None\"\u001b[0m\u001b[0;34m\u001b[0m\u001b[0;34m\u001b[0m\u001b[0m\n\u001b[1;32m   1271\u001b[0m         )\n\u001b[1;32m   1272\u001b[0m \u001b[0;34m\u001b[0m\u001b[0m\n\u001b[0;32m-> 1273\u001b[0;31m     X = check_array(\n\u001b[0m\u001b[1;32m   1274\u001b[0m         \u001b[0mX\u001b[0m\u001b[0;34m,\u001b[0m\u001b[0;34m\u001b[0m\u001b[0;34m\u001b[0m\u001b[0m\n\u001b[1;32m   1275\u001b[0m         \u001b[0maccept_sparse\u001b[0m\u001b[0;34m=\u001b[0m\u001b[0maccept_sparse\u001b[0m\u001b[0;34m,\u001b[0m\u001b[0;34m\u001b[0m\u001b[0;34m\u001b[0m\u001b[0m\n\u001b[1;32m   1276\u001b[0m         \u001b[0maccept_large_sparse\u001b[0m\u001b[0;34m=\u001b[0m\u001b[0maccept_large_sparse\u001b[0m\u001b[0;34m,\u001b[0m\u001b[0;34m\u001b[0m\u001b[0;34m\u001b[0m\u001b[0m\n",
      "\u001b[0;32m/opt/conda/envs/umap/lib/python3.9/site-packages/sklearn/utils/validation.py\u001b[0m in \u001b[0;36m?\u001b[0;34m(array, accept_sparse, accept_large_sparse, dtype, order, copy, force_all_finite, ensure_2d, allow_nd, ensure_min_samples, ensure_min_features, estimator, input_name)\u001b[0m\n\u001b[1;32m   1005\u001b[0m                     \u001b[0marray\u001b[0m \u001b[0;34m=\u001b[0m \u001b[0mxp\u001b[0m\u001b[0;34m.\u001b[0m\u001b[0mastype\u001b[0m\u001b[0;34m(\u001b[0m\u001b[0marray\u001b[0m\u001b[0;34m,\u001b[0m \u001b[0mdtype\u001b[0m\u001b[0;34m,\u001b[0m \u001b[0mcopy\u001b[0m\u001b[0;34m=\u001b[0m\u001b[0;32mFalse\u001b[0m\u001b[0;34m)\u001b[0m\u001b[0;34m\u001b[0m\u001b[0;34m\u001b[0m\u001b[0m\n\u001b[1;32m   1006\u001b[0m                 \u001b[0;32melse\u001b[0m\u001b[0;34m:\u001b[0m\u001b[0;34m\u001b[0m\u001b[0;34m\u001b[0m\u001b[0m\n\u001b[1;32m   1007\u001b[0m                     \u001b[0marray\u001b[0m \u001b[0;34m=\u001b[0m \u001b[0m_asarray_with_order\u001b[0m\u001b[0;34m(\u001b[0m\u001b[0marray\u001b[0m\u001b[0;34m,\u001b[0m \u001b[0morder\u001b[0m\u001b[0;34m=\u001b[0m\u001b[0morder\u001b[0m\u001b[0;34m,\u001b[0m \u001b[0mdtype\u001b[0m\u001b[0;34m=\u001b[0m\u001b[0mdtype\u001b[0m\u001b[0;34m,\u001b[0m \u001b[0mxp\u001b[0m\u001b[0;34m=\u001b[0m\u001b[0mxp\u001b[0m\u001b[0;34m)\u001b[0m\u001b[0;34m\u001b[0m\u001b[0;34m\u001b[0m\u001b[0m\n\u001b[1;32m   1008\u001b[0m             \u001b[0;32mexcept\u001b[0m \u001b[0mComplexWarning\u001b[0m \u001b[0;32mas\u001b[0m \u001b[0mcomplex_warning\u001b[0m\u001b[0;34m:\u001b[0m\u001b[0;34m\u001b[0m\u001b[0;34m\u001b[0m\u001b[0m\n\u001b[0;32m-> 1009\u001b[0;31m                 raise ValueError(\n\u001b[0m\u001b[1;32m   1010\u001b[0m                     \u001b[0;34m\"Complex data not supported\\n{}\\n\"\u001b[0m\u001b[0;34m.\u001b[0m\u001b[0mformat\u001b[0m\u001b[0;34m(\u001b[0m\u001b[0marray\u001b[0m\u001b[0;34m)\u001b[0m\u001b[0;34m\u001b[0m\u001b[0;34m\u001b[0m\u001b[0m\n\u001b[1;32m   1011\u001b[0m                 ) from complex_warning\n\u001b[1;32m   1012\u001b[0m \u001b[0;34m\u001b[0m\u001b[0m\n",
      "\u001b[0;32m/opt/conda/envs/umap/lib/python3.9/site-packages/sklearn/utils/_array_api.py\u001b[0m in \u001b[0;36m?\u001b[0;34m(array, dtype, order, copy, xp, device)\u001b[0m\n\u001b[1;32m    742\u001b[0m         \u001b[0;31m# Use NumPy API to support order\u001b[0m\u001b[0;34m\u001b[0m\u001b[0;34m\u001b[0m\u001b[0m\n\u001b[1;32m    743\u001b[0m         \u001b[0;32mif\u001b[0m \u001b[0mcopy\u001b[0m \u001b[0;32mis\u001b[0m \u001b[0;32mTrue\u001b[0m\u001b[0;34m:\u001b[0m\u001b[0;34m\u001b[0m\u001b[0;34m\u001b[0m\u001b[0m\n\u001b[1;32m    744\u001b[0m             \u001b[0marray\u001b[0m \u001b[0;34m=\u001b[0m \u001b[0mnumpy\u001b[0m\u001b[0;34m.\u001b[0m\u001b[0marray\u001b[0m\u001b[0;34m(\u001b[0m\u001b[0marray\u001b[0m\u001b[0;34m,\u001b[0m \u001b[0morder\u001b[0m\u001b[0;34m=\u001b[0m\u001b[0morder\u001b[0m\u001b[0;34m,\u001b[0m \u001b[0mdtype\u001b[0m\u001b[0;34m=\u001b[0m\u001b[0mdtype\u001b[0m\u001b[0;34m)\u001b[0m\u001b[0;34m\u001b[0m\u001b[0;34m\u001b[0m\u001b[0m\n\u001b[1;32m    745\u001b[0m         \u001b[0;32melse\u001b[0m\u001b[0;34m:\u001b[0m\u001b[0;34m\u001b[0m\u001b[0;34m\u001b[0m\u001b[0m\n\u001b[0;32m--> 746\u001b[0;31m             \u001b[0marray\u001b[0m \u001b[0;34m=\u001b[0m \u001b[0mnumpy\u001b[0m\u001b[0;34m.\u001b[0m\u001b[0masarray\u001b[0m\u001b[0;34m(\u001b[0m\u001b[0marray\u001b[0m\u001b[0;34m,\u001b[0m \u001b[0morder\u001b[0m\u001b[0;34m=\u001b[0m\u001b[0morder\u001b[0m\u001b[0;34m,\u001b[0m \u001b[0mdtype\u001b[0m\u001b[0;34m=\u001b[0m\u001b[0mdtype\u001b[0m\u001b[0;34m)\u001b[0m\u001b[0;34m\u001b[0m\u001b[0;34m\u001b[0m\u001b[0m\n\u001b[0m\u001b[1;32m    747\u001b[0m \u001b[0;34m\u001b[0m\u001b[0m\n\u001b[1;32m    748\u001b[0m         \u001b[0;31m# At this point array is a NumPy ndarray. We convert it to an array\u001b[0m\u001b[0;34m\u001b[0m\u001b[0;34m\u001b[0m\u001b[0m\n\u001b[1;32m    749\u001b[0m         \u001b[0;31m# container that is consistent with the input's namespace.\u001b[0m\u001b[0;34m\u001b[0m\u001b[0;34m\u001b[0m\u001b[0m\n",
      "\u001b[0;32m/opt/conda/envs/umap/lib/python3.9/site-packages/pandas/core/generic.py\u001b[0m in \u001b[0;36m?\u001b[0;34m(self, dtype)\u001b[0m\n\u001b[1;32m   2148\u001b[0m     \u001b[0;32mdef\u001b[0m \u001b[0m__array__\u001b[0m\u001b[0;34m(\u001b[0m\u001b[0mself\u001b[0m\u001b[0;34m,\u001b[0m \u001b[0mdtype\u001b[0m\u001b[0;34m:\u001b[0m \u001b[0mnpt\u001b[0m\u001b[0;34m.\u001b[0m\u001b[0mDTypeLike\u001b[0m \u001b[0;34m|\u001b[0m \u001b[0;32mNone\u001b[0m \u001b[0;34m=\u001b[0m \u001b[0;32mNone\u001b[0m\u001b[0;34m)\u001b[0m \u001b[0;34m->\u001b[0m \u001b[0mnp\u001b[0m\u001b[0;34m.\u001b[0m\u001b[0mndarray\u001b[0m\u001b[0;34m:\u001b[0m\u001b[0;34m\u001b[0m\u001b[0;34m\u001b[0m\u001b[0m\n\u001b[1;32m   2149\u001b[0m         \u001b[0mvalues\u001b[0m \u001b[0;34m=\u001b[0m \u001b[0mself\u001b[0m\u001b[0;34m.\u001b[0m\u001b[0m_values\u001b[0m\u001b[0;34m\u001b[0m\u001b[0;34m\u001b[0m\u001b[0m\n\u001b[0;32m-> 2150\u001b[0;31m         \u001b[0marr\u001b[0m \u001b[0;34m=\u001b[0m \u001b[0mnp\u001b[0m\u001b[0;34m.\u001b[0m\u001b[0masarray\u001b[0m\u001b[0;34m(\u001b[0m\u001b[0mvalues\u001b[0m\u001b[0;34m,\u001b[0m \u001b[0mdtype\u001b[0m\u001b[0;34m=\u001b[0m\u001b[0mdtype\u001b[0m\u001b[0;34m)\u001b[0m\u001b[0;34m\u001b[0m\u001b[0;34m\u001b[0m\u001b[0m\n\u001b[0m\u001b[1;32m   2151\u001b[0m         if (\n\u001b[1;32m   2152\u001b[0m             \u001b[0mastype_is_view\u001b[0m\u001b[0;34m(\u001b[0m\u001b[0mvalues\u001b[0m\u001b[0;34m.\u001b[0m\u001b[0mdtype\u001b[0m\u001b[0;34m,\u001b[0m \u001b[0marr\u001b[0m\u001b[0;34m.\u001b[0m\u001b[0mdtype\u001b[0m\u001b[0;34m)\u001b[0m\u001b[0;34m\u001b[0m\u001b[0;34m\u001b[0m\u001b[0m\n\u001b[1;32m   2153\u001b[0m             \u001b[0;32mand\u001b[0m \u001b[0musing_copy_on_write\u001b[0m\u001b[0;34m(\u001b[0m\u001b[0;34m)\u001b[0m\u001b[0;34m\u001b[0m\u001b[0;34m\u001b[0m\u001b[0m\n",
      "\u001b[0;31mValueError\u001b[0m: could not convert string to float: 'SRR3664922'"
     ]
    }
   ],
   "source": [
    "# Instancia del modelo\n",
    "rf_regressor = RandomForestRegressor(n_estimators=100, random_state=42)\n",
    "\n",
    "# Entrenamos el modelo para la variable continua\n",
    "rf_regressor.fit(X_train, Y_cont_train)\n"
   ]
  },
  {
   "cell_type": "code",
   "execution_count": null,
   "id": "6fa0cfab-9390-4d6c-9e53-dfbd38f2ce82",
   "metadata": {},
   "outputs": [],
   "source": [
    "# Predicción sobre el conjunto de prueba para la variable continua\n",
    "Y_cont_pred = rf_regressor.predict(X_test)\n",
    "\n",
    "# Evaluar el modelo de regresión\n",
    "from sklearn.metrics import mean_squared_error\n",
    "mse = mean_squared_error(Y_cont_test, Y_cont_pred)\n",
    "print(f\"MSE (continua): {mse}\")\n"
   ]
  },
  {
   "cell_type": "markdown",
   "id": "4db03da3-0c98-48ff-ac56-179ad2827b78",
   "metadata": {},
   "source": [
    "# Bootstrap"
   ]
  },
  {
   "cell_type": "code",
   "execution_count": 119,
   "id": "7204c360-3c64-427f-bb47-49eb5c940f7b",
   "metadata": {},
   "outputs": [
    {
     "data": {
      "text/html": [
       "<div>\n",
       "<style scoped>\n",
       "    .dataframe tbody tr th:only-of-type {\n",
       "        vertical-align: middle;\n",
       "    }\n",
       "\n",
       "    .dataframe tbody tr th {\n",
       "        vertical-align: top;\n",
       "    }\n",
       "\n",
       "    .dataframe thead th {\n",
       "        text-align: right;\n",
       "    }\n",
       "</style>\n",
       "<table border=\"1\" class=\"dataframe\">\n",
       "  <thead>\n",
       "    <tr style=\"text-align: right;\">\n",
       "      <th></th>\n",
       "      <th>accession</th>\n",
       "      <th>genus</th>\n",
       "      <th>species</th>\n",
       "      <th>phenotype</th>\n",
       "      <th>mic</th>\n",
       "      <th>3000535</th>\n",
       "      <th>3005091</th>\n",
       "      <th>3000833</th>\n",
       "      <th>3003665</th>\n",
       "      <th>3007433</th>\n",
       "      <th>...</th>\n",
       "      <th>3003285-S531G</th>\n",
       "      <th>3007051-I572F</th>\n",
       "      <th>3007051-I837V</th>\n",
       "      <th>3003294-D105E</th>\n",
       "      <th>3003394-S66P</th>\n",
       "      <th>3005106-A352E</th>\n",
       "      <th>3003937-N514H</th>\n",
       "      <th>3003937-L546V</th>\n",
       "      <th>3003304-E540V</th>\n",
       "      <th>3003304-E504V</th>\n",
       "    </tr>\n",
       "  </thead>\n",
       "  <tbody>\n",
       "    <tr>\n",
       "      <th>0</th>\n",
       "      <td>SRR3138666</td>\n",
       "      <td>Campylobacter</td>\n",
       "      <td>jejuni</td>\n",
       "      <td>Susceptible</td>\n",
       "      <td>0.12</td>\n",
       "      <td>19.0</td>\n",
       "      <td>10.0</td>\n",
       "      <td>4.0</td>\n",
       "      <td>3.0</td>\n",
       "      <td>3.0</td>\n",
       "      <td>...</td>\n",
       "      <td>0.0</td>\n",
       "      <td>0.0</td>\n",
       "      <td>0.0</td>\n",
       "      <td>0.0</td>\n",
       "      <td>0.0</td>\n",
       "      <td>0.0</td>\n",
       "      <td>0.0</td>\n",
       "      <td>0.0</td>\n",
       "      <td>0.0</td>\n",
       "      <td>0.0</td>\n",
       "    </tr>\n",
       "    <tr>\n",
       "      <th>1</th>\n",
       "      <td>SRR3138667</td>\n",
       "      <td>Campylobacter</td>\n",
       "      <td>jejuni</td>\n",
       "      <td>Susceptible</td>\n",
       "      <td>0.06</td>\n",
       "      <td>19.0</td>\n",
       "      <td>6.0</td>\n",
       "      <td>7.0</td>\n",
       "      <td>4.0</td>\n",
       "      <td>4.0</td>\n",
       "      <td>...</td>\n",
       "      <td>0.0</td>\n",
       "      <td>0.0</td>\n",
       "      <td>0.0</td>\n",
       "      <td>0.0</td>\n",
       "      <td>0.0</td>\n",
       "      <td>0.0</td>\n",
       "      <td>0.0</td>\n",
       "      <td>0.0</td>\n",
       "      <td>0.0</td>\n",
       "      <td>0.0</td>\n",
       "    </tr>\n",
       "    <tr>\n",
       "      <th>2</th>\n",
       "      <td>SRR3138668</td>\n",
       "      <td>Campylobacter</td>\n",
       "      <td>jejuni</td>\n",
       "      <td>Susceptible</td>\n",
       "      <td>0.06</td>\n",
       "      <td>16.0</td>\n",
       "      <td>7.0</td>\n",
       "      <td>5.0</td>\n",
       "      <td>3.0</td>\n",
       "      <td>3.0</td>\n",
       "      <td>...</td>\n",
       "      <td>0.0</td>\n",
       "      <td>0.0</td>\n",
       "      <td>0.0</td>\n",
       "      <td>0.0</td>\n",
       "      <td>0.0</td>\n",
       "      <td>0.0</td>\n",
       "      <td>0.0</td>\n",
       "      <td>0.0</td>\n",
       "      <td>0.0</td>\n",
       "      <td>0.0</td>\n",
       "    </tr>\n",
       "    <tr>\n",
       "      <th>3</th>\n",
       "      <td>SRR3138669</td>\n",
       "      <td>Campylobacter</td>\n",
       "      <td>jejuni</td>\n",
       "      <td>Susceptible</td>\n",
       "      <td>0.06</td>\n",
       "      <td>16.0</td>\n",
       "      <td>7.0</td>\n",
       "      <td>5.0</td>\n",
       "      <td>3.0</td>\n",
       "      <td>3.0</td>\n",
       "      <td>...</td>\n",
       "      <td>0.0</td>\n",
       "      <td>0.0</td>\n",
       "      <td>0.0</td>\n",
       "      <td>0.0</td>\n",
       "      <td>0.0</td>\n",
       "      <td>0.0</td>\n",
       "      <td>0.0</td>\n",
       "      <td>0.0</td>\n",
       "      <td>0.0</td>\n",
       "      <td>0.0</td>\n",
       "    </tr>\n",
       "    <tr>\n",
       "      <th>4</th>\n",
       "      <td>SRR3138670</td>\n",
       "      <td>Campylobacter</td>\n",
       "      <td>jejuni</td>\n",
       "      <td>Susceptible</td>\n",
       "      <td>0.06</td>\n",
       "      <td>20.0</td>\n",
       "      <td>8.0</td>\n",
       "      <td>6.0</td>\n",
       "      <td>4.0</td>\n",
       "      <td>4.0</td>\n",
       "      <td>...</td>\n",
       "      <td>0.0</td>\n",
       "      <td>0.0</td>\n",
       "      <td>0.0</td>\n",
       "      <td>0.0</td>\n",
       "      <td>0.0</td>\n",
       "      <td>0.0</td>\n",
       "      <td>0.0</td>\n",
       "      <td>0.0</td>\n",
       "      <td>0.0</td>\n",
       "      <td>0.0</td>\n",
       "    </tr>\n",
       "  </tbody>\n",
       "</table>\n",
       "<p>5 rows × 5570 columns</p>\n",
       "</div>"
      ],
      "text/plain": [
       "    accession          genus species    phenotype   mic  3000535  3005091  \\\n",
       "0  SRR3138666  Campylobacter  jejuni  Susceptible  0.12     19.0     10.0   \n",
       "1  SRR3138667  Campylobacter  jejuni  Susceptible  0.06     19.0      6.0   \n",
       "2  SRR3138668  Campylobacter  jejuni  Susceptible  0.06     16.0      7.0   \n",
       "3  SRR3138669  Campylobacter  jejuni  Susceptible  0.06     16.0      7.0   \n",
       "4  SRR3138670  Campylobacter  jejuni  Susceptible  0.06     20.0      8.0   \n",
       "\n",
       "   3000833  3003665  3007433  ...  3003285-S531G  3007051-I572F  \\\n",
       "0      4.0      3.0      3.0  ...            0.0            0.0   \n",
       "1      7.0      4.0      4.0  ...            0.0            0.0   \n",
       "2      5.0      3.0      3.0  ...            0.0            0.0   \n",
       "3      5.0      3.0      3.0  ...            0.0            0.0   \n",
       "4      6.0      4.0      4.0  ...            0.0            0.0   \n",
       "\n",
       "   3007051-I837V  3003294-D105E  3003394-S66P  3005106-A352E  3003937-N514H  \\\n",
       "0            0.0            0.0           0.0            0.0            0.0   \n",
       "1            0.0            0.0           0.0            0.0            0.0   \n",
       "2            0.0            0.0           0.0            0.0            0.0   \n",
       "3            0.0            0.0           0.0            0.0            0.0   \n",
       "4            0.0            0.0           0.0            0.0            0.0   \n",
       "\n",
       "   3003937-L546V  3003304-E540V  3003304-E504V  \n",
       "0            0.0            0.0            0.0  \n",
       "1            0.0            0.0            0.0  \n",
       "2            0.0            0.0            0.0  \n",
       "3            0.0            0.0            0.0  \n",
       "4            0.0            0.0            0.0  \n",
       "\n",
       "[5 rows x 5570 columns]"
      ]
     },
     "execution_count": 119,
     "metadata": {},
     "output_type": "execute_result"
    }
   ],
   "source": [
    "resis_cipro_L_Train.head()"
   ]
  },
  {
   "cell_type": "code",
   "execution_count": 276,
   "id": "5a8b95b1-f0db-432b-a8ba-737105f6b0fa",
   "metadata": {},
   "outputs": [
    {
     "data": {
      "text/plain": [
       "mic               0.918746\n",
       "3000535          24.106458\n",
       "3005091          16.005323\n",
       "3000833          22.696593\n",
       "3003665          17.223563\n",
       "                   ...    \n",
       "3005106-A352E     0.000000\n",
       "3003937-N514H     0.000000\n",
       "3003937-L546V     0.000000\n",
       "3003304-E540V     0.000000\n",
       "3003304-E504V     0.000000\n",
       "Length: 5566, dtype: float64"
      ]
     },
     "execution_count": 276,
     "metadata": {},
     "output_type": "execute_result"
    }
   ],
   "source": [
    "# Calculo de media para las columnas numéricas\n",
    "resis_cipro_L_Train.iloc[:, 4:].mean()"
   ]
  },
  {
   "cell_type": "code",
   "execution_count": 277,
   "id": "5ce376bb-536c-43aa-9c36-20ba03243a92",
   "metadata": {},
   "outputs": [
    {
     "data": {
      "text/plain": [
       "mic               0.015\n",
       "3000535          25.000\n",
       "3005091          18.000\n",
       "3000833          27.000\n",
       "3003665          21.000\n",
       "                  ...  \n",
       "3005106-A352E     0.000\n",
       "3003937-N514H     0.000\n",
       "3003937-L546V     0.000\n",
       "3003304-E540V     0.000\n",
       "3003304-E504V     0.000\n",
       "Length: 5566, dtype: float64"
      ]
     },
     "execution_count": 277,
     "metadata": {},
     "output_type": "execute_result"
    }
   ],
   "source": [
    "# Calculo de mediana para las columnas numéricas\n",
    "resis_cipro_L_Train.iloc[:, 4:].median()"
   ]
  },
  {
   "cell_type": "code",
   "execution_count": 278,
   "id": "2ec744bb-a573-4dd4-bbe8-525edb8e2920",
   "metadata": {},
   "outputs": [
    {
     "data": {
      "text/plain": [
       "mic              4.215741\n",
       "3000535          4.627098\n",
       "3005091          5.322570\n",
       "3000833          9.677761\n",
       "3003665          7.936229\n",
       "                   ...   \n",
       "3005106-A352E    0.000000\n",
       "3003937-N514H    0.000000\n",
       "3003937-L546V    0.000000\n",
       "3003304-E540V    0.000000\n",
       "3003304-E504V    0.000000\n",
       "Length: 5566, dtype: float64"
      ]
     },
     "execution_count": 278,
     "metadata": {},
     "output_type": "execute_result"
    }
   ],
   "source": [
    "# Calculo de desv est para las columnas numéricas\n",
    "resis_cipro_L_Train.iloc[:, 4:].std()"
   ]
  },
  {
   "cell_type": "code",
   "execution_count": 284,
   "id": "80a71fe9-9a23-4d6f-9abc-97b351570190",
   "metadata": {},
   "outputs": [
    {
     "name": "stdout",
     "output_type": "stream",
     "text": [
      "mínimo:\n",
      "mic               0.002\n",
      "3000535          12.000\n",
      "3005091           3.000\n",
      "3000833           2.000\n",
      "3003665           2.000\n",
      "                  ...  \n",
      "3005106-A352E     0.000\n",
      "3003937-N514H     0.000\n",
      "3003937-L546V     0.000\n",
      "3003304-E540V     0.000\n",
      "3003304-E504V     0.000\n",
      "Length: 5566, dtype: float64 \n",
      "máximo:\n",
      "mic              64.0\n",
      "3000535          86.0\n",
      "3005091          62.0\n",
      "3000833          83.0\n",
      "3003665          67.0\n",
      "                 ... \n",
      "3005106-A352E     0.0\n",
      "3003937-N514H     0.0\n",
      "3003937-L546V     0.0\n",
      "3003304-E540V     0.0\n",
      "3003304-E504V     0.0\n",
      "Length: 5566, dtype: float64\n"
     ]
    }
   ],
   "source": [
    "# Calculo de mínimo y máximo para las columnas numéricas\n",
    "print(f\"mínimo:\\n{resis_cipro_L_Train.iloc[:, 4:].min()} \\nmáximo:\\n{resis_cipro_L_Train.iloc[:, 4:].max()}\")"
   ]
  },
  {
   "cell_type": "code",
   "execution_count": null,
   "id": "fdd0fb5b-e6a4-4a23-944d-879df6b0097b",
   "metadata": {},
   "outputs": [],
   "source": []
  },
  {
   "cell_type": "code",
   "execution_count": 126,
   "id": "565ef567-8700-4d9b-9d69-867c19698200",
   "metadata": {},
   "outputs": [
    {
     "data": {
      "text/plain": [
       "0.9187462739531581"
      ]
     },
     "execution_count": 126,
     "metadata": {},
     "output_type": "execute_result"
    }
   ],
   "source": [
    "resis_cipro_L_Train['mic'].mean()\n",
    "\n",
    "#resis_cipro_L_Train['mic'].sample(n=20, replace=False)"
   ]
  },
  {
   "cell_type": "code",
   "execution_count": 128,
   "id": "c71a401b-d2f7-4bab-8a8f-dae960b4f2c0",
   "metadata": {},
   "outputs": [
    {
     "data": {
      "text/plain": [
       "0        1.43046\n",
       "1        0.96568\n",
       "2        0.74434\n",
       "3        0.61495\n",
       "4        0.91270\n",
       "          ...   \n",
       "99995    0.56410\n",
       "99996    1.03359\n",
       "99997    1.35797\n",
       "99998    0.66710\n",
       "99999    0.93369\n",
       "Length: 100000, dtype: float64"
      ]
     },
     "execution_count": 128,
     "metadata": {},
     "output_type": "execute_result"
    }
   ],
   "source": [
    "# Bootstrap for mic with mean\n",
    "mic_value = resis_cipro_L_Train['mic']\n",
    "\n",
    "means = []\n",
    "\n",
    "for i in range(100_000):\n",
    "  sample = mic_value.sample(n=100, replace=True)\n",
    "  means.append(sample.mean()) # can be more measures like median, sum of values\n",
    "\n",
    "serie_means = pd.Series(means)\n",
    "serie_means"
   ]
  },
  {
   "cell_type": "code",
   "execution_count": 129,
   "id": "f67d7a97-bbbd-4269-8ac1-23f9f929e14a",
   "metadata": {},
   "outputs": [
    {
     "data": {
      "text/plain": [
       "<matplotlib.lines.Line2D at 0x7ba4ca15bd90>"
      ]
     },
     "execution_count": 129,
     "metadata": {},
     "output_type": "execute_result"
    },
    {
     "data": {
      "image/png": "[encoded data removed]",
      "text/plain": [
       "<Figure size 640x480 with 1 Axes>"
      ]
     },
     "metadata": {},
     "output_type": "display_data"
    }
   ],
   "source": [
    "sns.histplot(serie_means)\n",
    "plt.axvline(resis_cipro_L_Train['mic'].mean(), color='red')"
   ]
  },
  {
   "cell_type": "code",
   "execution_count": 168,
   "id": "9f5b0ee9-7701-4838-a5e5-b6a32fb5326a",
   "metadata": {},
   "outputs": [
    {
     "name": "stdout",
     "output_type": "stream",
     "text": [
      "El intervalo de confianza es de 0.26568 a 1.8898804999999996\n"
     ]
    }
   ],
   "source": [
    "limite_inferior = serie_means.quantile(0.025)\n",
    "limite_superior = serie_means.quantile(0.975)\n",
    "\n",
    "print(f'El intervalo de confianza es de {limite_inferior} a {limite_superior}')"
   ]
  },
  {
   "cell_type": "code",
   "execution_count": 169,
   "id": "5fd0b97b-0827-458a-81e1-6adfb06bda35",
   "metadata": {},
   "outputs": [
    {
     "data": {
      "text/plain": [
       "0.9187462739531581"
      ]
     },
     "execution_count": 169,
     "metadata": {},
     "output_type": "execute_result"
    }
   ],
   "source": [
    "mic_value.mean()"
   ]
  },
  {
   "cell_type": "code",
   "execution_count": 170,
   "id": "43086170-e245-46f3-b6c5-da49137a595a",
   "metadata": {},
   "outputs": [
    {
     "name": "stdout",
     "output_type": "stream",
     "text": [
      "Intervalo de 95% de confianza de la media: 0.9187462739531581 +/- 0.8121002499999999\n"
     ]
    }
   ],
   "source": [
    "promedio_de_los_intervalos = ((mic_value.mean() - limite_inferior) + (limite_superior - mic_value.mean())) / 2\n",
    "\n",
    "print(f'Intervalo de 95% de confianza de la media: {mic_value.mean()} +/- {promedio_de_los_intervalos}')"
   ]
  },
  {
   "cell_type": "code",
   "execution_count": 171,
   "id": "8d67e413-8006-4ab9-a4b6-4d9a737dd8eb",
   "metadata": {},
   "outputs": [
    {
     "data": {
      "text/plain": [
       "<matplotlib.lines.Line2D at 0x7ba39d3ce790>"
      ]
     },
     "execution_count": 171,
     "metadata": {},
     "output_type": "execute_result"
    },
    {
     "data": {
      "image/png": "[encoded data removed]",
      "text/plain": [
       "<Figure size 640x480 with 1 Axes>"
      ]
     },
     "metadata": {},
     "output_type": "display_data"
    }
   ],
   "source": [
    "sns.histplot(serie_means)\n",
    "plt.axvline(resis_cipro_L_Train['mic'].mean(), color='red')\n",
    "plt.axvline(limite_inferior, color='black')\n",
    "plt.axvline(limite_superior, color='black')"
   ]
  },
  {
   "cell_type": "code",
   "execution_count": null,
   "id": "6c8a5727-7745-49e3-a536-88553ad8559a",
   "metadata": {},
   "outputs": [],
   "source": []
  },
  {
   "cell_type": "code",
   "execution_count": null,
   "id": "336a99b4-9e7d-4b33-a15c-48eedc040bc3",
   "metadata": {},
   "outputs": [],
   "source": []
  },
  {
   "cell_type": "code",
   "execution_count": null,
   "id": "7e356928-e34a-497a-a72c-7c0bbfc4d110",
   "metadata": {},
   "outputs": [],
   "source": []
  },
  {
   "cell_type": "code",
   "execution_count": 130,
   "id": "74e83cfe-f362-4d4f-89b9-85a61fd0ee8f",
   "metadata": {},
   "outputs": [
    {
     "data": {
      "text/plain": [
       "0        4.617055\n",
       "1        5.126815\n",
       "2        3.566904\n",
       "3        2.999129\n",
       "4        1.783199\n",
       "           ...   \n",
       "99995    2.197377\n",
       "99996    2.738680\n",
       "99997    3.198126\n",
       "99998    1.599422\n",
       "99999    3.710484\n",
       "Length: 100000, dtype: float64"
      ]
     },
     "execution_count": 130,
     "metadata": {},
     "output_type": "execute_result"
    }
   ],
   "source": [
    "# Bootstrap for mic with standard deviation\n",
    "mic_value = resis_cipro_L_Train['mic']\n",
    "\n",
    "d_est = []\n",
    "\n",
    "for i in range(100_000):\n",
    "  sample = mic_value.sample(n=100, replace=True)\n",
    "  d_est.append(sample.std()) # can be more measures like median, sum of values\n",
    "\n",
    "serie_d_est = pd.Series(d_est)\n",
    "serie_d_est"
   ]
  },
  {
   "cell_type": "code",
   "execution_count": 133,
   "id": "fddd7dd0-979a-4031-aed9-952c47b1c302",
   "metadata": {},
   "outputs": [
    {
     "data": {
      "text/plain": [
       "4.215740771681975"
      ]
     },
     "execution_count": 133,
     "metadata": {},
     "output_type": "execute_result"
    }
   ],
   "source": [
    "resis_cipro_L_Train['mic'].std()"
   ]
  },
  {
   "cell_type": "code",
   "execution_count": 134,
   "id": "b8134b23-bc5a-4494-836b-e7a9b481fbcd",
   "metadata": {},
   "outputs": [
    {
     "data": {
      "text/plain": [
       "<matplotlib.lines.Line2D at 0x7ba4c1227a60>"
      ]
     },
     "execution_count": 134,
     "metadata": {},
     "output_type": "execute_result"
    },
    {
     "data": {
      "image/png": "[encoded data removed]",
      "text/plain": [
       "<Figure size 640x480 with 1 Axes>"
      ]
     },
     "metadata": {},
     "output_type": "display_data"
    }
   ],
   "source": [
    "sns.histplot(serie_d_est)\n",
    "plt.axvline(resis_cipro_L_Train['mic'].std(), color='red')"
   ]
  },
  {
   "cell_type": "code",
   "execution_count": 136,
   "id": "3b9be43f-b2fc-402d-87eb-8be299e68e66",
   "metadata": {},
   "outputs": [
    {
     "data": {
      "text/plain": [
       "0        0.015\n",
       "1        0.015\n",
       "2        0.015\n",
       "3        0.015\n",
       "4        0.015\n",
       "         ...  \n",
       "99995    0.015\n",
       "99996    0.015\n",
       "99997    0.015\n",
       "99998    0.015\n",
       "99999    0.015\n",
       "Length: 100000, dtype: float64"
      ]
     },
     "execution_count": 136,
     "metadata": {},
     "output_type": "execute_result"
    }
   ],
   "source": [
    "# Bootstrap with median\n",
    "mic_value = resis_cipro_L_Train['mic']\n",
    "\n",
    "medians = []\n",
    "\n",
    "for i in range(100_000):\n",
    "  sample = mic_value.sample(n=100, replace=True)\n",
    "  medians.append(sample.median()) # can be more measures like median, sum of values\n",
    "\n",
    "serie_medians = pd.Series(medians)\n",
    "serie_medians"
   ]
  },
  {
   "cell_type": "code",
   "execution_count": 137,
   "id": "f80302fb-ffe2-49a6-91b8-1d1f675fa04e",
   "metadata": {},
   "outputs": [
    {
     "data": {
      "text/plain": [
       "0.015"
      ]
     },
     "execution_count": 137,
     "metadata": {},
     "output_type": "execute_result"
    }
   ],
   "source": [
    "resis_cipro_L_Train['mic'].median()"
   ]
  },
  {
   "cell_type": "code",
   "execution_count": 156,
   "id": "8f20550d-b0dd-4978-95b7-78c7e5b8a277",
   "metadata": {},
   "outputs": [
    {
     "data": {
      "text/plain": [
       "<matplotlib.lines.Line2D at 0x7ba39dd40b50>"
      ]
     },
     "execution_count": 156,
     "metadata": {},
     "output_type": "execute_result"
    },
    {
     "data": {
      "image/png": "[encoded data removed]",
      "text/plain": [
       "<Figure size 640x480 with 1 Axes>"
      ]
     },
     "metadata": {},
     "output_type": "display_data"
    }
   ],
   "source": [
    "sns.histplot(serie_medians)\n",
    "plt.axvline(resis_cipro_L_Train['mic'].median(), color='red')"
   ]
  },
  {
   "cell_type": "code",
   "execution_count": 147,
   "id": "ddad5eb1-8f45-4f3d-8b51-ebbbfcfbf5d5",
   "metadata": {},
   "outputs": [
    {
     "data": {
      "text/plain": [
       "64.0"
      ]
     },
     "execution_count": 147,
     "metadata": {},
     "output_type": "execute_result"
    }
   ],
   "source": [
    "resis_cipro_L_Train['mic'].max()"
   ]
  },
  {
   "cell_type": "code",
   "execution_count": 148,
   "id": "c3b39858-7643-4413-a022-e76920528e03",
   "metadata": {},
   "outputs": [
    {
     "data": {
      "text/plain": [
       "0.002"
      ]
     },
     "execution_count": 148,
     "metadata": {},
     "output_type": "execute_result"
    }
   ],
   "source": [
    "resis_cipro_L_Train['mic'].min()"
   ]
  },
  {
   "cell_type": "code",
   "execution_count": 149,
   "id": "52f7c252-4b9d-49d6-8e90-95209a016687",
   "metadata": {},
   "outputs": [
    {
     "data": {
      "text/plain": [
       "(0.0, 0.25)"
      ]
     },
     "execution_count": 149,
     "metadata": {},
     "output_type": "execute_result"
    },
    {
     "data": {
      "image/png": "[encoded data removed]",
      "text/plain": [
       "<Figure size 640x480 with 1 Axes>"
      ]
     },
     "metadata": {},
     "output_type": "display_data"
    }
   ],
   "source": [
    "sns.histplot(resis_cipro_L_Train['mic'])\n",
    "plt.xlim(0, 0.25)\n"
   ]
  },
  {
   "cell_type": "code",
   "execution_count": 144,
   "id": "bc4f5a27-ab2a-471f-8db7-6710211b5687",
   "metadata": {},
   "outputs": [],
   "source": [
    "#sns.histplot?"
   ]
  },
  {
   "cell_type": "code",
   "execution_count": 153,
   "id": "3d4b46bb-2aef-4b9a-9f52-709df071fe2c",
   "metadata": {},
   "outputs": [
    {
     "data": {
      "text/plain": [
       "<Axes: ylabel='mic'>"
      ]
     },
     "execution_count": 153,
     "metadata": {},
     "output_type": "execute_result"
    },
    {
     "data": {
      "image/png": "[encoded data removed]",
      "text/plain": [
       "<Figure size 640x480 with 1 Axes>"
      ]
     },
     "metadata": {},
     "output_type": "display_data"
    }
   ],
   "source": [
    "sns.boxplot(resis_cipro_L_Train['mic'])\n",
    "#plt.ylim(0, 0.25)"
   ]
  },
  {
   "cell_type": "code",
   "execution_count": 173,
   "id": "c74dee1a-0a8a-4480-ba7e-6b21c4c5e888",
   "metadata": {},
   "outputs": [],
   "source": [
    "#resis_cipro_L_Train['mic'].tail(20)"
   ]
  },
  {
   "cell_type": "code",
   "execution_count": 191,
   "id": "cc4af60c-3b5d-4f56-ac79-3c536b040cb8",
   "metadata": {},
   "outputs": [
    {
     "data": {
      "image/png": "[encoded data removed]",
      "text/plain": [
       "<Figure size 1000x1000 with 2 Axes>"
      ]
     },
     "metadata": {},
     "output_type": "display_data"
    }
   ],
   "source": [
    "# Select columns from index 4 to 14 (inclusive)\n",
    "selected_columns = resis_cipro_L_Train.iloc[:, [4] + list(range(41, 60))]\n",
    "#resis_cipro_L_Train.iloc[:,[0, 1, 2] + list(range(5, len(resis_cipro_L_Train)))]\n",
    "\n",
    "# Create the heatmap using correlation matrix\n",
    "corr_matrix = selected_columns.corr()\n",
    "plt.figure(figsize=(10, 10))\n",
    "sns.heatmap(corr_matrix, annot=True)\n",
    "plt.show()\n"
   ]
  },
  {
   "cell_type": "code",
   "execution_count": 194,
   "id": "ac93c076-b4d4-46ab-a4ad-6da8fbd4303f",
   "metadata": {},
   "outputs": [],
   "source": [
    "# Ahora voy a entrenar un modelo de Regresión Lineal Múltiple, porque tengo más de 1 variable independiente\n",
    "\n",
    "X = resis_cipro_L_Train['3004072'] # independientes\n",
    "y = resis_cipro_L_Train['mic'] # dependiente"
   ]
  },
  {
   "cell_type": "code",
   "execution_count": 198,
   "id": "2ee2a21f-7c96-4dfe-a0ba-7f5aabb5f663",
   "metadata": {},
   "outputs": [],
   "source": [
    "X_train, X_test, y_train, y_test = train_test_split(X, y, test_size=0.2) # 0.2 significa que el 20% de mis datos se va\n",
    "# para test. Por lo tanto, el 80% se va a para train."
   ]
  },
  {
   "cell_type": "code",
   "execution_count": 199,
   "id": "f9d3c8c2-f651-4294-ace0-694004b69932",
   "metadata": {},
   "outputs": [
    {
     "ename": "AttributeError",
     "evalue": "'Series' object has no attribute 'reshape'",
     "output_type": "error",
     "traceback": [
      "\u001b[0;31m---------------------------------------------------------------------------\u001b[0m",
      "\u001b[0;31mAttributeError\u001b[0m                            Traceback (most recent call last)",
      "\u001b[0;32m/tmp/ipykernel_1725917/3553444584.py\u001b[0m in \u001b[0;36m?\u001b[0;34m()\u001b[0m\n\u001b[0;32m----> 4\u001b[0;31m \u001b[0;32mfrom\u001b[0m \u001b[0msklearn\u001b[0m\u001b[0;34m.\u001b[0m\u001b[0mlinear_model\u001b[0m \u001b[0;32mimport\u001b[0m \u001b[0mLinearRegression\u001b[0m\u001b[0;34m\u001b[0m\u001b[0;34m\u001b[0m\u001b[0m\n\u001b[0m\u001b[1;32m      5\u001b[0m \u001b[0;34m\u001b[0m\u001b[0m\n\u001b[1;32m      6\u001b[0m \u001b[0;31m# Assuming X_train is a Series\u001b[0m\u001b[0;34m\u001b[0m\u001b[0;34m\u001b[0m\u001b[0m\n\u001b[1;32m      7\u001b[0m \u001b[0mX_train_2d\u001b[0m \u001b[0;34m=\u001b[0m \u001b[0mX_train\u001b[0m\u001b[0;34m.\u001b[0m\u001b[0mreshape\u001b[0m\u001b[0;34m(\u001b[0m\u001b[0;34m-\u001b[0m\u001b[0;36m1\u001b[0m\u001b[0;34m,\u001b[0m \u001b[0;36m1\u001b[0m\u001b[0;34m)\u001b[0m  \u001b[0;31m# Reshape to a 2D array with one column\u001b[0m\u001b[0;34m\u001b[0m\u001b[0;34m\u001b[0m\u001b[0m\n",
      "\u001b[0;32m/opt/conda/envs/umap/lib/python3.9/site-packages/pandas/core/generic.py\u001b[0m in \u001b[0;36m?\u001b[0;34m(self, name)\u001b[0m\n\u001b[1;32m   6292\u001b[0m             \u001b[0;32mand\u001b[0m \u001b[0mname\u001b[0m \u001b[0;32mnot\u001b[0m \u001b[0;32min\u001b[0m \u001b[0mself\u001b[0m\u001b[0;34m.\u001b[0m\u001b[0m_accessors\u001b[0m\u001b[0;34m\u001b[0m\u001b[0;34m\u001b[0m\u001b[0m\n\u001b[1;32m   6293\u001b[0m             \u001b[0;32mand\u001b[0m \u001b[0mself\u001b[0m\u001b[0;34m.\u001b[0m\u001b[0m_info_axis\u001b[0m\u001b[0;34m.\u001b[0m\u001b[0m_can_hold_identifiers_and_holds_name\u001b[0m\u001b[0;34m(\u001b[0m\u001b[0mname\u001b[0m\u001b[0;34m)\u001b[0m\u001b[0;34m\u001b[0m\u001b[0;34m\u001b[0m\u001b[0m\n\u001b[1;32m   6294\u001b[0m         ):\n\u001b[1;32m   6295\u001b[0m             \u001b[0;32mreturn\u001b[0m \u001b[0mself\u001b[0m\u001b[0;34m[\u001b[0m\u001b[0mname\u001b[0m\u001b[0;34m]\u001b[0m\u001b[0;34m\u001b[0m\u001b[0;34m\u001b[0m\u001b[0m\n\u001b[0;32m-> 6296\u001b[0;31m         \u001b[0;32mreturn\u001b[0m \u001b[0mobject\u001b[0m\u001b[0;34m.\u001b[0m\u001b[0m__getattribute__\u001b[0m\u001b[0;34m(\u001b[0m\u001b[0mself\u001b[0m\u001b[0;34m,\u001b[0m \u001b[0mname\u001b[0m\u001b[0;34m)\u001b[0m\u001b[0;34m\u001b[0m\u001b[0;34m\u001b[0m\u001b[0m\n\u001b[0m",
      "\u001b[0;31mAttributeError\u001b[0m: 'Series' object has no attribute 'reshape'"
     ]
    }
   ],
   "source": [
    "# Assuming X_train is a Series\n",
    "X_train_2d = X_train.reshape(-1, 1)  # Reshape to a 2D array with one column\n",
    "\n",
    "\n",
    "model = LinearRegression()\n",
    "model.fit(X_train_2d, y_train)"
   ]
  },
  {
   "cell_type": "code",
   "execution_count": null,
   "id": "68fcf8e4-1f63-4f49-a449-a615b4c0ced3",
   "metadata": {},
   "outputs": [],
   "source": []
  },
  {
   "cell_type": "code",
   "execution_count": null,
   "id": "d8583dea-4192-4082-a01f-4344db92917f",
   "metadata": {},
   "outputs": [],
   "source": []
  },
  {
   "cell_type": "code",
   "execution_count": null,
   "id": "4928fbf4-d3e3-429a-8e8d-905a9f2f154c",
   "metadata": {},
   "outputs": [],
   "source": []
  },
  {
   "cell_type": "code",
   "execution_count": null,
   "id": "53f48123-552e-484a-8b40-c2b6afa654e1",
   "metadata": {},
   "outputs": [],
   "source": []
  },
  {
   "cell_type": "code",
   "execution_count": null,
   "id": "304540b8-c7ed-44e4-acf8-fde821df9b84",
   "metadata": {},
   "outputs": [],
   "source": []
  },
  {
   "cell_type": "code",
   "execution_count": null,
   "id": "e1811fa7-2995-458e-b992-9e3a4a003621",
   "metadata": {},
   "outputs": [],
   "source": []
  },
  {
   "cell_type": "code",
   "execution_count": null,
   "id": "acef48e4-e556-4039-aed2-5a5fc2d0e8d7",
   "metadata": {},
   "outputs": [],
   "source": []
  },
  {
   "cell_type": "markdown",
   "id": "e1e9f930-a0fb-469e-91e6-7121424d7459",
   "metadata": {
    "jp-MarkdownHeadingCollapsed": true
   },
   "source": [
    "# Ciprofloxacin Resistance Strict Database"
   ]
  },
  {
   "cell_type": "code",
   "execution_count": 25,
   "id": "4d315930-4364-449b-912c-bb443e05c86b",
   "metadata": {},
   "outputs": [
    {
     "data": {
      "text/html": [
       "<div>\n",
       "<style scoped>\n",
       "    .dataframe tbody tr th:only-of-type {\n",
       "        vertical-align: middle;\n",
       "    }\n",
       "\n",
       "    .dataframe tbody tr th {\n",
       "        vertical-align: top;\n",
       "    }\n",
       "\n",
       "    .dataframe thead th {\n",
       "        text-align: right;\n",
       "    }\n",
       "</style>\n",
       "<table border=\"1\" class=\"dataframe\">\n",
       "  <thead>\n",
       "    <tr style=\"text-align: right;\">\n",
       "      <th></th>\n",
       "      <th>accession</th>\n",
       "      <th>genus</th>\n",
       "      <th>species</th>\n",
       "      <th>phenotype</th>\n",
       "      <th>mic</th>\n",
       "      <th>3005053</th>\n",
       "      <th>3000830</th>\n",
       "      <th>3003838</th>\n",
       "      <th>3000508</th>\n",
       "      <th>3003890</th>\n",
       "      <th>...</th>\n",
       "      <th>3007751-D87Y</th>\n",
       "      <th>3003926-D87Y</th>\n",
       "      <th>3003709-G46S</th>\n",
       "      <th>3004851-A39T</th>\n",
       "      <th>3004832-A501P</th>\n",
       "      <th>3003381-R20H</th>\n",
       "      <th>3003926-S83I</th>\n",
       "      <th>3003381-G121D</th>\n",
       "      <th>3004832-T483S</th>\n",
       "      <th>3004832-A311V</th>\n",
       "    </tr>\n",
       "  </thead>\n",
       "  <tbody>\n",
       "    <tr>\n",
       "      <th>0</th>\n",
       "      <td>SRR3138666</td>\n",
       "      <td>Campylobacter</td>\n",
       "      <td>jejuni</td>\n",
       "      <td>Susceptible</td>\n",
       "      <td>0.12</td>\n",
       "      <td>0.0</td>\n",
       "      <td>0.0</td>\n",
       "      <td>0.0</td>\n",
       "      <td>0.0</td>\n",
       "      <td>0.0</td>\n",
       "      <td>...</td>\n",
       "      <td>0.0</td>\n",
       "      <td>0.0</td>\n",
       "      <td>0.0</td>\n",
       "      <td>0.0</td>\n",
       "      <td>0.0</td>\n",
       "      <td>0.0</td>\n",
       "      <td>0.0</td>\n",
       "      <td>0.0</td>\n",
       "      <td>0.0</td>\n",
       "      <td>0.0</td>\n",
       "    </tr>\n",
       "    <tr>\n",
       "      <th>1</th>\n",
       "      <td>SRR3138667</td>\n",
       "      <td>Campylobacter</td>\n",
       "      <td>jejuni</td>\n",
       "      <td>Susceptible</td>\n",
       "      <td>0.06</td>\n",
       "      <td>0.0</td>\n",
       "      <td>0.0</td>\n",
       "      <td>0.0</td>\n",
       "      <td>0.0</td>\n",
       "      <td>0.0</td>\n",
       "      <td>...</td>\n",
       "      <td>0.0</td>\n",
       "      <td>0.0</td>\n",
       "      <td>0.0</td>\n",
       "      <td>0.0</td>\n",
       "      <td>0.0</td>\n",
       "      <td>0.0</td>\n",
       "      <td>0.0</td>\n",
       "      <td>0.0</td>\n",
       "      <td>0.0</td>\n",
       "      <td>0.0</td>\n",
       "    </tr>\n",
       "    <tr>\n",
       "      <th>2</th>\n",
       "      <td>SRR3138668</td>\n",
       "      <td>Campylobacter</td>\n",
       "      <td>jejuni</td>\n",
       "      <td>Susceptible</td>\n",
       "      <td>0.06</td>\n",
       "      <td>0.0</td>\n",
       "      <td>0.0</td>\n",
       "      <td>0.0</td>\n",
       "      <td>0.0</td>\n",
       "      <td>0.0</td>\n",
       "      <td>...</td>\n",
       "      <td>0.0</td>\n",
       "      <td>0.0</td>\n",
       "      <td>0.0</td>\n",
       "      <td>0.0</td>\n",
       "      <td>0.0</td>\n",
       "      <td>0.0</td>\n",
       "      <td>0.0</td>\n",
       "      <td>0.0</td>\n",
       "      <td>0.0</td>\n",
       "      <td>0.0</td>\n",
       "    </tr>\n",
       "    <tr>\n",
       "      <th>3</th>\n",
       "      <td>SRR3138669</td>\n",
       "      <td>Campylobacter</td>\n",
       "      <td>jejuni</td>\n",
       "      <td>Susceptible</td>\n",
       "      <td>0.06</td>\n",
       "      <td>0.0</td>\n",
       "      <td>0.0</td>\n",
       "      <td>0.0</td>\n",
       "      <td>0.0</td>\n",
       "      <td>0.0</td>\n",
       "      <td>...</td>\n",
       "      <td>0.0</td>\n",
       "      <td>0.0</td>\n",
       "      <td>0.0</td>\n",
       "      <td>0.0</td>\n",
       "      <td>0.0</td>\n",
       "      <td>0.0</td>\n",
       "      <td>0.0</td>\n",
       "      <td>0.0</td>\n",
       "      <td>0.0</td>\n",
       "      <td>0.0</td>\n",
       "    </tr>\n",
       "    <tr>\n",
       "      <th>4</th>\n",
       "      <td>SRR3138670</td>\n",
       "      <td>Campylobacter</td>\n",
       "      <td>jejuni</td>\n",
       "      <td>Susceptible</td>\n",
       "      <td>0.06</td>\n",
       "      <td>0.0</td>\n",
       "      <td>0.0</td>\n",
       "      <td>0.0</td>\n",
       "      <td>0.0</td>\n",
       "      <td>0.0</td>\n",
       "      <td>...</td>\n",
       "      <td>0.0</td>\n",
       "      <td>0.0</td>\n",
       "      <td>0.0</td>\n",
       "      <td>0.0</td>\n",
       "      <td>0.0</td>\n",
       "      <td>0.0</td>\n",
       "      <td>0.0</td>\n",
       "      <td>0.0</td>\n",
       "      <td>0.0</td>\n",
       "      <td>0.0</td>\n",
       "    </tr>\n",
       "  </tbody>\n",
       "</table>\n",
       "<p>5 rows × 880 columns</p>\n",
       "</div>"
      ],
      "text/plain": [
       "    accession          genus species    phenotype   mic  3005053  3000830  \\\n",
       "0  SRR3138666  Campylobacter  jejuni  Susceptible  0.12      0.0      0.0   \n",
       "1  SRR3138667  Campylobacter  jejuni  Susceptible  0.06      0.0      0.0   \n",
       "2  SRR3138668  Campylobacter  jejuni  Susceptible  0.06      0.0      0.0   \n",
       "3  SRR3138669  Campylobacter  jejuni  Susceptible  0.06      0.0      0.0   \n",
       "4  SRR3138670  Campylobacter  jejuni  Susceptible  0.06      0.0      0.0   \n",
       "\n",
       "   3003838  3000508  3003890  ...  3007751-D87Y  3003926-D87Y  3003709-G46S  \\\n",
       "0      0.0      0.0      0.0  ...           0.0           0.0           0.0   \n",
       "1      0.0      0.0      0.0  ...           0.0           0.0           0.0   \n",
       "2      0.0      0.0      0.0  ...           0.0           0.0           0.0   \n",
       "3      0.0      0.0      0.0  ...           0.0           0.0           0.0   \n",
       "4      0.0      0.0      0.0  ...           0.0           0.0           0.0   \n",
       "\n",
       "   3004851-A39T  3004832-A501P  3003381-R20H  3003926-S83I  3003381-G121D  \\\n",
       "0           0.0            0.0           0.0           0.0            0.0   \n",
       "1           0.0            0.0           0.0           0.0            0.0   \n",
       "2           0.0            0.0           0.0           0.0            0.0   \n",
       "3           0.0            0.0           0.0           0.0            0.0   \n",
       "4           0.0            0.0           0.0           0.0            0.0   \n",
       "\n",
       "   3004832-T483S  3004832-A311V  \n",
       "0            0.0            0.0  \n",
       "1            0.0            0.0  \n",
       "2            0.0            0.0  \n",
       "3            0.0            0.0  \n",
       "4            0.0            0.0  \n",
       "\n",
       "[5 rows x 880 columns]"
      ]
     },
     "execution_count": 25,
     "metadata": {},
     "output_type": "execute_result"
    }
   ],
   "source": [
    "# Ciprofloxacin Strict Resistance database\n",
    "resis_cipro_S.head()"
   ]
  },
  {
   "cell_type": "code",
   "execution_count": null,
   "id": "70146186-25bf-4bf7-ac17-9c6d566b47f1",
   "metadata": {},
   "outputs": [],
   "source": []
  },
  {
   "cell_type": "code",
   "execution_count": null,
   "id": "23dd8e0f-06e0-496a-b03d-dfc95179829a",
   "metadata": {},
   "outputs": [],
   "source": []
  },
  {
   "cell_type": "code",
   "execution_count": null,
   "id": "e20287a8-33dc-4624-b39a-7a98d64a254c",
   "metadata": {},
   "outputs": [],
   "source": []
  },
  {
   "cell_type": "code",
   "execution_count": null,
   "id": "bc154316-4911-4041-8bc1-b18c7fe1c98d",
   "metadata": {},
   "outputs": [],
   "source": []
  },
  {
   "cell_type": "code",
   "execution_count": null,
   "id": "bf1c2b8b-ff38-4994-85f8-7b13234aaeec",
   "metadata": {},
   "outputs": [],
   "source": []
  },
  {
   "cell_type": "code",
   "execution_count": null,
   "id": "21829fde-39a6-46d0-889b-08bb0e64aa1a",
   "metadata": {},
   "outputs": [],
   "source": []
  },
  {
   "cell_type": "code",
   "execution_count": null,
   "id": "6b50c4e5-6a82-46fa-883e-49219539af50",
   "metadata": {},
   "outputs": [],
   "source": []
  },
  {
   "cell_type": "markdown",
   "id": "b784fe4b-3489-47e8-8038-e8c5fe7b3168",
   "metadata": {
    "jp-MarkdownHeadingCollapsed": true
   },
   "source": [
    "# Meropenem Resistance Loose Database"
   ]
  },
  {
   "cell_type": "code",
   "execution_count": 26,
   "id": "0b36f4a4-6665-48f1-8ceb-c61835b8f583",
   "metadata": {},
   "outputs": [
    {
     "data": {
      "text/html": [
       "<div>\n",
       "<style scoped>\n",
       "    .dataframe tbody tr th:only-of-type {\n",
       "        vertical-align: middle;\n",
       "    }\n",
       "\n",
       "    .dataframe tbody tr th {\n",
       "        vertical-align: top;\n",
       "    }\n",
       "\n",
       "    .dataframe thead th {\n",
       "        text-align: right;\n",
       "    }\n",
       "</style>\n",
       "<table border=\"1\" class=\"dataframe\">\n",
       "  <thead>\n",
       "    <tr style=\"text-align: right;\">\n",
       "      <th></th>\n",
       "      <th>accession</th>\n",
       "      <th>genus</th>\n",
       "      <th>species</th>\n",
       "      <th>phenotype</th>\n",
       "      <th>mic</th>\n",
       "      <th>3000535</th>\n",
       "      <th>3005091</th>\n",
       "      <th>3000833</th>\n",
       "      <th>3003665</th>\n",
       "      <th>3007433</th>\n",
       "      <th>...</th>\n",
       "      <th>3003285-S531G</th>\n",
       "      <th>3007051-I572F</th>\n",
       "      <th>3007051-I837V</th>\n",
       "      <th>3003294-D105E</th>\n",
       "      <th>3003394-S66P</th>\n",
       "      <th>3005106-A352E</th>\n",
       "      <th>3003937-N514H</th>\n",
       "      <th>3003937-L546V</th>\n",
       "      <th>3003304-E540V</th>\n",
       "      <th>3003304-E504V</th>\n",
       "    </tr>\n",
       "  </thead>\n",
       "  <tbody>\n",
       "    <tr>\n",
       "      <th>0</th>\n",
       "      <td>GCA_002947415</td>\n",
       "      <td>Acinetobacter</td>\n",
       "      <td>baumannii</td>\n",
       "      <td>Resistant</td>\n",
       "      <td>8.0</td>\n",
       "      <td>20.0</td>\n",
       "      <td>7.0</td>\n",
       "      <td>19.0</td>\n",
       "      <td>19.0</td>\n",
       "      <td>16.0</td>\n",
       "      <td>...</td>\n",
       "      <td>0.0</td>\n",
       "      <td>0.0</td>\n",
       "      <td>0.0</td>\n",
       "      <td>0.0</td>\n",
       "      <td>0.0</td>\n",
       "      <td>0.0</td>\n",
       "      <td>0.0</td>\n",
       "      <td>0.0</td>\n",
       "      <td>0.0</td>\n",
       "      <td>0.0</td>\n",
       "    </tr>\n",
       "    <tr>\n",
       "      <th>1</th>\n",
       "      <td>GCA_002947845</td>\n",
       "      <td>Acinetobacter</td>\n",
       "      <td>baumannii</td>\n",
       "      <td>Resistant</td>\n",
       "      <td>8.0</td>\n",
       "      <td>18.0</td>\n",
       "      <td>7.0</td>\n",
       "      <td>18.0</td>\n",
       "      <td>18.0</td>\n",
       "      <td>16.0</td>\n",
       "      <td>...</td>\n",
       "      <td>0.0</td>\n",
       "      <td>0.0</td>\n",
       "      <td>0.0</td>\n",
       "      <td>0.0</td>\n",
       "      <td>0.0</td>\n",
       "      <td>0.0</td>\n",
       "      <td>0.0</td>\n",
       "      <td>0.0</td>\n",
       "      <td>0.0</td>\n",
       "      <td>0.0</td>\n",
       "    </tr>\n",
       "    <tr>\n",
       "      <th>2</th>\n",
       "      <td>GCA_002948925</td>\n",
       "      <td>Acinetobacter</td>\n",
       "      <td>baumannii</td>\n",
       "      <td>Resistant</td>\n",
       "      <td>8.0</td>\n",
       "      <td>19.0</td>\n",
       "      <td>6.0</td>\n",
       "      <td>15.0</td>\n",
       "      <td>18.0</td>\n",
       "      <td>14.0</td>\n",
       "      <td>...</td>\n",
       "      <td>0.0</td>\n",
       "      <td>0.0</td>\n",
       "      <td>0.0</td>\n",
       "      <td>0.0</td>\n",
       "      <td>0.0</td>\n",
       "      <td>0.0</td>\n",
       "      <td>0.0</td>\n",
       "      <td>0.0</td>\n",
       "      <td>0.0</td>\n",
       "      <td>0.0</td>\n",
       "    </tr>\n",
       "    <tr>\n",
       "      <th>3</th>\n",
       "      <td>GCA_002996805</td>\n",
       "      <td>Acinetobacter</td>\n",
       "      <td>baumannii</td>\n",
       "      <td>Resistant</td>\n",
       "      <td>8.0</td>\n",
       "      <td>18.0</td>\n",
       "      <td>7.0</td>\n",
       "      <td>19.0</td>\n",
       "      <td>18.0</td>\n",
       "      <td>15.0</td>\n",
       "      <td>...</td>\n",
       "      <td>0.0</td>\n",
       "      <td>0.0</td>\n",
       "      <td>0.0</td>\n",
       "      <td>0.0</td>\n",
       "      <td>0.0</td>\n",
       "      <td>0.0</td>\n",
       "      <td>0.0</td>\n",
       "      <td>0.0</td>\n",
       "      <td>0.0</td>\n",
       "      <td>0.0</td>\n",
       "    </tr>\n",
       "    <tr>\n",
       "      <th>4</th>\n",
       "      <td>GCA_003006035</td>\n",
       "      <td>Acinetobacter</td>\n",
       "      <td>baumannii</td>\n",
       "      <td>Resistant</td>\n",
       "      <td>8.0</td>\n",
       "      <td>20.0</td>\n",
       "      <td>8.0</td>\n",
       "      <td>17.0</td>\n",
       "      <td>21.0</td>\n",
       "      <td>16.0</td>\n",
       "      <td>...</td>\n",
       "      <td>0.0</td>\n",
       "      <td>0.0</td>\n",
       "      <td>0.0</td>\n",
       "      <td>0.0</td>\n",
       "      <td>0.0</td>\n",
       "      <td>0.0</td>\n",
       "      <td>0.0</td>\n",
       "      <td>0.0</td>\n",
       "      <td>0.0</td>\n",
       "      <td>0.0</td>\n",
       "    </tr>\n",
       "  </tbody>\n",
       "</table>\n",
       "<p>5 rows × 5570 columns</p>\n",
       "</div>"
      ],
      "text/plain": [
       "       accession          genus    species  phenotype  mic  3000535  3005091  \\\n",
       "0  GCA_002947415  Acinetobacter  baumannii  Resistant  8.0     20.0      7.0   \n",
       "1  GCA_002947845  Acinetobacter  baumannii  Resistant  8.0     18.0      7.0   \n",
       "2  GCA_002948925  Acinetobacter  baumannii  Resistant  8.0     19.0      6.0   \n",
       "3  GCA_002996805  Acinetobacter  baumannii  Resistant  8.0     18.0      7.0   \n",
       "4  GCA_003006035  Acinetobacter  baumannii  Resistant  8.0     20.0      8.0   \n",
       "\n",
       "   3000833  3003665  3007433  ...  3003285-S531G  3007051-I572F  \\\n",
       "0     19.0     19.0     16.0  ...            0.0            0.0   \n",
       "1     18.0     18.0     16.0  ...            0.0            0.0   \n",
       "2     15.0     18.0     14.0  ...            0.0            0.0   \n",
       "3     19.0     18.0     15.0  ...            0.0            0.0   \n",
       "4     17.0     21.0     16.0  ...            0.0            0.0   \n",
       "\n",
       "   3007051-I837V  3003294-D105E  3003394-S66P  3005106-A352E  3003937-N514H  \\\n",
       "0            0.0            0.0           0.0            0.0            0.0   \n",
       "1            0.0            0.0           0.0            0.0            0.0   \n",
       "2            0.0            0.0           0.0            0.0            0.0   \n",
       "3            0.0            0.0           0.0            0.0            0.0   \n",
       "4            0.0            0.0           0.0            0.0            0.0   \n",
       "\n",
       "   3003937-L546V  3003304-E540V  3003304-E504V  \n",
       "0            0.0            0.0            0.0  \n",
       "1            0.0            0.0            0.0  \n",
       "2            0.0            0.0            0.0  \n",
       "3            0.0            0.0            0.0  \n",
       "4            0.0            0.0            0.0  \n",
       "\n",
       "[5 rows x 5570 columns]"
      ]
     },
     "execution_count": 26,
     "metadata": {},
     "output_type": "execute_result"
    }
   ],
   "source": [
    "# Meropenem Loose Resistance database\n",
    "resis_mero_L.head()"
   ]
  },
  {
   "cell_type": "code",
   "execution_count": null,
   "id": "f57cb2cb-6f47-4735-91c6-a54cc248dd97",
   "metadata": {},
   "outputs": [],
   "source": []
  },
  {
   "cell_type": "code",
   "execution_count": null,
   "id": "942a7393-3814-4fbc-98d1-8f4f655363f6",
   "metadata": {},
   "outputs": [],
   "source": []
  },
  {
   "cell_type": "code",
   "execution_count": null,
   "id": "630d3a7e-bb7d-428e-aa61-3455570eb339",
   "metadata": {},
   "outputs": [],
   "source": []
  },
  {
   "cell_type": "code",
   "execution_count": null,
   "id": "d9cd263c-01c5-4b69-a780-8383ab647dff",
   "metadata": {},
   "outputs": [],
   "source": []
  },
  {
   "cell_type": "code",
   "execution_count": null,
   "id": "c24b5465-10b3-410f-ac99-f8679bf6ff60",
   "metadata": {},
   "outputs": [],
   "source": []
  },
  {
   "cell_type": "code",
   "execution_count": null,
   "id": "083f5d7d-0645-47b0-8a35-4de921121c61",
   "metadata": {},
   "outputs": [],
   "source": []
  },
  {
   "cell_type": "code",
   "execution_count": null,
   "id": "ae887031-514c-4a92-b11b-1b56d23208a1",
   "metadata": {},
   "outputs": [],
   "source": []
  },
  {
   "cell_type": "code",
   "execution_count": null,
   "id": "c01f1d8e-507c-42a0-a69c-6d634a4dcaae",
   "metadata": {},
   "outputs": [],
   "source": []
  },
  {
   "cell_type": "code",
   "execution_count": null,
   "id": "3a0b2424-0429-405c-a87d-4ffdeca4c0eb",
   "metadata": {},
   "outputs": [],
   "source": []
  },
  {
   "cell_type": "markdown",
   "id": "a3b5f8ed-2beb-4782-a84e-71f93aed54a6",
   "metadata": {
    "jp-MarkdownHeadingCollapsed": true
   },
   "source": [
    "# Meropenem Resistance Strict Database"
   ]
  },
  {
   "cell_type": "code",
   "execution_count": 29,
   "id": "082c1f60-5884-4b0a-bf13-ddc5f83b1470",
   "metadata": {},
   "outputs": [
    {
     "data": {
      "text/html": [
       "<div>\n",
       "<style scoped>\n",
       "    .dataframe tbody tr th:only-of-type {\n",
       "        vertical-align: middle;\n",
       "    }\n",
       "\n",
       "    .dataframe tbody tr th {\n",
       "        vertical-align: top;\n",
       "    }\n",
       "\n",
       "    .dataframe thead th {\n",
       "        text-align: right;\n",
       "    }\n",
       "</style>\n",
       "<table border=\"1\" class=\"dataframe\">\n",
       "  <thead>\n",
       "    <tr style=\"text-align: right;\">\n",
       "      <th></th>\n",
       "      <th>accession</th>\n",
       "      <th>genus</th>\n",
       "      <th>species</th>\n",
       "      <th>phenotype</th>\n",
       "      <th>mic</th>\n",
       "      <th>3005053</th>\n",
       "      <th>3000830</th>\n",
       "      <th>3003838</th>\n",
       "      <th>3000508</th>\n",
       "      <th>3003890</th>\n",
       "      <th>...</th>\n",
       "      <th>3007751-D87Y</th>\n",
       "      <th>3003926-D87Y</th>\n",
       "      <th>3003709-G46S</th>\n",
       "      <th>3004851-A39T</th>\n",
       "      <th>3004832-A501P</th>\n",
       "      <th>3003381-R20H</th>\n",
       "      <th>3003926-S83I</th>\n",
       "      <th>3003381-G121D</th>\n",
       "      <th>3004832-T483S</th>\n",
       "      <th>3004832-A311V</th>\n",
       "    </tr>\n",
       "  </thead>\n",
       "  <tbody>\n",
       "    <tr>\n",
       "      <th>0</th>\n",
       "      <td>GCA_002947415</td>\n",
       "      <td>Acinetobacter</td>\n",
       "      <td>baumannii</td>\n",
       "      <td>Resistant</td>\n",
       "      <td>8.0</td>\n",
       "      <td>0.0</td>\n",
       "      <td>0.0</td>\n",
       "      <td>0.0</td>\n",
       "      <td>0.0</td>\n",
       "      <td>0.0</td>\n",
       "      <td>...</td>\n",
       "      <td>0.0</td>\n",
       "      <td>0.0</td>\n",
       "      <td>0.0</td>\n",
       "      <td>0.0</td>\n",
       "      <td>0.0</td>\n",
       "      <td>0.0</td>\n",
       "      <td>0.0</td>\n",
       "      <td>0.0</td>\n",
       "      <td>0.0</td>\n",
       "      <td>0.0</td>\n",
       "    </tr>\n",
       "    <tr>\n",
       "      <th>1</th>\n",
       "      <td>GCA_002947845</td>\n",
       "      <td>Acinetobacter</td>\n",
       "      <td>baumannii</td>\n",
       "      <td>Resistant</td>\n",
       "      <td>8.0</td>\n",
       "      <td>0.0</td>\n",
       "      <td>0.0</td>\n",
       "      <td>0.0</td>\n",
       "      <td>0.0</td>\n",
       "      <td>0.0</td>\n",
       "      <td>...</td>\n",
       "      <td>0.0</td>\n",
       "      <td>0.0</td>\n",
       "      <td>0.0</td>\n",
       "      <td>0.0</td>\n",
       "      <td>0.0</td>\n",
       "      <td>0.0</td>\n",
       "      <td>0.0</td>\n",
       "      <td>0.0</td>\n",
       "      <td>0.0</td>\n",
       "      <td>0.0</td>\n",
       "    </tr>\n",
       "    <tr>\n",
       "      <th>2</th>\n",
       "      <td>GCA_002948925</td>\n",
       "      <td>Acinetobacter</td>\n",
       "      <td>baumannii</td>\n",
       "      <td>Resistant</td>\n",
       "      <td>8.0</td>\n",
       "      <td>0.0</td>\n",
       "      <td>0.0</td>\n",
       "      <td>0.0</td>\n",
       "      <td>0.0</td>\n",
       "      <td>0.0</td>\n",
       "      <td>...</td>\n",
       "      <td>0.0</td>\n",
       "      <td>0.0</td>\n",
       "      <td>0.0</td>\n",
       "      <td>0.0</td>\n",
       "      <td>0.0</td>\n",
       "      <td>0.0</td>\n",
       "      <td>0.0</td>\n",
       "      <td>0.0</td>\n",
       "      <td>0.0</td>\n",
       "      <td>0.0</td>\n",
       "    </tr>\n",
       "    <tr>\n",
       "      <th>3</th>\n",
       "      <td>GCA_002996805</td>\n",
       "      <td>Acinetobacter</td>\n",
       "      <td>baumannii</td>\n",
       "      <td>Resistant</td>\n",
       "      <td>8.0</td>\n",
       "      <td>0.0</td>\n",
       "      <td>0.0</td>\n",
       "      <td>0.0</td>\n",
       "      <td>0.0</td>\n",
       "      <td>0.0</td>\n",
       "      <td>...</td>\n",
       "      <td>0.0</td>\n",
       "      <td>0.0</td>\n",
       "      <td>0.0</td>\n",
       "      <td>0.0</td>\n",
       "      <td>0.0</td>\n",
       "      <td>0.0</td>\n",
       "      <td>0.0</td>\n",
       "      <td>0.0</td>\n",
       "      <td>0.0</td>\n",
       "      <td>0.0</td>\n",
       "    </tr>\n",
       "    <tr>\n",
       "      <th>4</th>\n",
       "      <td>GCA_003006035</td>\n",
       "      <td>Acinetobacter</td>\n",
       "      <td>baumannii</td>\n",
       "      <td>Resistant</td>\n",
       "      <td>8.0</td>\n",
       "      <td>0.0</td>\n",
       "      <td>0.0</td>\n",
       "      <td>0.0</td>\n",
       "      <td>0.0</td>\n",
       "      <td>0.0</td>\n",
       "      <td>...</td>\n",
       "      <td>0.0</td>\n",
       "      <td>0.0</td>\n",
       "      <td>0.0</td>\n",
       "      <td>0.0</td>\n",
       "      <td>0.0</td>\n",
       "      <td>0.0</td>\n",
       "      <td>0.0</td>\n",
       "      <td>0.0</td>\n",
       "      <td>0.0</td>\n",
       "      <td>0.0</td>\n",
       "    </tr>\n",
       "  </tbody>\n",
       "</table>\n",
       "<p>5 rows × 880 columns</p>\n",
       "</div>"
      ],
      "text/plain": [
       "       accession          genus    species  phenotype  mic  3005053  3000830  \\\n",
       "0  GCA_002947415  Acinetobacter  baumannii  Resistant  8.0      0.0      0.0   \n",
       "1  GCA_002947845  Acinetobacter  baumannii  Resistant  8.0      0.0      0.0   \n",
       "2  GCA_002948925  Acinetobacter  baumannii  Resistant  8.0      0.0      0.0   \n",
       "3  GCA_002996805  Acinetobacter  baumannii  Resistant  8.0      0.0      0.0   \n",
       "4  GCA_003006035  Acinetobacter  baumannii  Resistant  8.0      0.0      0.0   \n",
       "\n",
       "   3003838  3000508  3003890  ...  3007751-D87Y  3003926-D87Y  3003709-G46S  \\\n",
       "0      0.0      0.0      0.0  ...           0.0           0.0           0.0   \n",
       "1      0.0      0.0      0.0  ...           0.0           0.0           0.0   \n",
       "2      0.0      0.0      0.0  ...           0.0           0.0           0.0   \n",
       "3      0.0      0.0      0.0  ...           0.0           0.0           0.0   \n",
       "4      0.0      0.0      0.0  ...           0.0           0.0           0.0   \n",
       "\n",
       "   3004851-A39T  3004832-A501P  3003381-R20H  3003926-S83I  3003381-G121D  \\\n",
       "0           0.0            0.0           0.0           0.0            0.0   \n",
       "1           0.0            0.0           0.0           0.0            0.0   \n",
       "2           0.0            0.0           0.0           0.0            0.0   \n",
       "3           0.0            0.0           0.0           0.0            0.0   \n",
       "4           0.0            0.0           0.0           0.0            0.0   \n",
       "\n",
       "   3004832-T483S  3004832-A311V  \n",
       "0            0.0            0.0  \n",
       "1            0.0            0.0  \n",
       "2            0.0            0.0  \n",
       "3            0.0            0.0  \n",
       "4            0.0            0.0  \n",
       "\n",
       "[5 rows x 880 columns]"
      ]
     },
     "execution_count": 29,
     "metadata": {},
     "output_type": "execute_result"
    }
   ],
   "source": [
    "# Meropenem Strict Resistance database\n",
    "resis_mero_S.head()"
   ]
  },
  {
   "cell_type": "code",
   "execution_count": null,
   "id": "f869e866-b5f5-4dfd-bbbc-fac2e44e5bf7",
   "metadata": {},
   "outputs": [],
   "source": []
  }
 ],
 "metadata": {
  "kernelspec": {
   "display_name": "umap",
   "language": "python",
   "name": "umap"
  },
  "language_info": {
   "codemirror_mode": {
    "name": "ipython",
    "version": 3
   },
   "file_extension": ".py",
   "mimetype": "text/x-python",
   "name": "python",
   "nbconvert_exporter": "python",
   "pygments_lexer": "ipython3",
   "version": "3.9.19"
  }
 },
 "nbformat": 4,
 "nbformat_minor": 5
}
