{
 "cells": [
  {
   "cell_type": "code",
   "execution_count": 1,
   "id": "19fe0fe3",
   "metadata": {},
   "outputs": [],
   "source": [
    "from sklearn.linear_model import Lasso\n",
    "from sklearn.linear_model import LassoCV\n",
    "from sklearn.metrics import confusion_matrix, accuracy_score\n",
    "import numpy as np\n",
    "import pandas as pd\n",
    "import seaborn as sns\n",
    "import matplotlib.pyplot as plt"
   ]
  },
  {
   "cell_type": "code",
   "execution_count": 2,
   "id": "dd9ed976",
   "metadata": {},
   "outputs": [
    {
     "name": "stdout",
     "output_type": "stream",
     "text": [
      "shape: (3_565, 72_066)\n",
      "┌───────────┬───────────┬──────────┬───────────┬───┬───────────┬───────────┬───────────┬───────────┐\n",
      "│ accession ┆ genus     ┆ species  ┆ phenotype ┆ … ┆ DRR148331 ┆ DRR148331 ┆ DRR148367 ┆ ERR199544 │\n",
      "│ ---       ┆ ---       ┆ ---      ┆ ---       ┆   ┆ _CDS_1796 ┆ _CDS_2756 ┆ _CDS_4758 ┆ 2_CDS_381 │\n",
      "│ str       ┆ str       ┆ str      ┆ str       ┆   ┆ ---       ┆ ---       ┆ ---       ┆ 4         │\n",
      "│           ┆           ┆          ┆           ┆   ┆ f64       ┆ f64       ┆ f64       ┆ ---       │\n",
      "│           ┆           ┆          ┆           ┆   ┆           ┆           ┆           ┆ f64       │\n",
      "╞═══════════╪═══════════╪══════════╪═══════════╪═══╪═══════════╪═══════════╪═══════════╪═══════════╡\n",
      "│ SRR313866 ┆ Campyloba ┆ jejuni   ┆ Susceptib ┆ … ┆ 0.0       ┆ 0.0       ┆ 0.0       ┆ 0.0       │\n",
      "│ 6         ┆ cter      ┆          ┆ le        ┆   ┆           ┆           ┆           ┆           │\n",
      "│ SRR313867 ┆ Campyloba ┆ jejuni   ┆ Susceptib ┆ … ┆ 0.0       ┆ 0.0       ┆ 0.0       ┆ 0.0       │\n",
      "│ 5         ┆ cter      ┆          ┆ le        ┆   ┆           ┆           ┆           ┆           │\n",
      "│ SRR313867 ┆ Campyloba ┆ jejuni   ┆ Resistant ┆ … ┆ 0.0       ┆ 0.0       ┆ 0.0       ┆ 0.0       │\n",
      "│ 6         ┆ cter      ┆          ┆           ┆   ┆           ┆           ┆           ┆           │\n",
      "│ SRR313868 ┆ Campyloba ┆ jejuni   ┆ Resistant ┆ … ┆ 0.0       ┆ 0.0       ┆ 0.0       ┆ 0.0       │\n",
      "│ 1         ┆ cter      ┆          ┆           ┆   ┆           ┆           ┆           ┆           │\n",
      "│ SRR313868 ┆ Campyloba ┆ jejuni   ┆ Susceptib ┆ … ┆ 0.0       ┆ 0.0       ┆ 0.0       ┆ 0.0       │\n",
      "│ 3         ┆ cter      ┆          ┆ le        ┆   ┆           ┆           ┆           ┆           │\n",
      "│ …         ┆ …         ┆ …        ┆ …         ┆ … ┆ …         ┆ …         ┆ …         ┆ …         │\n",
      "│ SRR324234 ┆ Salmonell ┆ enterica ┆ null      ┆ … ┆ 0.0       ┆ 0.0       ┆ 0.0       ┆ 0.0       │\n",
      "│ 3         ┆ a         ┆          ┆           ┆   ┆           ┆           ┆           ┆           │\n",
      "│ SRR208285 ┆ Salmonell ┆ enterica ┆ null      ┆ … ┆ 0.0       ┆ 0.0       ┆ 0.0       ┆ 0.0       │\n",
      "│ 6         ┆ a         ┆          ┆           ┆   ┆           ┆           ┆           ┆           │\n",
      "│ SRR324236 ┆ Salmonell ┆ enterica ┆ null      ┆ … ┆ 0.0       ┆ 0.0       ┆ 0.0       ┆ 0.0       │\n",
      "│ 2         ┆ a         ┆          ┆           ┆   ┆           ┆           ┆           ┆           │\n",
      "│ SRR125730 ┆ Salmonell ┆ enterica ┆ null      ┆ … ┆ 0.0       ┆ 0.0       ┆ 0.0       ┆ 0.0       │\n",
      "│ 0         ┆ a         ┆          ┆           ┆   ┆           ┆           ┆           ┆           │\n",
      "│ SRR428058 ┆ Salmonell ┆ enterica ┆ null      ┆ … ┆ 0.0       ┆ 0.0       ┆ 0.0       ┆ 0.0       │\n",
      "│ 0         ┆ a         ┆          ┆           ┆   ┆           ┆           ┆           ┆           │\n",
      "└───────────┴───────────┴──────────┴───────────┴───┴───────────┴───────────┴───────────┴───────────┘\n"
     ]
    }
   ],
   "source": [
    "#pip install polars\n",
    "import polars as pl\n",
    "# Lee el archivo TSV\n",
    "df_polar = pl.read_csv(\"PangenomeCountCiprofloxacin.tsv\", separator='\\t')\n",
    "\n",
    "# Muestra el DataFrame\n",
    "print(df_polar)\n",
    "#Convertir a pandas\n",
    "df = df_polar.to_pandas()"
   ]
  },
  {
   "cell_type": "code",
   "execution_count": 3,
   "id": "8a15339c",
   "metadata": {},
   "outputs": [],
   "source": [
    "DF_non_test= df[df[\"phenotype\"].isin([\"Resistant\", \"Susceptible\"])]\n",
    "#DF_non_test=DF_non_test.drop(columns=['measurement_value'])\n",
    "DF_test= df[df[\"phenotype\"].isna()]\n",
    "#DF_test=DF_test.drop(columns=['measurement_value'])"
   ]
  },
  {
   "cell_type": "code",
   "execution_count": 4,
   "id": "72657a46",
   "metadata": {
    "scrolled": true
   },
   "outputs": [
    {
     "data": {
      "text/plain": [
       "accession               object\n",
       "genus                   object\n",
       "species                 object\n",
       "phenotype               object\n",
       "measurement_value      float64\n",
       "                        ...   \n",
       "DRR148331_CDS_0100     float64\n",
       "DRR148331_CDS_1796     float64\n",
       "DRR148331_CDS_2756     float64\n",
       "DRR148367_CDS_4758     float64\n",
       "ERR1995442_CDS_3814    float64\n",
       "Length: 72066, dtype: object"
      ]
     },
     "execution_count": 4,
     "metadata": {},
     "output_type": "execute_result"
    }
   ],
   "source": [
    "DF_non_test.dtypes"
   ]
  },
  {
   "cell_type": "code",
   "execution_count": 5,
   "id": "2efa0911",
   "metadata": {},
   "outputs": [],
   "source": [
    "#from sklearn.linear_model import LassoCV\n",
    "#from sklearn.linear_model import Lasso\n",
    "from sklearn.model_selection import train_test_split\n",
    "import warnings\n",
    "warnings.filterwarnings('ignore')"
   ]
  },
  {
   "cell_type": "code",
   "execution_count": 17,
   "id": "f581637a",
   "metadata": {},
   "outputs": [
    {
     "data": {
      "text/plain": [
       "phenotype\n",
       "Susceptible    379\n",
       "Resistant       89\n",
       "Name: count, dtype: int64"
      ]
     },
     "execution_count": 17,
     "metadata": {},
     "output_type": "execute_result"
    }
   ],
   "source": [
    "DF_non_test[DF_non_test[\"genus\"]==\"Campylobacter\"][\"phenotype\"].value_counts()"
   ]
  },
  {
   "cell_type": "code",
   "execution_count": 7,
   "id": "d5a3e0a5",
   "metadata": {},
   "outputs": [
    {
     "name": "stdout",
     "output_type": "stream",
     "text": [
      "0    Susceptible\n",
      "1    Susceptible\n",
      "2      Resistant\n",
      "3      Resistant\n",
      "4    Susceptible\n",
      "Name: phenotype, dtype: object\n",
      "[1 1 0 ... 1 1 1]\n"
     ]
    }
   ],
   "source": [
    "labels= DF_non_test.iloc[:,3]\n",
    "print(labels.head())\n",
    "from sklearn.preprocessing import LabelEncoder\n",
    "label_encoder = LabelEncoder()\n",
    "\n",
    "# Fit and transform the labels\n",
    "encoded_labels = label_encoder.fit_transform(labels)\n",
    "\n",
    "# Print the encoded labels\n",
    "print(encoded_labels)"
   ]
  },
  {
   "cell_type": "code",
   "execution_count": 8,
   "id": "407b2ddf",
   "metadata": {},
   "outputs": [],
   "source": [
    "# División de los datos en train y test\n",
    "X_train, X_test, y_train, y_test = train_test_split(\n",
    "                                        DF_non_test.iloc[:, 5:],\n",
    "                                        encoded_labels,\n",
    "                                        train_size   = 0.7,\n",
    "                                        random_state = 42,\n",
    "                                        shuffle      = True\n",
    "                                    )"
   ]
  },
  {
   "cell_type": "code",
   "execution_count": null,
   "id": "23e1509f",
   "metadata": {},
   "outputs": [],
   "source": [
    "# Encontrar las mejores alphas\n",
    "\n",
    "alphas = np.logspace(-3, 3, 200)\n",
    "\n",
    "# Set up the LassoCV model\n",
    "lasso_cv = LassoCV(alphas=alphas, cv=10, random_state=42)\n",
    "\n",
    "# Fit the model on the training data\n",
    "lasso_cv.fit(X_train, y_train)\n",
    "\n",
    "# Retrieve the best alpha value\n",
    "best_alpha = lasso_cv.alpha_\n",
    "print(f\"The best alpha value is: {best_alpha}\")\n",
    "\n",
    "# You can now use this best_alpha to train a final Lasso model\n",
    "final_model = Lasso(alpha=best_alpha)\n",
    "final_model.fit(X_train, y_train)\n",
    "\n",
    "# Evaluate the model\n",
    "print(f\"Training score: {final_model.score(X_train, y_train)}\")\n",
    "print(f\"Testing score: {final_model.score(X_test, y_test)}\")"
   ]
  },
  {
   "cell_type": "code",
   "execution_count": null,
   "id": "61346d71",
   "metadata": {},
   "outputs": [],
   "source": [
    "#murió el proceso pero el resultado de la celda anterior fue:\n",
    "best_alpha = 0.002300430119772917"
   ]
  },
  {
   "cell_type": "code",
   "execution_count": 18,
   "id": "1dc63694",
   "metadata": {},
   "outputs": [
    {
     "ename": "NameError",
     "evalue": "name 'best_alpha' is not defined",
     "output_type": "error",
     "traceback": [
      "\u001b[0;31m---------------------------------------------------------------------------\u001b[0m",
      "\u001b[0;31mNameError\u001b[0m                                 Traceback (most recent call last)",
      "Cell \u001b[0;32mIn [18], line 1\u001b[0m\n\u001b[0;32m----> 1\u001b[0m modelo \u001b[38;5;241m=\u001b[39m Lasso(alpha\u001b[38;5;241m=\u001b[39m\u001b[43mbest_alpha\u001b[49m)\n\u001b[1;32m      2\u001b[0m \u001b[38;5;66;03m#modelo = Lasso(alpha=0.004880251583654434)\u001b[39;00m\n\u001b[1;32m      4\u001b[0m modelo\u001b[38;5;241m.\u001b[39mfit(X_train, y_train)\n",
      "\u001b[0;31mNameError\u001b[0m: name 'best_alpha' is not defined"
     ]
    }
   ],
   "source": [
    "modelo = Lasso(alpha=best_alpha)\n",
    "#modelo = Lasso(alpha=0.004880251583654434)\n",
    "\n",
    "modelo.fit(X_train, y_train)"
   ]
  },
  {
   "cell_type": "code",
   "execution_count": null,
   "id": "97d09ce9",
   "metadata": {},
   "outputs": [],
   "source": [
    "# Coeficientes del modelo\n",
    "# ==============================================================================\n",
    "df_coeficientes = pd.DataFrame(\n",
    "                        {'predictor': X_train.columns,\n",
    "                         'coef': modelo.coef_.flatten()}\n",
    "                  )\n",
    "\n",
    "# Predictores incluidos en el modelo (coeficiente != 0)\n",
    "df_coeficientes[df_coeficientes.coef != 0]"
   ]
  },
  {
   "cell_type": "code",
   "execution_count": 19,
   "id": "cae60448",
   "metadata": {},
   "outputs": [
    {
     "name": "stdout",
     "output_type": "stream",
     "text": [
      "Accuracy: 0.96\n"
     ]
    },
    {
     "data": {
      "image/png": "[encoded data removed]",
      "text/plain": [
       "<Figure size 800x600 with 2 Axes>"
      ]
     },
     "metadata": {},
     "output_type": "display_data"
    }
   ],
   "source": [
    "y_pred_continuous = modelo.predict(X_test)\n",
    "from sklearn.metrics import confusion_matrix, accuracy_score\n",
    "\n",
    "# Define a threshold to convert continuous predictions to binary classes\n",
    "threshold = 0.5  # Adjust this threshold based on your specific needs\n",
    "\n",
    "# Convert continuous predictions to binary classes\n",
    "y_pred_binary = (y_pred_continuous >= threshold).astype(int)\n",
    "y_test_binary = (y_test >= threshold).astype(int)  # Convert true values to binary as well\n",
    "\n",
    "# Calculate the confusion matrix\n",
    "conf_matrix = confusion_matrix(y_test_binary, y_pred_binary)\n",
    "accuracy = accuracy_score(y_test_binary, y_pred_binary)\n",
    "\n",
    "# Print the accuracy\n",
    "print(f\"Accuracy: {accuracy:.2f}\")\n",
    "\n",
    "plt.figure(figsize=(8, 6))\n",
    "sns.heatmap(conf_matrix, annot=True, fmt='d', cmap='Blues')\n",
    "plt.title('Confusion Matrix')\n",
    "plt.ylabel('Actual')\n",
    "plt.xlabel('Predicted')\n",
    "plt.show()"
   ]
  },
  {
   "cell_type": "code",
   "execution_count": 20,
   "id": "ef8d399d",
   "metadata": {},
   "outputs": [
    {
     "name": "stdout",
     "output_type": "stream",
     "text": [
      "[1 1 1 1 1 1 1 1 1 1 1 1 1 1 1 1 1 1 1 1 1 1 1 1 1 1 1 1 1 1 1 1 1 1 1 1 1\n",
      " 1 1 1 1 1 1 1 1 1 1 1 1 1 1 1 1 1 1 1 1 1 1 1 1 1 1 1 1 1 1 1 1 1 1 1 1 1\n",
      " 1 1 1 1 1 1 1 1 1 1 1 1 1 1 1 1 1 1 1 1 1 1 1 1 1 1 1 1 1 1 1 1 1 1 1 1 1\n",
      " 1 1 1 1 1 1 1 1 1 1 1 1 1 1 1 1 1 1 1 1 1 1 1 1 1 1 1 1 1 1 1 1 1 1 1 1 1\n",
      " 1 1 1 1 1 1 1 1 1 1 1 1 1 1 1 1 1 1 1 1 1 1 1 1 1 1 1 1 1 1 1 1 1 1 1 1 1\n",
      " 1 1 1 1 1 1 1 1 1 1 1 1 1 1 1 1 1 1 1 1 1 1 1 1 1 1 1 1 1 1 1 1 1 1 1 1 1\n",
      " 1 1 1 1 1 1 1 1 1 1 1 1 1 1 1 1 1 1 1 1 1 1 1 1 1 1 1 1 1 1 1 1 1 1 1 1 1\n",
      " 1 1 1 1 1 1 1 1 1 1 1 1 1 1 1 1 1 1 1 1 1 1 1 1 1 1 1 1 1 1 1 1 0 0 1 1 1\n",
      " 1 1 1 1 0 0 1 1 1 0 0 1 1 1 1 0 1 1 0 1 1 1 1 1 1 1 1 0 1 1 1 1 0 1 1 1 0\n",
      " 1 1 1 1 1 1 1 1 1 1 1 1 1 1 1 1 1 1 0 1 1 1 1 1 1 1 0 0 1 1 1 0 0 1 1 1 1\n",
      " 0 1 1 0 1 1 1 1 1 1 1 1 1 1 1 1 1 1 1 1 1 1 1 1 1 1 1 1 1 1 1 1 1 1 1 1 1\n",
      " 1 1 1 1 1 1 1 1 1 1 1 1 1 1 1 1 1 1 1 1 1 1 1 1 1 1 1 1 1 1 1 1 1 1 1 1 1\n",
      " 1 1 1 1 1 1 1 1 1 1 1 1 1 1 1 1 1 1 1 1 1 1 1 1 1 1 1 1 1 1 1 1 1 1 1 1 1\n",
      " 1 1 1 1 1 1 1 1 1 1 1 1 1 1 1 1 1 1 1 1 1 1 1 1 1 1 1 1 1 1 1 1 1 1 1 1 1\n",
      " 1 1 1 1 1 1 1 1 1 1 1 1 1 1 1 1 1 1 1 1 1 1 1 1 1 1 1 1 1 1 1 1 1 1 1 1 1\n",
      " 1 1 1 1 1 1 1 1 1 1 1 1 1 1 1 1 1 1 1 1 1 1 1 1 1 1 1 1 1 1 1 1 1 1 1 1 1\n",
      " 1 1 1 1 1 1 1 1 1 1 1 1 1 1 1 1 1 1 1 1 1 1 1 1 1 1 1 1 1 1 1 1 1 1 1 1 1\n",
      " 1 1 1 1 1 1 1 1 1 1 1 1 1 1 1 1 1 1 1 1 1 1 1 1 1 1 1 1 1 1 1 1 1 1 1 1 1\n",
      " 1 1 1 1 1 1 1 1 1 1 1 1 1 1 1 1 1 1 1 1 1 1 1 1 1 1 1 1 1 1 1 1 1 1 1 1 1\n",
      " 1 1 1 1 1 1 1 1 1 1 1 1 1 1 1 1 1 1 1 1 1 1 1 1 1 1 1 1 1 1 1 1 1 1 1 1 1\n",
      " 1 1 1 1 1 1 1 1 1 1 1 1 1 1 1 1 1 1 1 1]\n"
     ]
    }
   ],
   "source": [
    "y_test_pred_continuous=modelo.predict(DF_test.iloc[:,5:])\n",
    "\n",
    "y_test_pred_binary = (y_test_pred_continuous >= threshold).astype(int)\n",
    "#y_test_binary = (y_test >= threshold).astype(int)  # Convert true values to binary as well\n",
    "\n",
    "print(y_test_pred_binary)"
   ]
  },
  {
   "cell_type": "code",
   "execution_count": 21,
   "id": "ca9af839",
   "metadata": {},
   "outputs": [],
   "source": [
    "Lab_predicted=[]\n",
    "for i in y_test_pred_binary:\n",
    "    if i==1:\n",
    "        Lab_predicted.append(\"Susceptible\")\n",
    "    else:\n",
    "        Lab_predicted.append(\"Resistant\")\n",
    "my_prediction_df=DF_test.iloc[:,:4]\n",
    "my_prediction_df[\"phenotype\"] = Lab_predicted"
   ]
  },
  {
   "cell_type": "code",
   "execution_count": 22,
   "id": "4519a0d2",
   "metadata": {},
   "outputs": [
    {
     "name": "stdout",
     "output_type": "stream",
     "text": [
      "       accession        genus   species    phenotype\n",
      "2805  ERR1417717  Escherichia      coli  Susceptible\n",
      "2806  ERR1417719  Escherichia      coli  Susceptible\n",
      "2807  ERR1417722  Escherichia      coli  Susceptible\n",
      "2808  ERR1417741  Escherichia      coli  Susceptible\n",
      "2809  ERR1417745  Escherichia      coli  Susceptible\n",
      "...          ...          ...       ...          ...\n",
      "3560  SRR3242343   Salmonella  enterica  Susceptible\n",
      "3561  SRR2082856   Salmonella  enterica  Susceptible\n",
      "3562  SRR3242362   Salmonella  enterica  Susceptible\n",
      "3563  SRR1257300   Salmonella  enterica  Susceptible\n",
      "3564  SRR4280580   Salmonella  enterica  Susceptible\n",
      "\n",
      "[760 rows x 4 columns]\n"
     ]
    }
   ],
   "source": [
    "print(my_prediction_df)"
   ]
  },
  {
   "cell_type": "code",
   "execution_count": null,
   "id": "2d71f45b",
   "metadata": {},
   "outputs": [],
   "source": []
  }
 ],
 "metadata": {
  "kernelspec": {
   "display_name": "Python 3 (ipykernel)",
   "language": "python",
   "name": "python3"
  },
  "language_info": {
   "codemirror_mode": {
    "name": "ipython",
    "version": 3
   },
   "file_extension": ".py",
   "mimetype": "text/x-python",
   "name": "python",
   "nbconvert_exporter": "python",
   "pygments_lexer": "ipython3",
   "version": "3.9.7"
  }
 },
 "nbformat": 4,
 "nbformat_minor": 5
}
