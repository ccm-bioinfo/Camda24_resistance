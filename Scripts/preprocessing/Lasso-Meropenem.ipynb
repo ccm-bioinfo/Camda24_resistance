{
 "cells": [
  {
   "cell_type": "code",
   "execution_count": 1,
   "id": "19fe0fe3",
   "metadata": {},
   "outputs": [],
   "source": [
    "from sklearn.linear_model import Lasso\n",
    "from sklearn.metrics import confusion_matrix, accuracy_score\n",
    "import numpy as np\n",
    "import pandas as pd\n",
    "import seaborn as sns\n",
    "import matplotlib.pyplot as plt"
   ]
  },
  {
   "cell_type": "code",
   "execution_count": 2,
   "id": "dd9ed976",
   "metadata": {},
   "outputs": [
    {
     "name": "stdout",
     "output_type": "stream",
     "text": [
      "shape: (5, 196_487)\n",
      "┌───────────┬───────────┬───────────┬───────────┬───┬───────────┬───────────┬───────────┬──────────┐\n",
      "│ accession ┆ genus     ┆ species   ┆ phenotype ┆ … ┆ GCA_00328 ┆ GCA_00328 ┆ GCA_00328 ┆ GCA_0032 │\n",
      "│ ---       ┆ ---       ┆ ---       ┆ ---       ┆   ┆ 8475_CDS_ ┆ 8475_CDS_ ┆ 8475_CDS_ ┆ 88475_CD │\n",
      "│ str       ┆ str       ┆ str       ┆ str       ┆   ┆ 1789      ┆ 1917      ┆ 2109      ┆ S_2205   │\n",
      "│           ┆           ┆           ┆           ┆   ┆ ---       ┆ ---       ┆ ---       ┆ ---      │\n",
      "│           ┆           ┆           ┆           ┆   ┆ f64       ┆ f64       ┆ f64       ┆ f64      │\n",
      "╞═══════════╪═══════════╪═══════════╪═══════════╪═══╪═══════════╪═══════════╪═══════════╪══════════╡\n",
      "│ GCA_00294 ┆ Acinetoba ┆ baumannii ┆ Resistant ┆ … ┆ 0.0       ┆ 0.0       ┆ 0.0       ┆ 0.0      │\n",
      "│ 7415      ┆ cter      ┆           ┆           ┆   ┆           ┆           ┆           ┆          │\n",
      "│ GCA_00294 ┆ Acinetoba ┆ baumannii ┆ Resistant ┆ … ┆ 0.0       ┆ 0.0       ┆ 0.0       ┆ 0.0      │\n",
      "│ 7845      ┆ cter      ┆           ┆           ┆   ┆           ┆           ┆           ┆          │\n",
      "│ GCA_00294 ┆ Acinetoba ┆ baumannii ┆ Resistant ┆ … ┆ 0.0       ┆ 0.0       ┆ 0.0       ┆ 0.0      │\n",
      "│ 8925      ┆ cter      ┆           ┆           ┆   ┆           ┆           ┆           ┆          │\n",
      "│ GCA_00299 ┆ Acinetoba ┆ baumannii ┆ Resistant ┆ … ┆ 0.0       ┆ 0.0       ┆ 0.0       ┆ 0.0      │\n",
      "│ 6805      ┆ cter      ┆           ┆           ┆   ┆           ┆           ┆           ┆          │\n",
      "│ GCA_00300 ┆ Acinetoba ┆ baumannii ┆ Resistant ┆ … ┆ 0.0       ┆ 0.0       ┆ 0.0       ┆ 0.0      │\n",
      "│ 6035      ┆ cter      ┆           ┆           ┆   ┆           ┆           ┆           ┆          │\n",
      "└───────────┴───────────┴───────────┴───────────┴───┴───────────┴───────────┴───────────┴──────────┘\n"
     ]
    }
   ],
   "source": [
    "#pip install polars\n",
    "import polars as pl\n",
    "# Lee el archivo TSV\n",
    "df_polar = pl.read_csv(\"PangenomeCountMeropenem.tsv\", separator='\\t')\n",
    "\n",
    "# Muestra el DataFrame\n",
    "print(df_polar.head())\n",
    "#Convertir a pandas\n",
    "df = df_polar.to_pandas()"
   ]
  },
  {
   "cell_type": "code",
   "execution_count": 3,
   "id": "8a15339c",
   "metadata": {},
   "outputs": [],
   "source": [
    "DF_non_test= df[df[\"phenotype\"].isin([\"Resistant\", \"Susceptible\"])]\n",
    "#DF_non_test=DF_non_test.drop(columns=['measurement_value'])\n",
    "DF_test= df[df[\"phenotype\"].isna()]\n",
    "#DF_test=DF_test.drop(columns=['measurement_value'])"
   ]
  },
  {
   "cell_type": "code",
   "execution_count": 4,
   "id": "72657a46",
   "metadata": {
    "scrolled": true
   },
   "outputs": [
    {
     "data": {
      "text/plain": [
       "accession                  object\n",
       "genus                      object\n",
       "species                    object\n",
       "phenotype                  object\n",
       "measurement_value         float64\n",
       "                           ...   \n",
       "GCA_003288475_CDS_1757    float64\n",
       "GCA_003288475_CDS_1789    float64\n",
       "GCA_003288475_CDS_1917    float64\n",
       "GCA_003288475_CDS_2109    float64\n",
       "GCA_003288475_CDS_2205    float64\n",
       "Length: 196487, dtype: object"
      ]
     },
     "execution_count": 4,
     "metadata": {},
     "output_type": "execute_result"
    }
   ],
   "source": [
    "DF_non_test.dtypes"
   ]
  },
  {
   "cell_type": "code",
   "execution_count": 5,
   "id": "2efa0911",
   "metadata": {},
   "outputs": [],
   "source": [
    "#from sklearn.linear_model import LassoCV\n",
    "#from sklearn.linear_model import Lasso\n",
    "from sklearn.model_selection import train_test_split\n",
    "import warnings\n",
    "warnings.filterwarnings('ignore')"
   ]
  },
  {
   "cell_type": "code",
   "execution_count": 6,
   "id": "d5a3e0a5",
   "metadata": {},
   "outputs": [
    {
     "name": "stdout",
     "output_type": "stream",
     "text": [
      "0    Resistant\n",
      "1    Resistant\n",
      "2    Resistant\n",
      "3    Resistant\n",
      "4    Resistant\n",
      "Name: phenotype, dtype: object\n",
      "[0 0 0 ... 0 0 0]\n"
     ]
    }
   ],
   "source": [
    "labels= DF_non_test.iloc[:,3]\n",
    "print(labels.head())\n",
    "from sklearn.preprocessing import LabelEncoder\n",
    "label_encoder = LabelEncoder()\n",
    "\n",
    "# Fit and transform the labels\n",
    "encoded_labels = label_encoder.fit_transform(labels)\n",
    "\n",
    "# Print the encoded labels\n",
    "print(encoded_labels)"
   ]
  },
  {
   "cell_type": "code",
   "execution_count": 7,
   "id": "407b2ddf",
   "metadata": {},
   "outputs": [],
   "source": [
    "# División de los datos en train y test\n",
    "X_train, X_test, y_train, y_test = train_test_split(\n",
    "                                        DF_non_test.iloc[:, 5:],\n",
    "                                        encoded_labels,\n",
    "                                        train_size   = 0.7,\n",
    "                                        random_state = 42,\n",
    "                                        shuffle      = True\n",
    "                                    )"
   ]
  },
  {
   "cell_type": "code",
   "execution_count": 8,
   "id": "1dc63694",
   "metadata": {},
   "outputs": [
    {
     "data": {
      "text/html": [
       "<style>#sk-container-id-1 {color: black;background-color: white;}#sk-container-id-1 pre{padding: 0;}#sk-container-id-1 div.sk-toggleable {background-color: white;}#sk-container-id-1 label.sk-toggleable__label {cursor: pointer;display: block;width: 100%;margin-bottom: 0;padding: 0.3em;box-sizing: border-box;text-align: center;}#sk-container-id-1 label.sk-toggleable__label-arrow:before {content: \"▸\";float: left;margin-right: 0.25em;color: #696969;}#sk-container-id-1 label.sk-toggleable__label-arrow:hover:before {color: black;}#sk-container-id-1 div.sk-estimator:hover label.sk-toggleable__label-arrow:before {color: black;}#sk-container-id-1 div.sk-toggleable__content {max-height: 0;max-width: 0;overflow: hidden;text-align: left;background-color: #f0f8ff;}#sk-container-id-1 div.sk-toggleable__content pre {margin: 0.2em;color: black;border-radius: 0.25em;background-color: #f0f8ff;}#sk-container-id-1 input.sk-toggleable__control:checked~div.sk-toggleable__content {max-height: 200px;max-width: 100%;overflow: auto;}#sk-container-id-1 input.sk-toggleable__control:checked~label.sk-toggleable__label-arrow:before {content: \"▾\";}#sk-container-id-1 div.sk-estimator input.sk-toggleable__control:checked~label.sk-toggleable__label {background-color: #d4ebff;}#sk-container-id-1 div.sk-label input.sk-toggleable__control:checked~label.sk-toggleable__label {background-color: #d4ebff;}#sk-container-id-1 input.sk-hidden--visually {border: 0;clip: rect(1px 1px 1px 1px);clip: rect(1px, 1px, 1px, 1px);height: 1px;margin: -1px;overflow: hidden;padding: 0;position: absolute;width: 1px;}#sk-container-id-1 div.sk-estimator {font-family: monospace;background-color: #f0f8ff;border: 1px dotted black;border-radius: 0.25em;box-sizing: border-box;margin-bottom: 0.5em;}#sk-container-id-1 div.sk-estimator:hover {background-color: #d4ebff;}#sk-container-id-1 div.sk-parallel-item::after {content: \"\";width: 100%;border-bottom: 1px solid gray;flex-grow: 1;}#sk-container-id-1 div.sk-label:hover label.sk-toggleable__label {background-color: #d4ebff;}#sk-container-id-1 div.sk-serial::before {content: \"\";position: absolute;border-left: 1px solid gray;box-sizing: border-box;top: 0;bottom: 0;left: 50%;z-index: 0;}#sk-container-id-1 div.sk-serial {display: flex;flex-direction: column;align-items: center;background-color: white;padding-right: 0.2em;padding-left: 0.2em;position: relative;}#sk-container-id-1 div.sk-item {position: relative;z-index: 1;}#sk-container-id-1 div.sk-parallel {display: flex;align-items: stretch;justify-content: center;background-color: white;position: relative;}#sk-container-id-1 div.sk-item::before, #sk-container-id-1 div.sk-parallel-item::before {content: \"\";position: absolute;border-left: 1px solid gray;box-sizing: border-box;top: 0;bottom: 0;left: 50%;z-index: -1;}#sk-container-id-1 div.sk-parallel-item {display: flex;flex-direction: column;z-index: 1;position: relative;background-color: white;}#sk-container-id-1 div.sk-parallel-item:first-child::after {align-self: flex-end;width: 50%;}#sk-container-id-1 div.sk-parallel-item:last-child::after {align-self: flex-start;width: 50%;}#sk-container-id-1 div.sk-parallel-item:only-child::after {width: 0;}#sk-container-id-1 div.sk-dashed-wrapped {border: 1px dashed gray;margin: 0 0.4em 0.5em 0.4em;box-sizing: border-box;padding-bottom: 0.4em;background-color: white;}#sk-container-id-1 div.sk-label label {font-family: monospace;font-weight: bold;display: inline-block;line-height: 1.2em;}#sk-container-id-1 div.sk-label-container {text-align: center;}#sk-container-id-1 div.sk-container {/* jupyter's `normalize.less` sets `[hidden] { display: none; }` but bootstrap.min.css set `[hidden] { display: none !important; }` so we also need the `!important` here to be able to override the default hidden behavior on the sphinx rendered scikit-learn.org. See: https://github.com/scikit-learn/scikit-learn/issues/21755 */display: inline-block !important;position: relative;}#sk-container-id-1 div.sk-text-repr-fallback {display: none;}</style><div id=\"sk-container-id-1\" class=\"sk-top-container\"><div class=\"sk-text-repr-fallback\"><pre>Lasso(alpha=0.0049137098466)</pre><b>In a Jupyter environment, please rerun this cell to show the HTML representation or trust the notebook. <br />On GitHub, the HTML representation is unable to render, please try loading this page with nbviewer.org.</b></div><div class=\"sk-container\" hidden><div class=\"sk-item\"><div class=\"sk-estimator sk-toggleable\"><input class=\"sk-toggleable__control sk-hidden--visually\" id=\"sk-estimator-id-1\" type=\"checkbox\" checked><label for=\"sk-estimator-id-1\" class=\"sk-toggleable__label sk-toggleable__label-arrow\">Lasso</label><div class=\"sk-toggleable__content\"><pre>Lasso(alpha=0.0049137098466)</pre></div></div></div></div></div>"
      ],
      "text/plain": [
       "Lasso(alpha=0.0049137098466)"
      ]
     },
     "execution_count": 8,
     "metadata": {},
     "output_type": "execute_result"
    }
   ],
   "source": [
    "modelo = Lasso(alpha=.0049137098466)\n",
    "#modelo = Lasso(alpha=0.004880251583654434)\n",
    "\n",
    "modelo.fit(X_train, y_train)"
   ]
  },
  {
   "cell_type": "code",
   "execution_count": 9,
   "id": "97d09ce9",
   "metadata": {},
   "outputs": [
    {
     "data": {
      "text/html": [
       "<div>\n",
       "<style scoped>\n",
       "    .dataframe tbody tr th:only-of-type {\n",
       "        vertical-align: middle;\n",
       "    }\n",
       "\n",
       "    .dataframe tbody tr th {\n",
       "        vertical-align: top;\n",
       "    }\n",
       "\n",
       "    .dataframe thead th {\n",
       "        text-align: right;\n",
       "    }\n",
       "</style>\n",
       "<table border=\"1\" class=\"dataframe\">\n",
       "  <thead>\n",
       "    <tr style=\"text-align: right;\">\n",
       "      <th></th>\n",
       "      <th>predictor</th>\n",
       "      <th>coef</th>\n",
       "    </tr>\n",
       "  </thead>\n",
       "  <tbody>\n",
       "    <tr>\n",
       "      <th>5</th>\n",
       "      <td>ERR1204815_CDS_0416</td>\n",
       "      <td>-0.005428</td>\n",
       "    </tr>\n",
       "    <tr>\n",
       "      <th>80</th>\n",
       "      <td>ERR1204877_CDS_0770</td>\n",
       "      <td>-0.004942</td>\n",
       "    </tr>\n",
       "    <tr>\n",
       "      <th>132</th>\n",
       "      <td>ERR1204991_CDS_2441</td>\n",
       "      <td>0.001037</td>\n",
       "    </tr>\n",
       "    <tr>\n",
       "      <th>262</th>\n",
       "      <td>ERR1228400_CDS_5262</td>\n",
       "      <td>0.004855</td>\n",
       "    </tr>\n",
       "    <tr>\n",
       "      <th>299</th>\n",
       "      <td>ERR1374907_CDS_4935</td>\n",
       "      <td>-0.004322</td>\n",
       "    </tr>\n",
       "    <tr>\n",
       "      <th>...</th>\n",
       "      <td>...</td>\n",
       "      <td>...</td>\n",
       "    </tr>\n",
       "    <tr>\n",
       "      <th>195685</th>\n",
       "      <td>ERR1204871_CDS_5123</td>\n",
       "      <td>-0.001079</td>\n",
       "    </tr>\n",
       "    <tr>\n",
       "      <th>195827</th>\n",
       "      <td>ERR1217060_CDS_1999</td>\n",
       "      <td>0.001784</td>\n",
       "    </tr>\n",
       "    <tr>\n",
       "      <th>195862</th>\n",
       "      <td>ERR1228345_CDS_5280</td>\n",
       "      <td>0.016574</td>\n",
       "    </tr>\n",
       "    <tr>\n",
       "      <th>195891</th>\n",
       "      <td>ERR1415489_CDS_3481</td>\n",
       "      <td>0.009720</td>\n",
       "    </tr>\n",
       "    <tr>\n",
       "      <th>196375</th>\n",
       "      <td>GCA_002948565_CDS_5444</td>\n",
       "      <td>-0.006519</td>\n",
       "    </tr>\n",
       "  </tbody>\n",
       "</table>\n",
       "<p>230 rows × 2 columns</p>\n",
       "</div>"
      ],
      "text/plain": [
       "                     predictor      coef\n",
       "5          ERR1204815_CDS_0416 -0.005428\n",
       "80         ERR1204877_CDS_0770 -0.004942\n",
       "132        ERR1204991_CDS_2441  0.001037\n",
       "262        ERR1228400_CDS_5262  0.004855\n",
       "299        ERR1374907_CDS_4935 -0.004322\n",
       "...                        ...       ...\n",
       "195685     ERR1204871_CDS_5123 -0.001079\n",
       "195827     ERR1217060_CDS_1999  0.001784\n",
       "195862     ERR1228345_CDS_5280  0.016574\n",
       "195891     ERR1415489_CDS_3481  0.009720\n",
       "196375  GCA_002948565_CDS_5444 -0.006519\n",
       "\n",
       "[230 rows x 2 columns]"
      ]
     },
     "execution_count": 9,
     "metadata": {},
     "output_type": "execute_result"
    }
   ],
   "source": [
    "# Coeficientes del modelo\n",
    "# ==============================================================================\n",
    "df_coeficientes = pd.DataFrame(\n",
    "                        {'predictor': X_train.columns,\n",
    "                         'coef': modelo.coef_.flatten()}\n",
    "                  )\n",
    "\n",
    "# Predictores incluidos en el modelo (coeficiente != 0)\n",
    "df_coeficientes[df_coeficientes.coef != 0]"
   ]
  },
  {
   "cell_type": "code",
   "execution_count": 10,
   "id": "cae60448",
   "metadata": {},
   "outputs": [
    {
     "name": "stdout",
     "output_type": "stream",
     "text": [
      "Accuracy: 0.90\n"
     ]
    },
    {
     "data": {
      "image/png": "[encoded data removed]",
      "text/plain": [
       "<Figure size 800x600 with 2 Axes>"
      ]
     },
     "metadata": {},
     "output_type": "display_data"
    }
   ],
   "source": [
    "y_pred_continuous = modelo.predict(X_test)\n",
    "from sklearn.metrics import confusion_matrix, accuracy_score\n",
    "\n",
    "# Define a threshold to convert continuous predictions to binary classes\n",
    "threshold = 0.5  # Adjust this threshold based on your specific needs\n",
    "\n",
    "# Convert continuous predictions to binary classes\n",
    "y_pred_binary = (y_pred_continuous >= threshold).astype(int)\n",
    "y_test_binary = (y_test >= threshold).astype(int)  # Convert true values to binary as well\n",
    "\n",
    "# Calculate the confusion matrix\n",
    "conf_matrix = confusion_matrix(y_test_binary, y_pred_binary)\n",
    "accuracy = accuracy_score(y_test_binary, y_pred_binary)\n",
    "\n",
    "# Print the accuracy\n",
    "print(f\"Accuracy: {accuracy:.2f}\")\n",
    "\n",
    "plt.figure(figsize=(8, 6))\n",
    "sns.heatmap(conf_matrix, annot=True, fmt='d', cmap='Blues')\n",
    "plt.title('Confusion Matrix')\n",
    "plt.ylabel('Actual')\n",
    "plt.xlabel('Predicted')\n",
    "plt.show()"
   ]
  },
  {
   "cell_type": "code",
   "execution_count": 11,
   "id": "ef8d399d",
   "metadata": {},
   "outputs": [
    {
     "name": "stdout",
     "output_type": "stream",
     "text": [
      "[1 1 1 1 1 1 1 1 1 1 1 1 1 1 1 1 1 1 1 1 1 1 1 1 1 1 1 0 1 1 0 1 1 1 1 1 1\n",
      " 1 1 1 1 1 1 1 1 1 1 1 1 1 1 1 1 1 1 1 1 1 1 1 1 1 1 1 1 1 1 1 1 1 1 1 1 1\n",
      " 1 1 1 1 1 1 1 1 1 1 1 1 1 1 1 1 1 1 1 1 1 1 1 1 1 1 1 1 1 1 1 1 1 1 1 1 1\n",
      " 1 1 1 1 1 1 1 1 1 1 1 1 1 1 1 1 1 1 1 1 1 1 1 1 1 1 1 1 1 1 1 1 1 1 1 1 1\n",
      " 1 1 1 1 1 1 1 1 1 1 0 1 1 1 1 1 1 1 1 1 1 1 1 1 1 1 1 1 1 1 1 1 1 0 1 1 1\n",
      " 1 1 1 1 1 1 1 1 1 1 1 1 1 1 1 1 1 1 1 1 1 1 1 1 1 1 1 1 1 1 1 1 1 1 1 0 1\n",
      " 1 0 1 0 1 1 1 1 1 1 1 1 1 1 0 1 1 1 1 1 1 1 0 1 1 1 1 1 1 1 1 1 1 1 1 1 1\n",
      " 1 1 1 1 1 1 1 1 1 1 1 1 1 1 1 1 1 1 1 1 1 1 1 1 1 0 1 1 1 1 1 1 1 1 1 0 1\n",
      " 1 1 1 1 1 1 1 1 0 1 1 1 1 1 1 1 1 1 1 1 1 1 1 1 1 1 1 1 1 1 1 1 1 1 1 1 1\n",
      " 1 1 1 1 1 1 1 1 1 1 1 1 1 1 1 1 1 1 1 1 1 1 1 1 1 1 1 1 1 0 0 1 1 0 1 0 0\n",
      " 1 1 1 1 1 1 1 1 0 0 1 0 1 1 1 1 1 1 1 1 1 0 1 1 1 1 1 1 1 1 1 1 1 1 1 1 1\n",
      " 1 1 1 1 0 0 1 1 1 1 1 1 1 1 1 1 1 1 0 0 1 0 1 1 1 1 1 1]\n"
     ]
    }
   ],
   "source": [
    "y_test_pred_continuous=modelo.predict(DF_test.iloc[:,5:])\n",
    "\n",
    "y_test_pred_binary = (y_test_pred_continuous >= threshold).astype(int)\n",
    "#y_test_binary = (y_test >= threshold).astype(int)  # Convert true values to binary as well\n",
    "\n",
    "print(y_test_pred_binary)"
   ]
  },
  {
   "cell_type": "code",
   "execution_count": 16,
   "id": "ca9af839",
   "metadata": {},
   "outputs": [],
   "source": [
    "Lab_predicted=[]\n",
    "for i in y_test_pred_binary:\n",
    "    if i==1:\n",
    "        Lab_predicted.append(\"Susceptible\")\n",
    "    else:\n",
    "        Lab_predicted.append(\"Resistant\")\n",
    "my_prediction_df=DF_test.iloc[:,:4]\n",
    "my_prediction_df[\"phenotype\"] = Lab_predicted"
   ]
  },
  {
   "cell_type": "code",
   "execution_count": 17,
   "id": "4519a0d2",
   "metadata": {},
   "outputs": [
    {
     "name": "stdout",
     "output_type": "stream",
     "text": [
      "       accession        genus     species    phenotype\n",
      "2749  ERR1204815   Klebsiella  pneumoniae  Susceptible\n",
      "2750  ERR1204847   Klebsiella  pneumoniae  Susceptible\n",
      "2751  ERR1204852   Klebsiella  pneumoniae  Susceptible\n",
      "2752  ERR1204854   Klebsiella  pneumoniae  Susceptible\n",
      "2753  ERR1204855   Klebsiella  pneumoniae  Susceptible\n",
      "...          ...          ...         ...          ...\n",
      "3179  SRR1056175  Pseudomonas  aeruginosa  Susceptible\n",
      "3180  SRR1056177  Pseudomonas  aeruginosa  Susceptible\n",
      "3181  SRR1056178  Pseudomonas  aeruginosa  Susceptible\n",
      "3182  SRR1056179  Pseudomonas  aeruginosa  Susceptible\n",
      "3183  SRR1056180  Pseudomonas  aeruginosa  Susceptible\n",
      "\n",
      "[435 rows x 4 columns]\n"
     ]
    }
   ],
   "source": [
    "print(my_prediction_df)"
   ]
  }
 ],
 "metadata": {
  "kernelspec": {
   "display_name": "Python 3 (ipykernel)",
   "language": "python",
   "name": "python3"
  },
  "language_info": {
   "codemirror_mode": {
    "name": "ipython",
    "version": 3
   },
   "file_extension": ".py",
   "mimetype": "text/x-python",
   "name": "python",
   "nbconvert_exporter": "python",
   "pygments_lexer": "ipython3",
   "version": "3.9.7"
  }
 },
 "nbformat": 4,
 "nbformat_minor": 5
}
